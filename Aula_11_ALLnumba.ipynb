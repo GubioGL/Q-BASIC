{
 "cells": [
  {
   "cell_type": "markdown",
   "metadata": {
    "id": "-a7Cw_ynlJmy"
   },
   "source": [
    "# Aula 11: "
   ]
  },
  {
   "cell_type": "markdown",
   "metadata": {},
   "source": [
    "*   https://github.com/ContinuumIO/gtc2017-numba\n",
    "\n",
    "\n",
    "*   https://github.com/ContinuumIO/gtc2019-numba\n",
    "\n",
    "*   https://github.com/ContinuumIO/gtc2020-numba\n",
    "\n",
    "*   https://github.com/ContinuumIO/numba-tutorial-2024\n",
    "\n",
    "https://numba.readthedocs.io/en/stable/cuda/index.html"
   ]
  },
  {
   "cell_type": "code",
   "execution_count": null,
   "metadata": {},
   "outputs": [],
   "source": []
  },
  {
   "cell_type": "markdown",
   "metadata": {},
   "source": [
    "Refazer todas as classes e funçoes com numba"
   ]
  },
  {
   "cell_type": "code",
   "execution_count": null,
   "metadata": {},
   "outputs": [],
   "source": []
  },
  {
   "cell_type": "markdown",
   "metadata": {},
   "source": [
    "Refazer o solver com numba"
   ]
  },
  {
   "cell_type": "markdown",
   "metadata": {},
   "source": [
    "https://github.com/jrenaud90/CyRK?tab=readme-ov-file\n",
    "\n",
    "\n",
    "https://github.com/Nicholaswogan/NumbaLSODA?tab=readme-ov-file\n",
    "\n",
    "https://github.com/hgrecco/numbakit-ode/tree/main"
   ]
  },
  {
   "cell_type": "code",
   "execution_count": null,
   "metadata": {},
   "outputs": [],
   "source": []
  }
 ],
 "metadata": {
  "colab": {
   "authorship_tag": "ABX9TyM9r6l/WF+NtqPeBxfXj7g+",
   "include_colab_link": true,
   "provenance": []
  },
  "kernelspec": {
   "display_name": "torch-qutip",
   "language": "python",
   "name": "python3"
  },
  "language_info": {
   "codemirror_mode": {
    "name": "ipython",
    "version": 3
   },
   "file_extension": ".py",
   "mimetype": "text/x-python",
   "name": "python",
   "nbconvert_exporter": "python",
   "pygments_lexer": "ipython3",
   "version": "3.10.13"
  }
 },
 "nbformat": 4,
 "nbformat_minor": 0
}
