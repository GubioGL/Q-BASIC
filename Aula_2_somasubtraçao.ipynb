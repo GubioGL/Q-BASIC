{
 "cells": [
  {
   "cell_type": "markdown",
   "metadata": {
    "id": "-a7Cw_ynlJmy"
   },
   "source": [
    "# Aula 2 : Soma,subtraçao"
   ]
  },
  {
   "cell_type": "code",
   "execution_count": 1,
   "metadata": {
    "id": "78Wutb-Ik1xJ"
   },
   "outputs": [],
   "source": [
    "import numpy as np\n",
    "import sympy as sp\n",
    "from IPython.display import display, Math"
   ]
  },
  {
   "cell_type": "code",
   "execution_count": 2,
   "metadata": {},
   "outputs": [],
   "source": [
    "class ObjQuantico:\n",
    "    def __init__(self, data, latex_representation=None):\n",
    "        self.dados = data\n",
    "        self.latex_representation = latex_representation\n",
    "\n",
    "    def definir_dados(self, data):\n",
    "        self.dados = data\n",
    "\n",
    "    def full(self):\n",
    "        return self.dados\n",
    "    \n",
    "    def dim(self):\n",
    "        return len(self.dados)\n",
    "    \n",
    "    def dag(self):\n",
    "        return ObjQuantico(np.conjugate(self.dados.T))\n",
    "    \n",
    "    def traço(self):\n",
    "        return np.trace(self.dados).real\n",
    "    \n",
    "    def Autovalores(self):\n",
    "        return np.linalg.eigvals(self.dados)\n",
    "    \n",
    "    def Autovetores(self):\n",
    "        return np.linalg.eig(self.dados)[1]\n",
    "    \n",
    "    def AutoValor_vetor(self):\n",
    "        return np.linalg.eig(self.dados)[1]\n",
    "    \n",
    "    def __repr__(self):\n",
    "\n",
    "        if self.latex_representation:\n",
    "            display(Math(self.latex_representation))\n",
    "        else:\n",
    "            display(Math(sp.latex(sp.Matrix(self.dados))))\n",
    "        return f\"ObjQuantico: dim ={self.dim()} , shape = {self.dados.shape}\" \n",
    "    \n",
    "                           \n",
    "    def __sub__(self, other):\n",
    "        if isinstance(other, ObjQuantico):  \n",
    "            # Subtração entre duas instâncias de ObjQuantico\n",
    "            return ObjQuantico(self.dados - other.dados)\n",
    "        else:\n",
    "            raise TypeError(f\"Subtração não suportada entre {type(other)} e ObjQuantico\")\n",
    "       \n",
    "    def __add__(self, other):\n",
    "        if isinstance(other, ObjQuantico):  \n",
    "            # Soma os dados de dois objetos ObjQuantico\n",
    "            return ObjQuantico(self.dados + other.dados)\n",
    "        else:\n",
    "            raise TypeError(f\"Soma não suportada entre {type(other)} e ObjQuantico\")\n",
    "        \n",
    "    def __sub__(self, other):\n",
    "        if isinstance(other, ObjQuantico):  \n",
    "            # Subtração entre duas instâncias de ObjQuantico\n",
    "            return ObjQuantico(self.dados - other.dados)\n",
    "        elif isinstance(other, np.ndarray):  # Subtração com arrays NumPy\n",
    "            return ObjQuantico(self.dados - other)\n",
    "        else:\n",
    "            raise TypeError(f\"Subtração não suportada entre {type(other)} e ObjQuantico\")\n",
    "    \n",
    "    def __rsub__(self, other):\n",
    "        if isinstance(other, np.ndarray):  # Subtração com arrays NumPy (comutada)\n",
    "            return ObjQuantico(other - self.dados)\n",
    "        else:\n",
    "            raise TypeError(f\"Subtração não suportada entre {type(other)} e ObjQuantico\")    \n",
    "          \n",
    "def ket(entrada):\n",
    "    if isinstance(entrada, str):\n",
    "        if entrada == '0':\n",
    "            dados = np.array([[1], [0]])\n",
    "            latex_representation = r\"$$ \\ket{0} $$\"  # LaTeX para o ket |0>\n",
    "            return ObjQuantico(dados, latex_representation)\n",
    "        elif entrada == '1':\n",
    "            dados = np.array([[0], [1]])\n",
    "            latex_representation = r\"$$ \\ket{1} $$\"  # LaTeX para o ket |0>\n",
    "            return ObjQuantico(dados, latex_representation)\n",
    "    else:\n",
    "        try:\n",
    "            return ObjQuantico(entrada)\n",
    "        except ValueError:\n",
    "            return print(\"Entrada invalida.\") \n",
    "         \n",
    "def bra(entrada):\n",
    "    if isinstance(entrada, str):\n",
    "        if entrada == '0':\n",
    "            dados = np.array([[1], [0]])\n",
    "            latex_representation = r\"$$ \\bra{0} $$\"  # LaTeX para o ket |0>\n",
    "            return ObjQuantico(dados, latex_representation)\n",
    "        elif entrada == '1':\n",
    "            dados = np.array([[0], [1]])\n",
    "            latex_representation = r\"$$ \\bra{1} $$\"  # LaTeX para o ket |0>\n",
    "            return ObjQuantico(dados, latex_representation)\n",
    "    else:\n",
    "        try:\n",
    "            return ObjQuantico(entrada)\n",
    "        except ValueError:\n",
    "            return print(\"Entrada invalida.\")      \n",
    "        \n",
    "def bases(N,n):\n",
    "    estadoinicial = np.zeros(shape=(N, 1))\n",
    "    estadoinicial[n, 0] = 1\n",
    "    return ObjQuantico(estadoinicial) \n",
    "    \n",
    "def destruiçao(N):\n",
    "    subdiag = np.sqrt(np.arange(1, N))# Monta os elementos na subdiagonal\n",
    "    dt      = np.diag(subdiag, k=1) # Operador de destruição\n",
    "    return ObjQuantico(dt)\n",
    "\n",
    "def criaçao(N):\n",
    "    return  destruiçao(N).dag()\n",
    "    \n",
    "def Identidade(N):\n",
    "    matriz = np.identity(N)\n",
    "    return ObjQuantico(matriz) "
   ]
  },
  {
   "cell_type": "markdown",
   "metadata": {},
   "source": [
    "## Update da representação"
   ]
  },
  {
   "cell_type": "code",
   "execution_count": 3,
   "metadata": {},
   "outputs": [
    {
     "data": {
      "text/latex": [
       "$\\displaystyle  \\ket{0} $"
      ],
      "text/plain": [
       "<IPython.core.display.Math object>"
      ]
     },
     "metadata": {},
     "output_type": "display_data"
    },
    {
     "data": {
      "text/plain": [
       "ObjQuantico: dim =2 , shape = (2, 1)"
      ]
     },
     "execution_count": 3,
     "metadata": {},
     "output_type": "execute_result"
    }
   ],
   "source": [
    "ket(\"0\")"
   ]
  },
  {
   "cell_type": "code",
   "execution_count": 4,
   "metadata": {},
   "outputs": [
    {
     "data": {
      "text/latex": [
       "$\\displaystyle  \\ket{1} $"
      ],
      "text/plain": [
       "<IPython.core.display.Math object>"
      ]
     },
     "metadata": {},
     "output_type": "display_data"
    },
    {
     "data": {
      "text/plain": [
       "ObjQuantico: dim =2 , shape = (2, 1)"
      ]
     },
     "execution_count": 4,
     "metadata": {},
     "output_type": "execute_result"
    }
   ],
   "source": [
    "ket(\"1\")"
   ]
  },
  {
   "cell_type": "code",
   "execution_count": 5,
   "metadata": {},
   "outputs": [
    {
     "data": {
      "text/latex": [
       "$\\displaystyle  \\bra{0} $"
      ],
      "text/plain": [
       "<IPython.core.display.Math object>"
      ]
     },
     "metadata": {},
     "output_type": "display_data"
    },
    {
     "data": {
      "text/plain": [
       "ObjQuantico: dim =2 , shape = (2, 1)"
      ]
     },
     "execution_count": 5,
     "metadata": {},
     "output_type": "execute_result"
    }
   ],
   "source": [
    "bra(\"0\")"
   ]
  },
  {
   "cell_type": "code",
   "execution_count": 6,
   "metadata": {},
   "outputs": [
    {
     "data": {
      "text/latex": [
       "$\\displaystyle  \\bra{1} $"
      ],
      "text/plain": [
       "<IPython.core.display.Math object>"
      ]
     },
     "metadata": {},
     "output_type": "display_data"
    },
    {
     "data": {
      "text/plain": [
       "ObjQuantico: dim =2 , shape = (2, 1)"
      ]
     },
     "execution_count": 6,
     "metadata": {},
     "output_type": "execute_result"
    }
   ],
   "source": [
    "bra(\"1\")"
   ]
  },
  {
   "cell_type": "markdown",
   "metadata": {},
   "source": [
    "## Soma "
   ]
  },
  {
   "cell_type": "markdown",
   "metadata": {},
   "source": [
    "$$\\ket{0} +\\ket{1} =  \\left(\\begin{matrix}1.0\\\\1.0\\\\\\end{matrix}\\right)$$"
   ]
  },
  {
   "cell_type": "code",
   "execution_count": 7,
   "metadata": {},
   "outputs": [
    {
     "data": {
      "text/latex": [
       "$\\displaystyle \\left[\\begin{matrix}1\\\\1\\end{matrix}\\right]$"
      ],
      "text/plain": [
       "<IPython.core.display.Math object>"
      ]
     },
     "metadata": {},
     "output_type": "display_data"
    },
    {
     "data": {
      "text/plain": [
       "ObjQuantico: dim =2 , shape = (2, 1)"
      ]
     },
     "execution_count": 7,
     "metadata": {},
     "output_type": "execute_result"
    }
   ],
   "source": [
    "(ket(\"0\") +ket(\"1\"))"
   ]
  },
  {
   "cell_type": "markdown",
   "metadata": {},
   "source": [
    "$$\\ket{1} +\\ket{1} =  \\left(\\begin{matrix}0\\\\2\\\\\\end{matrix}\\right)$$"
   ]
  },
  {
   "cell_type": "code",
   "execution_count": 8,
   "metadata": {},
   "outputs": [
    {
     "data": {
      "text/latex": [
       "$\\displaystyle \\left[\\begin{matrix}0\\\\2\\end{matrix}\\right]$"
      ],
      "text/plain": [
       "<IPython.core.display.Math object>"
      ]
     },
     "metadata": {},
     "output_type": "display_data"
    },
    {
     "data": {
      "text/plain": [
       "ObjQuantico: dim =2 , shape = (2, 1)"
      ]
     },
     "execution_count": 8,
     "metadata": {},
     "output_type": "execute_result"
    }
   ],
   "source": [
    "(ket(\"1\") +ket(\"1\"))"
   ]
  },
  {
   "cell_type": "code",
   "execution_count": 9,
   "metadata": {},
   "outputs": [
    {
     "data": {
      "text/latex": [
       "$\\displaystyle \\left[\\begin{matrix}1.0 & 0 & 0 & 0 & 0\\\\0 & 1.0 & 0 & 0 & 0\\\\0 & 0 & 1.0 & 0 & 0\\\\0 & 0 & 0 & 1.0 & 0\\\\0 & 0 & 0 & 0 & 1.0\\end{matrix}\\right]$"
      ],
      "text/plain": [
       "<IPython.core.display.Math object>"
      ]
     },
     "metadata": {},
     "output_type": "display_data"
    },
    {
     "data": {
      "text/plain": [
       "ObjQuantico: dim =5 , shape = (5, 5)"
      ]
     },
     "execution_count": 9,
     "metadata": {},
     "output_type": "execute_result"
    }
   ],
   "source": [
    "Identidade(5)"
   ]
  },
  {
   "cell_type": "code",
   "execution_count": 10,
   "metadata": {},
   "outputs": [
    {
     "data": {
      "text/latex": [
       "$\\displaystyle \\left[\\begin{matrix}2.0 & 0 & 0 & 0 & 0\\\\0 & 2.0 & 0 & 0 & 0\\\\0 & 0 & 2.0 & 0 & 0\\\\0 & 0 & 0 & 2.0 & 0\\\\0 & 0 & 0 & 0 & 2.0\\end{matrix}\\right]$"
      ],
      "text/plain": [
       "<IPython.core.display.Math object>"
      ]
     },
     "metadata": {},
     "output_type": "display_data"
    },
    {
     "data": {
      "text/plain": [
       "ObjQuantico: dim =5 , shape = (5, 5)"
      ]
     },
     "execution_count": 10,
     "metadata": {},
     "output_type": "execute_result"
    }
   ],
   "source": [
    "Identidade(5) +Identidade(5)"
   ]
  },
  {
   "cell_type": "code",
   "execution_count": 11,
   "metadata": {},
   "outputs": [
    {
     "data": {
      "text/latex": [
       "$\\displaystyle \\left[\\begin{matrix}0 & 1.0\\\\1.0 & 0\\end{matrix}\\right]$"
      ],
      "text/plain": [
       "<IPython.core.display.Math object>"
      ]
     },
     "metadata": {},
     "output_type": "display_data"
    },
    {
     "data": {
      "text/plain": [
       "ObjQuantico: dim =2 , shape = (2, 2)"
      ]
     },
     "execution_count": 11,
     "metadata": {},
     "output_type": "execute_result"
    }
   ],
   "source": [
    "destruiçao(2)+criaçao(2)"
   ]
  },
  {
   "cell_type": "markdown",
   "metadata": {},
   "source": [
    "## Subtração"
   ]
  },
  {
   "cell_type": "markdown",
   "metadata": {},
   "source": [
    "$$\\ket{0} -\\ket{1} =  \\left(\\begin{matrix}1.0\\\\-1.0\\\\\\end{matrix}\\right)$$"
   ]
  },
  {
   "cell_type": "code",
   "execution_count": 12,
   "metadata": {},
   "outputs": [
    {
     "data": {
      "text/latex": [
       "$\\displaystyle \\left[\\begin{matrix}1\\\\-1\\end{matrix}\\right]$"
      ],
      "text/plain": [
       "<IPython.core.display.Math object>"
      ]
     },
     "metadata": {},
     "output_type": "display_data"
    },
    {
     "data": {
      "text/plain": [
       "ObjQuantico: dim =2 , shape = (2, 1)"
      ]
     },
     "execution_count": 12,
     "metadata": {},
     "output_type": "execute_result"
    }
   ],
   "source": [
    "ket(\"0\")-ket(\"1\")"
   ]
  },
  {
   "cell_type": "markdown",
   "metadata": {},
   "source": [
    "$$\\ket{1} -\\ket{1} =  \\left(\\begin{matrix}0\\\\0\\\\\\end{matrix}\\right)$$"
   ]
  },
  {
   "cell_type": "code",
   "execution_count": 13,
   "metadata": {},
   "outputs": [
    {
     "data": {
      "text/latex": [
       "$\\displaystyle \\left[\\begin{matrix}0\\\\0\\end{matrix}\\right]$"
      ],
      "text/plain": [
       "<IPython.core.display.Math object>"
      ]
     },
     "metadata": {},
     "output_type": "display_data"
    },
    {
     "data": {
      "text/plain": [
       "ObjQuantico: dim =2 , shape = (2, 1)"
      ]
     },
     "execution_count": 13,
     "metadata": {},
     "output_type": "execute_result"
    }
   ],
   "source": [
    "ket(\"1\") -ket(\"1\")"
   ]
  },
  {
   "cell_type": "code",
   "execution_count": 14,
   "metadata": {},
   "outputs": [
    {
     "data": {
      "text/plain": [
       "array([[0.+7.j],\n",
       "       [1.-7.j]])"
      ]
     },
     "execution_count": 14,
     "metadata": {},
     "output_type": "execute_result"
    }
   ],
   "source": [
    "matriz = np.array([[0+7j],[1-7j]])\n",
    "matriz"
   ]
  },
  {
   "cell_type": "code",
   "execution_count": 15,
   "metadata": {},
   "outputs": [
    {
     "data": {
      "text/latex": [
       "$\\displaystyle \\left[\\begin{matrix}7.0 i\\\\1.0 - 7.0 i\\end{matrix}\\right]$"
      ],
      "text/plain": [
       "<IPython.core.display.Math object>"
      ]
     },
     "metadata": {},
     "output_type": "display_data"
    },
    {
     "data": {
      "text/plain": [
       "ObjQuantico: dim =2 , shape = (2, 1)"
      ]
     },
     "execution_count": 15,
     "metadata": {},
     "output_type": "execute_result"
    }
   ],
   "source": [
    "ket(matriz)"
   ]
  },
  {
   "cell_type": "code",
   "execution_count": 16,
   "metadata": {},
   "outputs": [
    {
     "data": {
      "text/latex": [
       "$\\displaystyle \\left[\\begin{matrix}- 7.0 i & 1.0 + 7.0 i\\end{matrix}\\right]$"
      ],
      "text/plain": [
       "<IPython.core.display.Math object>"
      ]
     },
     "metadata": {},
     "output_type": "display_data"
    },
    {
     "data": {
      "text/plain": [
       "ObjQuantico: dim =1 , shape = (1, 2)"
      ]
     },
     "execution_count": 16,
     "metadata": {},
     "output_type": "execute_result"
    }
   ],
   "source": [
    "ket(matriz).dag()"
   ]
  },
  {
   "cell_type": "code",
   "execution_count": 17,
   "metadata": {},
   "outputs": [
    {
     "data": {
      "text/latex": [
       "$\\displaystyle \\left[\\begin{matrix}0 & 0 & 0 & 0 & 0\\\\0 & 0 & 0 & 0 & 0\\\\0 & 0 & 0 & 0 & 0\\\\0 & 0 & 0 & 0 & 0\\\\0 & 0 & 0 & 0 & 0\\end{matrix}\\right]$"
      ],
      "text/plain": [
       "<IPython.core.display.Math object>"
      ]
     },
     "metadata": {},
     "output_type": "display_data"
    },
    {
     "data": {
      "text/plain": [
       "ObjQuantico: dim =5 , shape = (5, 5)"
      ]
     },
     "execution_count": 17,
     "metadata": {},
     "output_type": "execute_result"
    }
   ],
   "source": [
    "Identidade(5) -Identidade(5)"
   ]
  },
  {
   "cell_type": "code",
   "execution_count": 18,
   "metadata": {},
   "outputs": [
    {
     "data": {
      "text/latex": [
       "$\\displaystyle \\left[\\begin{matrix}0 & 1.0\\\\-1.0 & 0\\end{matrix}\\right]$"
      ],
      "text/plain": [
       "<IPython.core.display.Math object>"
      ]
     },
     "metadata": {},
     "output_type": "display_data"
    },
    {
     "data": {
      "text/plain": [
       "ObjQuantico: dim =2 , shape = (2, 2)"
      ]
     },
     "execution_count": 18,
     "metadata": {},
     "output_type": "execute_result"
    }
   ],
   "source": [
    "destruiçao(2)-criaçao(2)"
   ]
  }
 ],
 "metadata": {
  "colab": {
   "authorship_tag": "ABX9TyM9r6l/WF+NtqPeBxfXj7g+",
   "include_colab_link": true,
   "provenance": []
  },
  "kernelspec": {
   "display_name": "torch-qutip",
   "language": "python",
   "name": "python3"
  },
  "language_info": {
   "codemirror_mode": {
    "name": "ipython",
    "version": 3
   },
   "file_extension": ".py",
   "mimetype": "text/x-python",
   "name": "python",
   "nbconvert_exporter": "python",
   "pygments_lexer": "ipython3",
   "version": "3.10.13"
  }
 },
 "nbformat": 4,
 "nbformat_minor": 0
}
