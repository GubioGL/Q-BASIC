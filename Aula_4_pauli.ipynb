{
 "cells": [
  {
   "cell_type": "markdown",
   "metadata": {
    "id": "-a7Cw_ynlJmy"
   },
   "source": [
    "# Aula 4 : Matrizes de pauli"
   ]
  },
  {
   "cell_type": "code",
   "execution_count": 1,
   "metadata": {
    "id": "78Wutb-Ik1xJ"
   },
   "outputs": [],
   "source": [
    "import numpy as np\n",
    "import sympy as sp\n",
    "from IPython.display import display, Math"
   ]
  },
  {
   "cell_type": "code",
   "execution_count": 2,
   "metadata": {},
   "outputs": [],
   "source": [
    "\n",
    "class ObjQuantico:\n",
    "    def __init__(self, data,latex_representation=None):\n",
    "        self.dados = data\n",
    "        self.latex_representation = latex_representation\n",
    "\n",
    "    def definir_dados(self, data):\n",
    "        self.dados = data\n",
    "\n",
    "    def full(self):\n",
    "        return self.dados\n",
    "    \n",
    "    def dim(self):\n",
    "        return len(self.dados)\n",
    "    \n",
    "    def dag(self):\n",
    "        return ObjQuantico(np.conjugate(self.dados.T))\n",
    "    \n",
    "    def traço(self):\n",
    "        return np.trace(self.dados).real\n",
    "    \n",
    "    def Autovalores(self):\n",
    "        return np.linalg.eigvals(self.dados)\n",
    "    \n",
    "    def Autovetores(self):\n",
    "        return np.linalg.eig(self.dados)[1]\n",
    "    \n",
    "    def AutoValor_vetor(self):\n",
    "        return np.linalg.eig(self.dados)[1]\n",
    "\n",
    "    def __repr__(self):\n",
    "        if self.latex_representation:\n",
    "            display(Math(self.latex_representation))\n",
    "        else:\n",
    "            display(Math(sp.latex(sp.Matrix(self.dados))))\n",
    "        return f\"ObjQuantico: dim ={self.dim()} , shape = {self.dados.shape}\" \n",
    "    \n",
    "    def __mul__(self, other):\n",
    "        # Multiplicação para diferentes tipos\n",
    "        if isinstance(other, ObjQuantico):  \n",
    "            # Multiplicação matricial com outra instância de ObjQuantico\n",
    "            return ObjQuantico(np.dot(self.dados, other.dados))\n",
    "        elif np.isscalar(other):  # Multiplicação por escalar\n",
    "            return ObjQuantico(self.dados * other)\n",
    "        else:\n",
    "            raise TypeError(f\"Multiplicação não suportada entre {type(other)} e ObjQuantico\")\n",
    "\n",
    "    def __rmul__(self, other):\n",
    "        if np.isscalar(other):  # Multiplicação reversa por escalar\n",
    "            return ObjQuantico(self.dados * other)\n",
    "        else:\n",
    "            raise TypeError(f\"Multiplicação não suportada entre {type(other)} e ObjQuantico\")\n",
    "        \n",
    "    def __sub__(self, other):\n",
    "        if isinstance(other, ObjQuantico):  \n",
    "            # Subtração entre duas instâncias de ObjQuantico\n",
    "            return ObjQuantico(self.dados - other.dados)\n",
    "        else:\n",
    "            raise TypeError(f\"Subtração não suportada entre {type(other)} e ObjQuantico\")\n",
    "       \n",
    "    def __add__(self, other):\n",
    "        if isinstance(other, ObjQuantico):  \n",
    "            # Soma os dados de dois objetos ObjQuantico\n",
    "            return ObjQuantico(self.dados + other.dados)\n",
    "        else:\n",
    "            raise TypeError(f\"Soma não suportada entre {type(other)} e ObjQuantico\")\n",
    "        \n",
    "    def __sub__(self, other):\n",
    "        if isinstance(other, ObjQuantico):  \n",
    "            # Subtração entre duas instâncias de ObjQuantico\n",
    "            return ObjQuantico(self.dados - other.dados)\n",
    "        elif isinstance(other, np.ndarray):  # Subtração com arrays NumPy\n",
    "            return ObjQuantico(self.dados - other)\n",
    "        else:\n",
    "            raise TypeError(f\"Subtração não suportada entre {type(other)} e ObjQuantico\")\n",
    "    \n",
    "    def __rsub__(self, other):\n",
    "        if isinstance(other, np.ndarray):  # Subtração com arrays NumPy (comutada)\n",
    "            return ObjQuantico(other - self.dados)\n",
    "        else:\n",
    "            raise TypeError(f\"Subtração não suportada entre {type(other)} e ObjQuantico\")   \n",
    "\n",
    "    def __truediv__(self, other):\n",
    "        if isinstance(other, (int, float)):  # Divisão por um número escalar\n",
    "            return ObjQuantico(self.dados / other)\n",
    "        else:\n",
    "            raise TypeError(f\"Divisão não suportada entre {type(other)} e ObjQuantico\")\n",
    "    \n",
    "    def __rtruediv__(self, other):\n",
    "        if isinstance(other, (int, float)):  # Divisão invertida por um número escalar\n",
    "            return ObjQuantico(other / self.dados)\n",
    "        else:\n",
    "            raise TypeError(f\"Divisão não suportada entre {type(other)} e ObjQuantico\")     \n",
    "    \n",
    "    def __matmul__(self, other):\n",
    "        \"\"\"Implementa o operador @ para o produto tensorial.\"\"\"\n",
    "        if isinstance(other, ObjQuantico):\n",
    "            return ObjQuantico(np.kron(self.full(), other.full()))\n",
    "        else:\n",
    "            raise TypeError(f\"Operador @ não suportado entre {type(self)} e {type(other)}\")\n",
    "\n",
    "def bases(N,n):\n",
    "    estadoinicial = np.zeros(shape=(N, 1))\n",
    "    estadoinicial[n, 0] = 1\n",
    "    return ObjQuantico(estadoinicial) \n",
    "  \n",
    "def ket(entrada):\n",
    "    if isinstance(entrada, str):\n",
    "        if entrada == '0':\n",
    "            dados = np.array([[1], [0]])\n",
    "            latex_representation = r\"$$ \\ket{0} $$\"  # LaTeX para o ket |0>\n",
    "            return ObjQuantico(dados, latex_representation)\n",
    "        elif entrada == '1':\n",
    "            dados = np.array([[0], [1]])\n",
    "            latex_representation = r\"$$ \\ket{1} $$\"  # LaTeX para o ket |1>\n",
    "            return ObjQuantico(dados, latex_representation)\n",
    "    else:\n",
    "        try:\n",
    "            return ObjQuantico(entrada)\n",
    "        except ValueError:\n",
    "            return print(\"Entrada invalida.\") \n",
    "         \n",
    "def bra(entrada):\n",
    "    if isinstance(entrada, str):\n",
    "        if entrada == '0':\n",
    "            dados = np.array([[1], [0]])\n",
    "            latex_representation = r\"$$ \\bra{0} $$\"  # LaTeX para o ket |0>\n",
    "            return ObjQuantico(dados, latex_representation)\n",
    "        elif entrada == '1':\n",
    "            dados = np.array([[0], [1]])\n",
    "            latex_representation = r\"$$ \\bra{1} $$\"  # LaTeX para o ket |0>\n",
    "            return ObjQuantico(dados, latex_representation)\n",
    "    else:\n",
    "        try:\n",
    "            return ObjQuantico(entrada)\n",
    "        except ValueError:\n",
    "            return print(\"Entrada invalida.\")      \n",
    "    \n",
    "def destruiçao(N):\n",
    "    subdiag = np.sqrt(np.arange(1, N))# Monta os elementos na subdiagonal\n",
    "    dt      = np.diag(subdiag, k=1) # Operador de destruição\n",
    "    return ObjQuantico(dt)\n",
    "\n",
    "def criaçao(N):\n",
    "    return  destruiçao(N).dag()\n",
    "    \n",
    "def Identidade(N):\n",
    "    matriz = np.identity(N)\n",
    "    return ObjQuantico(matriz) \n"
   ]
  },
  {
   "cell_type": "markdown",
   "metadata": {},
   "source": [
    "# Matrizes de Pauli "
   ]
  },
  {
   "cell_type": "code",
   "execution_count": 3,
   "metadata": {},
   "outputs": [],
   "source": [
    "def pauliX():\n",
    "    m = np.array([[ 0, 1 ],[ 1, 0 ]])\n",
    "    latex_representation = r\"$$ \\hat{\\sigma_x} $$\"\n",
    "    return ObjQuantico(m,latex_representation)\n",
    "\n",
    "def pauliY():\n",
    "    m = np.array([[ 0, -1j ],[ 1j, 0 ]])\n",
    "    latex_representation = r\"$$ \\hat{\\sigma_y} $$\"  \n",
    "    return ObjQuantico(m,latex_representation)\n",
    "\n",
    "def pauliZ():\n",
    "    m = np.array([[ 1, 0 ],[ 0, -1 ]])\n",
    "    latex_representation = r\"$$ \\hat{\\sigma_z} $$\"  \n",
    "    return ObjQuantico(m,latex_representation)\n"
   ]
  },
  {
   "cell_type": "code",
   "execution_count": 4,
   "metadata": {},
   "outputs": [
    {
     "data": {
      "text/latex": [
       "$\\displaystyle  \\hat{\\sigma_x} $"
      ],
      "text/plain": [
       "<IPython.core.display.Math object>"
      ]
     },
     "metadata": {},
     "output_type": "display_data"
    },
    {
     "data": {
      "text/plain": [
       "ObjQuantico: dim =2 , shape = (2, 2)"
      ]
     },
     "execution_count": 4,
     "metadata": {},
     "output_type": "execute_result"
    }
   ],
   "source": [
    "pauliX()"
   ]
  },
  {
   "cell_type": "code",
   "execution_count": 5,
   "metadata": {},
   "outputs": [
    {
     "data": {
      "text/latex": [
       "$\\displaystyle  \\hat{\\sigma_z} $"
      ],
      "text/plain": [
       "<IPython.core.display.Math object>"
      ]
     },
     "metadata": {},
     "output_type": "display_data"
    },
    {
     "data": {
      "text/plain": [
       "ObjQuantico: dim =2 , shape = (2, 2)"
      ]
     },
     "execution_count": 5,
     "metadata": {},
     "output_type": "execute_result"
    }
   ],
   "source": [
    "pauliZ()"
   ]
  },
  {
   "cell_type": "code",
   "execution_count": 6,
   "metadata": {},
   "outputs": [
    {
     "data": {
      "text/latex": [
       "$\\displaystyle  \\hat{\\sigma_y} $"
      ],
      "text/plain": [
       "<IPython.core.display.Math object>"
      ]
     },
     "metadata": {},
     "output_type": "display_data"
    },
    {
     "data": {
      "text/plain": [
       "ObjQuantico: dim =2 , shape = (2, 2)"
      ]
     },
     "execution_count": 6,
     "metadata": {},
     "output_type": "execute_result"
    }
   ],
   "source": [
    "pauliY()"
   ]
  },
  {
   "cell_type": "code",
   "execution_count": 7,
   "metadata": {},
   "outputs": [
    {
     "data": {
      "text/latex": [
       "$\\displaystyle \\left[\\begin{matrix}1.0 i & 2.0\\\\2.0 & - 1.0 i\\end{matrix}\\right]$"
      ],
      "text/plain": [
       "<IPython.core.display.Math object>"
      ]
     },
     "metadata": {},
     "output_type": "display_data"
    },
    {
     "data": {
      "text/plain": [
       "ObjQuantico: dim =2 , shape = (2, 2)"
      ]
     },
     "execution_count": 7,
     "metadata": {},
     "output_type": "execute_result"
    }
   ],
   "source": [
    "2*pauliX()+ (1j)*pauliZ()"
   ]
  },
  {
   "cell_type": "markdown",
   "metadata": {},
   "source": [
    "## Hamiltoniana de 1 qubit"
   ]
  },
  {
   "cell_type": "markdown",
   "metadata": {},
   "source": [
    "Agora estamos pronto para criar uma hamiltoniana de um qutis \n",
    "\n",
    "$$\n",
    "\\hat{H} = \\frac{\\hbar \\omega}{2}  \\hat{\\sigma}_z^{}  \n",
    "$$\n"
   ]
  },
  {
   "cell_type": "code",
   "execution_count": 8,
   "metadata": {},
   "outputs": [
    {
     "data": {
      "text/latex": [
       "$\\displaystyle \\left[\\begin{matrix}3.14159265358979 & 0\\\\0 & -3.14159265358979\\end{matrix}\\right]$"
      ],
      "text/plain": [
       "<IPython.core.display.Math object>"
      ]
     },
     "metadata": {},
     "output_type": "display_data"
    },
    {
     "data": {
      "text/plain": [
       "ObjQuantico: dim =2 , shape = (2, 2)"
      ]
     },
     "execution_count": 8,
     "metadata": {},
     "output_type": "execute_result"
    }
   ],
   "source": [
    "hcor= 1\n",
    "w   = 2*np.pi\n",
    "H   = hcor*w/2 *pauliZ()\n",
    "H"
   ]
  }
 ],
 "metadata": {
  "colab": {
   "authorship_tag": "ABX9TyM9r6l/WF+NtqPeBxfXj7g+",
   "include_colab_link": true,
   "provenance": []
  },
  "kernelspec": {
   "display_name": "torch-qutip",
   "language": "python",
   "name": "python3"
  },
  "language_info": {
   "codemirror_mode": {
    "name": "ipython",
    "version": 3
   },
   "file_extension": ".py",
   "mimetype": "text/x-python",
   "name": "python",
   "nbconvert_exporter": "python",
   "pygments_lexer": "ipython3",
   "version": "3.10.13"
  }
 },
 "nbformat": 4,
 "nbformat_minor": 0
}
