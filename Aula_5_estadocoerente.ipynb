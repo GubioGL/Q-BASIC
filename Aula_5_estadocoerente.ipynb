{
 "cells": [
  {
   "cell_type": "markdown",
   "metadata": {
    "id": "-a7Cw_ynlJmy"
   },
   "source": [
    "# Aula 5: "
   ]
  },
  {
   "cell_type": "code",
   "execution_count": 1,
   "metadata": {
    "id": "78Wutb-Ik1xJ"
   },
   "outputs": [],
   "source": [
    "import numpy as np\n",
    "import sympy as sp\n",
    "from IPython.display import display, Math\n",
    "from scipy.linalg import expm"
   ]
  },
  {
   "cell_type": "code",
   "execution_count": null,
   "metadata": {},
   "outputs": [],
   "source": [
    "class ObjQuantico:\n",
    "    def __init__(self, data,latex_representation=None):\n",
    "        self.dados = data\n",
    "        self.latex_representation = latex_representation\n",
    "\n",
    "    def definir_dados(self, data):\n",
    "        self.dados = data\n",
    "\n",
    "    def full(self):\n",
    "        return self.dados\n",
    "    \n",
    "    def dim(self):\n",
    "        return len(self.dados)\n",
    "    \n",
    "    def dag(self):\n",
    "        return ObjQuantico(np.conjugate(self.dados.T))\n",
    "    \n",
    "    def traço(self):\n",
    "        return np.trace(self.dados).real\n",
    "    \n",
    "    def Autovalores(self):\n",
    "        return np.linalg.eigvals(self.dados)\n",
    "    \n",
    "    def Autovetores(self):\n",
    "        return np.linalg.eig(self.dados)[1]\n",
    "    \n",
    "    def AutoValor_vetor(self):\n",
    "        return np.linalg.eig(self.dados)[1]\n",
    "    \n",
    "    def expM(self):\n",
    "        return ObjQuantico(expm(self.dados)) \n",
    "\n",
    "    def __repr__(self):\n",
    "        if self.latex_representation:\n",
    "            display(Math(self.latex_representation))\n",
    "        else:\n",
    "            display(Math(sp.latex(sp.Matrix(self.dados))))\n",
    "        return f\"ObjQuantico: dim ={self.dim()} , shape = {self.dados.shape}\" \n",
    "    \n",
    "    def __mul__(self, other):\n",
    "        # Multiplicação para diferentes tipos\n",
    "        if isinstance(other, ObjQuantico):  \n",
    "            # Multiplicação matricial com outra instância de ObjQuantico\n",
    "            return ObjQuantico(np.dot(self.dados, other.dados))\n",
    "        elif np.isscalar(other):  # Multiplicação por escalar\n",
    "            return ObjQuantico(self.dados * other)\n",
    "        else:\n",
    "            raise TypeError(f\"Multiplicação não suportada entre {type(other)} e ObjQuantico\")\n",
    "\n",
    "    def __rmul__(self, other):\n",
    "        if np.isscalar(other):  # Multiplicação reversa por escalar\n",
    "            return ObjQuantico(self.dados * other)\n",
    "        else:\n",
    "            raise TypeError(f\"Multiplicação não suportada entre {type(other)} e ObjQuantico\")\n",
    "        \n",
    "    def __sub__(self, other):\n",
    "        if isinstance(other, ObjQuantico):  \n",
    "            # Subtração entre duas instâncias de ObjQuantico\n",
    "            return ObjQuantico(self.dados - other.dados)\n",
    "        else:\n",
    "            raise TypeError(f\"Subtração não suportada entre {type(other)} e ObjQuantico\")\n",
    "       \n",
    "    def __add__(self, other):\n",
    "        if isinstance(other, ObjQuantico):  \n",
    "            # Soma os dados de dois objetos ObjQuantico\n",
    "            return ObjQuantico(self.dados + other.dados)\n",
    "        else:\n",
    "            raise TypeError(f\"Soma não suportada entre {type(other)} e ObjQuantico\")\n",
    "        \n",
    "    def __sub__(self, other):\n",
    "        if isinstance(other, ObjQuantico):  \n",
    "            # Subtração entre duas instâncias de ObjQuantico\n",
    "            return ObjQuantico(self.dados - other.dados)\n",
    "        elif isinstance(other, np.ndarray):  # Subtração com arrays NumPy\n",
    "            return ObjQuantico(self.dados - other)\n",
    "        else:\n",
    "            raise TypeError(f\"Subtração não suportada entre {type(other)} e ObjQuantico\")\n",
    "    \n",
    "    def __rsub__(self, other):\n",
    "        if isinstance(other, np.ndarray):  # Subtração com arrays NumPy (comutada)\n",
    "            return ObjQuantico(other - self.dados)\n",
    "        else:\n",
    "            raise TypeError(f\"Subtração não suportada entre {type(other)} e ObjQuantico\")   \n",
    "\n",
    "    def __truediv__(self, other):\n",
    "        if isinstance(other, (int, float)):  # Divisão por um número escalar\n",
    "            return ObjQuantico(self.dados / other)\n",
    "        else:\n",
    "            raise TypeError(f\"Divisão não suportada entre {type(other)} e ObjQuantico\")\n",
    "    \n",
    "    def __rtruediv__(self, other):\n",
    "        if isinstance(other, (int, float)):  # Divisão invertida por um número escalar\n",
    "            return ObjQuantico(other / self.dados)\n",
    "        else:\n",
    "            raise TypeError(f\"Divisão não suportada entre {type(other)} e ObjQuantico\")     \n",
    "    \n",
    "    def __matmul__(self, other):\n",
    "        \"\"\"Implementa o operador @ para o produto tensorial.\"\"\"\n",
    "        if isinstance(other, ObjQuantico):\n",
    "            return ObjQuantico(np.kron(self.full(), other.full()))\n",
    "        else:\n",
    "            raise TypeError(f\"Operador @ não suportado entre {type(self)} e {type(other)}\")\n",
    "\n",
    "def bases(N,n):\n",
    "    estadoinicial = np.zeros(shape=(N, 1))\n",
    "    estadoinicial[n, 0] = 1\n",
    "    return ObjQuantico(estadoinicial) \n",
    "  \n",
    "def ket(entrada):\n",
    "    if isinstance(entrada, str):\n",
    "        if entrada == '0':\n",
    "            dados = np.array([[1], [0]])\n",
    "            latex_representation = r\"$$ \\ket{0} $$\"  # LaTeX para o ket |0>\n",
    "            return ObjQuantico(dados, latex_representation)\n",
    "        elif entrada == '1':\n",
    "            dados = np.array([[0], [1]])\n",
    "            latex_representation = r\"$$ \\ket{1} $$\"  # LaTeX para o ket |1>\n",
    "            return ObjQuantico(dados, latex_representation)\n",
    "    else:\n",
    "        try:\n",
    "            return ObjQuantico(entrada)\n",
    "        except ValueError:\n",
    "            return print(\"Entrada invalida.\") \n",
    "         \n",
    "def bra(entrada):\n",
    "    if isinstance(entrada, str):\n",
    "        if entrada == '0':\n",
    "            dados = np.array([[1], [0]])\n",
    "            latex_representation = r\"$$ \\bra{0} $$\"  # LaTeX para o ket |0>\n",
    "            return ObjQuantico(dados, latex_representation)\n",
    "        elif entrada == '1':\n",
    "            dados = np.array([[0], [1]])\n",
    "            latex_representation = r\"$$ \\bra{1} $$\"  # LaTeX para o ket |0>\n",
    "            return ObjQuantico(dados, latex_representation)\n",
    "    else:\n",
    "        try:\n",
    "            return ObjQuantico(entrada)\n",
    "        except ValueError:\n",
    "            return print(\"Entrada invalida.\")      \n",
    "\n",
    "def destruiçao(N):\n",
    "    subdiag = np.sqrt(np.arange(1, N))# Monta os elementos na subdiagonal\n",
    "    dt      = np.diag(subdiag, k=1) # Operador de destruição\n",
    "    return ObjQuantico(dt)\n",
    "\n",
    "def criaçao(N):\n",
    "    return  destruiçao(N).dag()    \n",
    "   \n",
    "def Identidade(N):\n",
    "    matriz = np.identity(N)\n",
    "    return ObjQuantico(matriz) \n",
    "\n",
    "def pauliX():\n",
    "    m = np.array([[ 0, 1 ],[ 1, 0 ]])\n",
    "    latex_representation = r\"$$ \\hat{\\sigma_x} $$\"\n",
    "    return ObjQuantico(m,latex_representation)\n",
    "\n",
    "def pauliY():\n",
    "    m = np.array([[ 0, -1j ],[ 1j, 0 ]])\n",
    "    latex_representation = r\"$$ \\hat{\\sigma_y} $$\"  \n",
    "    return ObjQuantico(m,latex_representation)\n",
    "\n",
    "def pauliZ():\n",
    "    m = np.array([[ 1, 0 ],[ 0, -1 ]])\n",
    "    latex_representation = r\"$$ \\hat{\\sigma_z} $$\"  \n",
    "    return ObjQuantico(m,latex_representation)\n"
   ]
  },
  {
   "cell_type": "markdown",
   "metadata": {},
   "source": [
    "###  Base de fock"
   ]
  },
  {
   "cell_type": "code",
   "execution_count": 3,
   "metadata": {},
   "outputs": [
    {
     "data": {
      "text/latex": [
       "$\\displaystyle \\left[\\begin{matrix}1.0\\\\0\\\\0\\\\0\\\\0\\end{matrix}\\right]$"
      ],
      "text/plain": [
       "<IPython.core.display.Math object>"
      ]
     },
     "metadata": {},
     "output_type": "display_data"
    },
    {
     "data": {
      "text/plain": [
       "ObjQuantico: dim =5 , shape = (5, 1)"
      ]
     },
     "execution_count": 3,
     "metadata": {},
     "output_type": "execute_result"
    }
   ],
   "source": [
    "def Fock(N, n=0):\n",
    "    \"Equivalente a função bases\"\n",
    "    return bases(N, n)\n",
    "\n",
    "Fock(N=5)"
   ]
  },
  {
   "cell_type": "markdown",
   "metadata": {},
   "source": [
    "### Coerente"
   ]
  },
  {
   "cell_type": "markdown",
   "metadata": {},
   "source": [
    "Para escrever o estado coerente tem duas forma :\n",
    "\n",
    "\n",
    "(1) OPERADOR: forma compacta usando o operador de deslocamento.\n",
    "$$\n",
    "|\\alpha\\rangle =D(\\alpha)|0\\rangle =  e^{\\alpha a^\\dagger - \\alpha^* a} |0\\rangle\n",
    "$$\n",
    "\n",
    "(2)ANALITICO: expansão na base de fock\n",
    "$$\n",
    "|\\alpha\\rangle = e^{-\\frac{|\\alpha|^2}{2}} \\sum_{n=0}^{\\infty} \\frac{\\alpha^n}{\\sqrt{n!}} |n\\rangle\n",
    "\n",
    "$$"
   ]
  },
  {
   "cell_type": "markdown",
   "metadata": {},
   "source": [
    "### 1º forma"
   ]
  },
  {
   "cell_type": "code",
   "execution_count": 4,
   "metadata": {},
   "outputs": [
    {
     "data": {
      "text/latex": [
       "$\\displaystyle \\left[\\begin{matrix}1.0\\\\0\\\\0\\\\0\\\\0\\end{matrix}\\right]$"
      ],
      "text/plain": [
       "<IPython.core.display.Math object>"
      ]
     },
     "metadata": {},
     "output_type": "display_data"
    },
    {
     "data": {
      "text/plain": [
       "ObjQuantico: dim =5 , shape = (5, 1)"
      ]
     },
     "execution_count": 4,
     "metadata": {},
     "output_type": "execute_result"
    }
   ],
   "source": [
    "# 1 forma\n",
    "N       = 5\n",
    "estado  = bases(N,0)\n",
    "estado"
   ]
  },
  {
   "cell_type": "code",
   "execution_count": 5,
   "metadata": {},
   "outputs": [],
   "source": [
    "def criaçao(N):\n",
    "    return  destruiçao(N).dag()"
   ]
  },
  {
   "cell_type": "markdown",
   "metadata": {},
   "source": [
    "Agora vamos criar o operador de deslocamento"
   ]
  },
  {
   "cell_type": "code",
   "execution_count": 6,
   "metadata": {},
   "outputs": [
    {
     "data": {
      "text/latex": [
       "$\\displaystyle \\left[\\begin{matrix}0 & -0.5 & 0 & 0 & 0\\\\0.5 & 0 & -0.707106781186548 & 0 & 0\\\\0 & 0.707106781186548 & 0 & -0.866025403784439 & 0\\\\0 & 0 & 0.866025403784439 & 0 & -1.0\\\\0 & 0 & 0 & 1.0 & 0\\end{matrix}\\right]$"
      ],
      "text/plain": [
       "<IPython.core.display.Math object>"
      ]
     },
     "metadata": {},
     "output_type": "display_data"
    },
    {
     "data": {
      "text/plain": [
       "ObjQuantico: dim =5 , shape = (5, 5)"
      ]
     },
     "execution_count": 6,
     "metadata": {},
     "output_type": "execute_result"
    }
   ],
   "source": [
    "from scipy.linalg import expm\n",
    "alpha =0.5\n",
    "alpha * destruiçao(N).dag() - np.conj(alpha) * destruiçao(N)"
   ]
  },
  {
   "cell_type": "code",
   "execution_count": 7,
   "metadata": {},
   "outputs": [
    {
     "data": {
      "text/plain": [
       "array([[ 0.        , -0.5       ,  0.        ,  0.        ,  0.        ],\n",
       "       [ 0.5       ,  0.        , -0.70710678,  0.        ,  0.        ],\n",
       "       [ 0.        ,  0.70710678,  0.        , -0.8660254 ,  0.        ],\n",
       "       [ 0.        ,  0.        ,  0.8660254 ,  0.        , -1.        ],\n",
       "       [ 0.        ,  0.        ,  0.        ,  1.        ,  0.        ]])"
      ]
     },
     "execution_count": 7,
     "metadata": {},
     "output_type": "execute_result"
    }
   ],
   "source": [
    "data = alpha * destruiçao(N).dag() - np.conj(alpha) * destruiçao(N)\n",
    "data.full()"
   ]
  },
  {
   "cell_type": "code",
   "execution_count": 8,
   "metadata": {},
   "outputs": [],
   "source": [
    "from scipy.linalg import expm\n",
    "def expM(matriz):\n",
    "    return ObjQuantico(expm(matriz.full()))  \n"
   ]
  },
  {
   "cell_type": "code",
   "execution_count": 9,
   "metadata": {},
   "outputs": [
    {
     "data": {
      "text/latex": [
       "$\\displaystyle \\left[\\begin{matrix}0.8824969330377 & -0.441247849375571 & 0.15601244867371 & -0.0449658383123005 & 0.0117340463690808\\\\0.44124784937557 & 0.661862012224304 & -0.546135576393061 & 0.246753394977935 & -0.089931676624601\\\\0.15601244867371 & 0.546135576393061 & 0.469969517633312 & -0.573489798694794 & 0.357259221497736\\\\0.0449658383123005 & 0.246753394977935 & 0.573489798694794 & 0.258915405560718 & -0.735637885788972\\\\0.0117340463690808 & 0.089931676624601 & 0.357259221497736 & 0.735637885788972 & 0.568310967114008\\end{matrix}\\right]$"
      ],
      "text/plain": [
       "<IPython.core.display.Math object>"
      ]
     },
     "metadata": {},
     "output_type": "display_data"
    },
    {
     "data": {
      "text/plain": [
       "ObjQuantico: dim =5 , shape = (5, 5)"
      ]
     },
     "execution_count": 9,
     "metadata": {},
     "output_type": "execute_result"
    }
   ],
   "source": [
    "alpha =0.5\n",
    "D = expM(alpha * destruiçao(N).dag() - np.conj(alpha) * destruiçao(N))\n",
    "D"
   ]
  },
  {
   "cell_type": "markdown",
   "metadata": {},
   "source": [
    "Conferindo com o qutip"
   ]
  },
  {
   "cell_type": "code",
   "execution_count": 10,
   "metadata": {},
   "outputs": [
    {
     "data": {
      "text/latex": [
       "Quantum object: dims=[[5], [5]], shape=(5, 5), type='oper', dtype=Dense, isherm=False$$\\left(\\begin{array}{cc}0.882 & -0.441 & 0.156 & -0.045 & 0.012\\\\0.441 & 0.662 & -0.546 & 0.247 & -0.090\\\\0.156 & 0.546 & 0.470 & -0.573 & 0.357\\\\0.045 & 0.247 & 0.573 & 0.259 & -0.736\\\\0.012 & 0.090 & 0.357 & 0.736 & 0.568\\end{array}\\right)$$"
      ],
      "text/plain": [
       "Quantum object: dims=[[5], [5]], shape=(5, 5), type='oper', dtype=Dense, isherm=False\n",
       "Qobj data =\n",
       "[[ 0.88249693 -0.44124785  0.15601245 -0.04496584  0.01173405]\n",
       " [ 0.44124785  0.66186201 -0.54613558  0.24675339 -0.08993168]\n",
       " [ 0.15601245  0.54613558  0.46996952 -0.5734898   0.35725922]\n",
       " [ 0.04496584  0.24675339  0.5734898   0.25891541 -0.73563789]\n",
       " [ 0.01173405  0.08993168  0.35725922  0.73563789  0.56831097]]"
      ]
     },
     "execution_count": 10,
     "metadata": {},
     "output_type": "execute_result"
    }
   ],
   "source": [
    "from qutip import destroy\n",
    "(alpha * destroy(N).dag() - np.conj(alpha) * destroy(N)).expm()\n"
   ]
  },
  {
   "cell_type": "code",
   "execution_count": 11,
   "metadata": {},
   "outputs": [
    {
     "data": {
      "text/latex": [
       "$\\displaystyle \\left[\\begin{matrix}0.8824969330377\\\\0.44124784937557\\\\0.15601244867371\\\\0.0449658383123005\\\\0.0117340463690808\\end{matrix}\\right]$"
      ],
      "text/plain": [
       "<IPython.core.display.Math object>"
      ]
     },
     "metadata": {},
     "output_type": "display_data"
    },
    {
     "data": {
      "text/plain": [
       "ObjQuantico: dim =5 , shape = (5, 1)"
      ]
     },
     "execution_count": 11,
     "metadata": {},
     "output_type": "execute_result"
    }
   ],
   "source": [
    "D*estado"
   ]
  },
  {
   "cell_type": "code",
   "execution_count": 12,
   "metadata": {},
   "outputs": [],
   "source": [
    "def coerente(alpha,N):\n",
    "    estado  = bases(N,0) # estado inicinal no vacuo\n",
    "    D       = alpha * destruiçao(N).dag() - np.conj(alpha) * destruiçao(N)\n",
    "    D       = D.expM()\n",
    "    return D*estado"
   ]
  },
  {
   "cell_type": "code",
   "execution_count": 13,
   "metadata": {},
   "outputs": [
    {
     "data": {
      "text/latex": [
       "$\\displaystyle \\left[\\begin{matrix}0.8824969330377\\\\0.44124784937557\\\\0.15601244867371\\\\0.0449658383123005\\\\0.0117340463690808\\end{matrix}\\right]$"
      ],
      "text/plain": [
       "<IPython.core.display.Math object>"
      ]
     },
     "metadata": {},
     "output_type": "display_data"
    },
    {
     "data": {
      "text/plain": [
       "ObjQuantico: dim =5 , shape = (5, 1)"
      ]
     },
     "execution_count": 13,
     "metadata": {},
     "output_type": "execute_result"
    }
   ],
   "source": [
    "coerente(0.5,5)"
   ]
  },
  {
   "cell_type": "markdown",
   "metadata": {},
   "source": [
    "### 2º forma"
   ]
  },
  {
   "cell_type": "code",
   "execution_count": 14,
   "metadata": {},
   "outputs": [
    {
     "data": {
      "text/plain": [
       "array([[0.8824969 +0.j],\n",
       "       [0.44124845+0.j],\n",
       "       [0.15600489+0.j],\n",
       "       [0.04503473+0.j],\n",
       "       [0.01125868+0.j]])"
      ]
     },
     "execution_count": 14,
     "metadata": {},
     "output_type": "execute_result"
    }
   ],
   "source": [
    "from  scipy.special import factorial\n",
    "\n",
    "# 2 forma\n",
    "estado  = np.zeros(shape=(N,1),dtype=complex)\n",
    "n       = np.arange(N)\n",
    "estado[:,0] = np.exp(-abs(alpha) ** 2 / 2.0) * (alpha ** (n))/np.sqrt(factorial(n))\n",
    "estado"
   ]
  },
  {
   "cell_type": "code",
   "execution_count": 15,
   "metadata": {},
   "outputs": [],
   "source": [
    "def coerente(N,alpha,metodo =\"operador\"):\n",
    "    if metodo == \"operador\" :\n",
    "        estado  = bases(N,0) # estado inicinal no vacuo\n",
    "        D       = alpha * destruiçao(N).dag() - np.conj(alpha) * destruiçao(N)\n",
    "        D       = D.expM()\n",
    "        return D*estado\n",
    "    \n",
    "    elif metodo == \"analitico\":    \n",
    "        estado  = np.zeros(shape=(N,1),dtype=complex)\n",
    "        n       = np.arange(N)\n",
    "        estado[:,0] = np.exp(-(abs(alpha) ** 2 )/ 2.0) * (alpha**n)/np.sqrt(factorial(n))\n",
    "        return estado\n",
    "    else:\n",
    "        raise TypeError(\n",
    "            \"A opção de método tem as seguintes opções :'operador' ou 'analitico'\")"
   ]
  },
  {
   "cell_type": "code",
   "execution_count": 16,
   "metadata": {},
   "outputs": [
    {
     "data": {
      "text/latex": [
       "$\\displaystyle \\left[\\begin{matrix}0.911940735442995 + 5.55111512312578 \\cdot 10^{-17} i\\\\0.0364704774433115 + 0.364704774433115 i\\\\-0.171260467414558 + 0.0345980742251631 i\\\\-0.00347439867413988 - 0.0112714605816577 i\\\\-0.0534048116741059 + 0.0224958040878055 i\\end{matrix}\\right]$"
      ],
      "text/plain": [
       "<IPython.core.display.Math object>"
      ]
     },
     "metadata": {},
     "output_type": "display_data"
    },
    {
     "data": {
      "text/plain": [
       "ObjQuantico: dim =5 , shape = (5, 1)"
      ]
     },
     "execution_count": 16,
     "metadata": {},
     "output_type": "execute_result"
    }
   ],
   "source": [
    "alpha   = 0.5+5j\n",
    "N       = 5 \n",
    "coerente(N,alpha,metodo =\"operador\")"
   ]
  },
  {
   "cell_type": "code",
   "execution_count": 17,
   "metadata": {},
   "outputs": [
    {
     "data": {
      "text/plain": [
       "array([[ 3.28875988e-06+0.00000000e+00j],\n",
       "       [ 1.64437994e-06+1.64437994e-05j],\n",
       "       [-5.75562342e-05+1.16275221e-05j],\n",
       "       [-5.01808186e-05-1.62793960e-04j],\n",
       "       [ 3.94439696e-04-1.66150537e-04j]])"
      ]
     },
     "execution_count": 17,
     "metadata": {},
     "output_type": "execute_result"
    }
   ],
   "source": [
    "coerente(N=5,alpha=0.5+5j,metodo =\"analitico\")"
   ]
  }
 ],
 "metadata": {
  "colab": {
   "authorship_tag": "ABX9TyM9r6l/WF+NtqPeBxfXj7g+",
   "include_colab_link": true,
   "provenance": []
  },
  "kernelspec": {
   "display_name": "torch-qutip",
   "language": "python",
   "name": "python3"
  },
  "language_info": {
   "codemirror_mode": {
    "name": "ipython",
    "version": 3
   },
   "file_extension": ".py",
   "mimetype": "text/x-python",
   "name": "python",
   "nbconvert_exporter": "python",
   "pygments_lexer": "ipython3",
   "version": "3.10.13"
  }
 },
 "nbformat": 4,
 "nbformat_minor": 0
}
