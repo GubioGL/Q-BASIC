{
 "cells": [
  {
   "cell_type": "code",
   "execution_count": 1,
   "metadata": {},
   "outputs": [
    {
     "name": "stdout",
     "output_type": "stream",
     "text": [
      "2.5.1+cu118\n",
      "True\n",
      "NVIDIA GeForce GTX 1660 SUPER\n",
      "Usando o dispositivo: cuda\n"
     ]
    }
   ],
   "source": [
    "import torch\n",
    "import time\n",
    "print(torch.__version__)  # Exibe a versão do PyTorch\n",
    "print(torch.cuda.is_available())  # Verifica se o CUDA está disponível\n",
    "print(torch.cuda.get_device_name(0))  # Mostra o nome da GPU, se disponível\n",
    "\n",
    "# Configura o dispositivo: GPU, se disponível, senão CPU\n",
    "device = torch.device(\"cuda\" if torch.cuda.is_available() else \"cpu\")\n",
    "print(f\"Usando o dispositivo: {device}\")\n"
   ]
  },
  {
   "cell_type": "code",
   "execution_count": 2,
   "metadata": {},
   "outputs": [
    {
     "name": "stdout",
     "output_type": "stream",
     "text": [
      "Tempo de execução na CPU: 25.9015 segundos\n"
     ]
    }
   ],
   "source": [
    "# Define o tamanho do tensor para o teste\n",
    "tensor_size = 20000\n",
    "\n",
    "# Teste na CPU\n",
    "cpu_device = torch.device(\"cpu\")\n",
    "tensor_cpu = torch.randn(tensor_size, tensor_size, device=cpu_device)\n",
    "start_time = time.time()\n",
    "result_cpu = tensor_cpu @ tensor_cpu  # Multiplicação de matriz\n",
    "cpu_time = time.time() - start_time\n",
    "print(f\"Tempo de execução na CPU: {cpu_time:.4f} segundos\")"
   ]
  },
  {
   "cell_type": "code",
   "execution_count": 3,
   "metadata": {},
   "outputs": [
    {
     "name": "stdout",
     "output_type": "stream",
     "text": [
      "Tempo de execução na GPU: 4.3314 segundos\n",
      "Máxima diferença entre os resultados CPU e GPU: 1.2061e+03\n"
     ]
    }
   ],
   "source": [
    "# Teste na GPU (se disponível)\n",
    "if torch.cuda.is_available():\n",
    "    tensor_gpu = torch.randn(tensor_size, tensor_size, device=device)\n",
    "    torch.cuda.synchronize()  # Garante que o GPU esteja pronto antes de medir o tempo\n",
    "    start_time = time.time()\n",
    "    result_gpu = tensor_gpu @ tensor_gpu  # Multiplicação de matriz\n",
    "    torch.cuda.synchronize()  # Garante a conclusão da operação antes de medir o tempo\n",
    "    gpu_time = time.time() - start_time\n",
    "    print(f\"Tempo de execução na GPU: {gpu_time:.4f} segundos\")\n",
    "else:\n",
    "    print(\"GPU não está disponível.\")\n",
    "\n",
    "# Comparação dos resultados (opcional)\n",
    "if torch.cuda.is_available():\n",
    "    diff = (result_cpu.to(device) - result_gpu).abs().max()\n",
    "    print(f\"Máxima diferença entre os resultados CPU e GPU: {diff:.4e}\")\n"
   ]
  }
 ],
 "metadata": {
  "kernelspec": {
   "display_name": "Qutip_torch",
   "language": "python",
   "name": "python3"
  },
  "language_info": {
   "codemirror_mode": {
    "name": "ipython",
    "version": 3
   },
   "file_extension": ".py",
   "mimetype": "text/x-python",
   "name": "python",
   "nbconvert_exporter": "python",
   "pygments_lexer": "ipython3",
   "version": "3.11.10"
  }
 },
 "nbformat": 4,
 "nbformat_minor": 2
}
