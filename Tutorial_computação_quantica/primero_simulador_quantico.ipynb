{
  "cells": [
    {
      "cell_type": "code",
      "execution_count": 1,
      "metadata": {},
      "outputs": [],
      "source": [
        "import numpy as np"
      ]
    },
    {
      "cell_type": "markdown",
      "metadata": {},
      "source": [
        "# Estados quanticos "
      ]
    },
    {
      "cell_type": "code",
      "execution_count": 12,
      "metadata": {},
      "outputs": [
        {
          "data": {
            "text/plain": [
              "array([[1.+0.j],\n",
              "       [0.+0.j]])"
            ]
          },
          "execution_count": 12,
          "metadata": {},
          "output_type": "execute_result"
        }
      ],
      "source": [
        "# Qubit no estado 0 \n",
        "ket_psi_0 = np.array( [[1], [0]] ,complex)\n",
        "\n",
        "ket_psi_0"
      ]
    },
    {
      "cell_type": "code",
      "execution_count": 13,
      "metadata": {},
      "outputs": [
        {
          "data": {
            "text/plain": [
              "array([[0.+0.j],\n",
              "       [1.+0.j]])"
            ]
          },
          "execution_count": 13,
          "metadata": {},
          "output_type": "execute_result"
        }
      ],
      "source": [
        "# Qubit no estado 1 \n",
        "ket_psi_1 = np.array( [[0], [1]] ,complex )\n",
        "\n",
        "ket_psi_1"
      ]
    },
    {
      "cell_type": "code",
      "execution_count": 14,
      "metadata": {},
      "outputs": [
        {
          "data": {
            "text/plain": [
              "array([[1.-0.j, 0.-0.j]])"
            ]
          },
          "execution_count": 14,
          "metadata": {},
          "output_type": "execute_result"
        }
      ],
      "source": [
        "bra_psi_0 = ket_psi_0.T.conj()\n",
        "bra_psi_0"
      ]
    },
    {
      "cell_type": "code",
      "execution_count": 15,
      "metadata": {},
      "outputs": [
        {
          "data": {
            "text/plain": [
              "array([[0.-0.j, 1.-0.j]])"
            ]
          },
          "execution_count": 15,
          "metadata": {},
          "output_type": "execute_result"
        }
      ],
      "source": [
        "bra_psi_1 = ket_psi_1.T.conj()\n",
        "bra_psi_1"
      ]
    },
    {
      "cell_type": "markdown",
      "metadata": {},
      "source": [
        "# Produto interno "
      ]
    },
    {
      "cell_type": "code",
      "execution_count": 33,
      "metadata": {},
      "outputs": [
        {
          "data": {
            "text/plain": [
              "1.0"
            ]
          },
          "execution_count": 33,
          "metadata": {},
          "output_type": "execute_result"
        }
      ],
      "source": [
        "produto_interno = np.dot(bra_psi_0, ket_psi_0)\n",
        "float(produto_interno.sum().real)"
      ]
    },
    {
      "cell_type": "code",
      "execution_count": 34,
      "metadata": {},
      "outputs": [
        {
          "data": {
            "text/plain": [
              "1.0"
            ]
          },
          "execution_count": 34,
          "metadata": {},
          "output_type": "execute_result"
        }
      ],
      "source": [
        "produto_interno = np.dot(bra_psi_1, ket_psi_1)\n",
        "float(produto_interno.sum().real)"
      ]
    },
    {
      "cell_type": "code",
      "execution_count": 35,
      "metadata": {},
      "outputs": [
        {
          "data": {
            "text/plain": [
              "0.0"
            ]
          },
          "execution_count": 35,
          "metadata": {},
          "output_type": "execute_result"
        }
      ],
      "source": [
        "produto_interno = np.dot(bra_psi_1, ket_psi_0)\n",
        "float(produto_interno.sum().real)"
      ]
    },
    {
      "cell_type": "code",
      "execution_count": 36,
      "metadata": {},
      "outputs": [
        {
          "data": {
            "text/plain": [
              "0.0"
            ]
          },
          "execution_count": 36,
          "metadata": {},
          "output_type": "execute_result"
        }
      ],
      "source": [
        "produto_interno = np.dot(bra_psi_0, ket_psi_1)\n",
        "float(produto_interno.sum().real)"
      ]
    },
    {
      "cell_type": "code",
      "execution_count": 65,
      "metadata": {},
      "outputs": [
        {
          "name": "stdout",
          "output_type": "stream",
          "text": [
            "<0|0> = 1.0\n",
            "<0|1> = 0.0\n",
            "<1|0> = 0.0\n",
            "<1|1> = 1.0\n"
          ]
        }
      ],
      "source": [
        "def produto_interno(vetor1, vetor2):\n",
        "    \"\"\"Calcula o produto interno entre dois vetores ortogonais.\n",
        "\n",
        "    Args:\n",
        "        vetor1 (np.ndarray): O primeiro vetor.\n",
        "        vetor2 (np.ndarray): O segundo vetor.\n",
        "\n",
        "    Retorna:\n",
        "        float: O produto interno entre os dois vetores.\n",
        "    \"\"\"\n",
        "    produto_interno = np.dot(vetor1.T.conj(), vetor2)\n",
        "    return float(produto_interno.sum().real)\n",
        "\n",
        "# Exemplo de uso\n",
        "ket_0 = ket_psi_0\n",
        "ket_1 = ket_psi_1\n",
        "\n",
        "print(f\"<0|0> = {produto_interno(ket_0, ket_0)}\")\n",
        "print(f\"<0|1> = {produto_interno(ket_0, ket_1)}\")\n",
        "print(f\"<1|0> = {produto_interno(ket_1, ket_0)}\")\n",
        "print(f\"<1|1> = {produto_interno(ket_1, ket_1)}\")\n"
      ]
    },
    {
      "cell_type": "markdown",
      "metadata": {},
      "source": [
        "# Normalização dos estados."
      ]
    },
    {
      "cell_type": "code",
      "execution_count": 66,
      "metadata": {},
      "outputs": [
        {
          "data": {
            "text/plain": [
              "(array([[0.62831853+0.j        ],\n",
              "        [0.        +3.45575192j]]),\n",
              " array([[0.62831853-0.j        , 0.        -3.45575192j]]))"
            ]
          },
          "execution_count": 66,
          "metadata": {},
          "output_type": "execute_result"
        }
      ],
      "source": [
        "ket_psi = np.array( [[(0.2+0j)*np.pi], [(0+1.1j)*np.pi]] ,complex )\n",
        "bra_psi = ket_psi.T.conj()\n",
        "ket_psi,bra_psi"
      ]
    },
    {
      "cell_type": "code",
      "execution_count": 67,
      "metadata": {},
      "outputs": [
        {
          "data": {
            "text/plain": [
              "12.3370055013617"
            ]
          },
          "execution_count": 67,
          "metadata": {},
          "output_type": "execute_result"
        }
      ],
      "source": [
        "produto_interno(ket_psi,ket_psi)"
      ]
    },
    {
      "cell_type": "markdown",
      "metadata": {},
      "source": [
        "Normalização"
      ]
    },
    {
      "cell_type": "code",
      "execution_count": 68,
      "metadata": {},
      "outputs": [],
      "source": [
        "norma = produto_interno(ket_psi,ket_psi)"
      ]
    },
    {
      "cell_type": "markdown",
      "metadata": {},
      "source": [
        "Novos vetores normalizado "
      ]
    },
    {
      "cell_type": "code",
      "execution_count": 69,
      "metadata": {},
      "outputs": [
        {
          "data": {
            "text/plain": [
              "array([[0.17888544+0.j        ],\n",
              "       [0.        +0.98386991j]])"
            ]
          },
          "execution_count": 69,
          "metadata": {},
          "output_type": "execute_result"
        }
      ],
      "source": [
        "ket_psi_norm = ket_psi/np.sqrt(norma)\n",
        "ket_psi_norm"
      ]
    },
    {
      "cell_type": "code",
      "execution_count": 50,
      "metadata": {},
      "outputs": [
        {
          "data": {
            "text/plain": [
              "array([[0.17888544-0.j        , 0.        -0.98386991j]])"
            ]
          },
          "execution_count": 50,
          "metadata": {},
          "output_type": "execute_result"
        }
      ],
      "source": [
        "bra_psi_norm = bra_psi/np.sqrt(norma)\n",
        "bra_psi_norm"
      ]
    },
    {
      "cell_type": "markdown",
      "metadata": {},
      "source": [
        "Varificando se os vetores estão normalizado "
      ]
    },
    {
      "cell_type": "code",
      "execution_count": 73,
      "metadata": {},
      "outputs": [
        {
          "name": "stdout",
          "output_type": "stream",
          "text": [
            "<> = 1.0000000000000002\n"
          ]
        }
      ],
      "source": [
        "print(f\"<> = {produto_interno(ket_psi_norm, ket_psi_norm)}\")"
      ]
    },
    {
      "cell_type": "code",
      "execution_count": 53,
      "metadata": {},
      "outputs": [],
      "source": [
        "def estado_normalizado(alpha, beta):\n",
        "    \"\"\"Calcula um estado quântico normalizado dado amplitudes arbitrárias.\n",
        "\n",
        "    Args:\n",
        "        alpha (complex): A amplitude associada ao estado |0>.\n",
        "        beta (complex): A amplitude associada ao estado |1>.\n",
        "\n",
        "    Retorna:\n",
        "        np.array[complex]: Um vetor (numpy array) com 2 elementos que representa\n",
        "        um estado quântico normalizado.\n",
        "    \"\"\"\n",
        "\n",
        "    ket = np.array([[alpha], [beta]], complex)\n",
        "    norma = np.sqrt(np.dot(ket.T.conj(), ket).sum().real)\n",
        "    return ket / norma"
      ]
    },
    {
      "cell_type": "markdown",
      "metadata": {},
      "source": [
        "# Superposição"
      ]
    },
    {
      "cell_type": "code",
      "execution_count": 45,
      "metadata": {},
      "outputs": [
        {
          "data": {
            "text/plain": [
              "array([[1.+0.j],\n",
              "       [1.+0.j]])"
            ]
          },
          "execution_count": 45,
          "metadata": {},
          "output_type": "execute_result"
        }
      ],
      "source": [
        "# Bse ortogonal\n",
        "ket_psi_0 = np.array( [[1], [0]] ,complex)\n",
        "ket_psi_1 = np.array( [[0], [1]] ,complex)\n",
        "\n",
        "ket_psi  = ket_psi_0 + ket_psi_1\n",
        "ket_psi\n"
      ]
    },
    {
      "cell_type": "markdown",
      "metadata": {},
      "source": [
        "Amplitude de probabilidade"
      ]
    },
    {
      "cell_type": "code",
      "execution_count": 46,
      "metadata": {},
      "outputs": [
        {
          "data": {
            "text/plain": [
              "array([[0.25],\n",
              "       [0.75]])"
            ]
          },
          "execution_count": 46,
          "metadata": {},
          "output_type": "execute_result"
        }
      ],
      "source": [
        "# Bse ortogonal\n",
        "alpha = 0.25\n",
        "beta  = 0.75\n",
        "ket_psi_0 = np.array( [[1], [0]] )\n",
        "ket_psi_1 = np.array( [[0], [1]] )\n",
        "\n",
        "ket_psi  = alpha*ket_psi_0 + beta*ket_psi_1\n",
        "ket_psi\n"
      ]
    },
    {
      "cell_type": "markdown",
      "metadata": {},
      "source": [
        "# Amostragem na medida.\n"
      ]
    },
    {
      "cell_type": "markdown",
      "metadata": {},
      "source": [
        "Medida de um estado "
      ]
    },
    {
      "cell_type": "code",
      "execution_count": 9,
      "metadata": {},
      "outputs": [
        {
          "name": "stdout",
          "output_type": "stream",
          "text": [
            "P(<0|0>) = [[1.]]\n",
            "P(<1|0>) = [[0.]]\n",
            "P(<psi|0>) = [[0.70710678]]\n"
          ]
        }
      ],
      "source": [
        "# Exemplo de uso\n",
        "ket_0 = np.array( [[1.], [0.]])\n",
        "ket_1 = np.array( [[0.], [1.]])\n",
        "\n",
        "ket = (ket_0 + ket_1)/np.sqrt(2)\n",
        "\n",
        "# Probabilidade de medir \"i\" dado que o qubit está em \"j\"\n",
        "print(f\"P(<0|0>) = {abs( ket_0.T.conj()@ket_0)}\")\n",
        "print(f\"P(<1|0>) = {abs( ket_1.T.conj()@ket_0)}\")\n",
        "print(f\"P(<psi|0>) = {abs( ket.T.conj()@ket_0)}\")\n",
        "\n"
      ]
    },
    {
      "cell_type": "markdown",
      "metadata": {},
      "source": [
        "Essas são probabilidade exatas do estado , no experimento temo que fazer varias mediadas para determinr qual é a amplitude de probabilidade. \n",
        "\n",
        "Para tanto iremos medir varias vezes uma hora em 0 e outro em 1 , que são as bases computacionais."
      ]
    },
    {
      "cell_type": "code",
      "execution_count": 16,
      "metadata": {},
      "outputs": [
        {
          "data": {
            "text/plain": [
              "array([[0.8],\n",
              "       [0.6]])"
            ]
          },
          "execution_count": 16,
          "metadata": {},
          "output_type": "execute_result"
        }
      ],
      "source": [
        "alpha = 0.8\n",
        "beta = 0.6\n",
        "# Exemplo de uso\n",
        "ket_0 = np.array( [[1.], [0.]])\n",
        "ket_1 = np.array( [[0.], [1.]])\n",
        "\n",
        "ket = (alpha*ket_0 + beta*ket_1)/np.sqrt( abs(alpha)**2 + abs(beta)**2 )\n",
        "ket"
      ]
    },
    {
      "cell_type": "code",
      "execution_count": null,
      "metadata": {},
      "outputs": [],
      "source": [
        "numero_medidad = 10\n",
        "numeros_aleatorios = np.random.choice([0, 1], p=[abs(alpha)**2, abs(beta)**2], size=numero_medidad)\n",
        "numeros_aleatorios"
      ]
    },
    {
      "cell_type": "code",
      "execution_count": 38,
      "metadata": {},
      "outputs": [],
      "source": [
        "def medidada(numero_medidad,estado=None,alpha=None,beta=None):\n",
        "    \"\"\"Realiza uma medição em um qubit na base computacional.\n",
        "\n",
        "    Retorna:\n",
        "        int: O resultado da medição (0 ou 1).\n",
        "    \"\"\"\n",
        "    if estado is not None:\n",
        "        alpha = estado[0][0]\n",
        "        beta = estado[1][0]\n",
        "    else:\n",
        "        alpha = alpha\n",
        "        beta = beta\n",
        "\n",
        "    return  np.random.choice([0, 1], p=[abs(alpha)**2, abs(beta)**2], size=numero_medidad)"
      ]
    },
    {
      "cell_type": "code",
      "execution_count": 39,
      "metadata": {},
      "outputs": [],
      "source": [
        "alpha = 1/np.sqrt(2)\n",
        "beta = alpha\n",
        "# Exemplo de uso\n",
        "ket_0 = np.array( [[1.], [0.]])\n",
        "ket_1 = np.array( [[0.], [1.]])\n",
        "\n",
        "ket = (alpha*ket_0 + beta*ket_1)/np.sqrt( abs(alpha)**2 + abs(beta)**2 )"
      ]
    },
    {
      "cell_type": "code",
      "execution_count": 40,
      "metadata": {},
      "outputs": [
        {
          "data": {
            "text/plain": [
              "array([1, 0, 1, 0, 0, 1, 1, 1, 0, 1])"
            ]
          },
          "execution_count": 40,
          "metadata": {},
          "output_type": "execute_result"
        }
      ],
      "source": [
        "medidada(10,estado=ket)"
      ]
    },
    {
      "cell_type": "code",
      "execution_count": 46,
      "metadata": {},
      "outputs": [],
      "source": [
        "def calcular_porcentagens(numeros_aleatorios):\n",
        "    \"\"\"Calcula a porcentagem de 0s e 1s em um array de números aleatórios.\n",
        "\n",
        "    Args:\n",
        "        numeros_aleatorios (np.ndarray): Array de números aleatórios contendo 0s e 1s.\n",
        "\n",
        "    Retorna:\n",
        "        tuple: Uma tupla contendo a porcentagem de 0s e a porcentagem de 1s.\n",
        "    \"\"\"\n",
        "    total = len(numeros_aleatorios)\n",
        "    count_0 = np.sum(numeros_aleatorios == 0)\n",
        "    count_1 = np.sum(numeros_aleatorios == 1)\n",
        "    porcentagem_0 = (count_0 / total) * 100\n",
        "    porcentagem_1 = (count_1 / total) * 100\n",
        "    return float(porcentagem_0), float(porcentagem_1)\n",
        "\n"
      ]
    },
    {
      "cell_type": "code",
      "execution_count": 56,
      "metadata": {},
      "outputs": [],
      "source": [
        "alpha = 1/np.sqrt(2)\n",
        "beta = alpha\n",
        "\n",
        "alpha = 0.8\n",
        "beta = 0.6\n",
        "\n",
        "# Exemplo de uso\n",
        "ket_0 = np.array( [[1.], [0.]])\n",
        "ket_1 = np.array( [[0.], [1.]])\n",
        "\n",
        "ket = (alpha*ket_0 + beta*ket_1)/np.sqrt( abs(alpha)**2 + abs(beta)**2 )"
      ]
    },
    {
      "cell_type": "code",
      "execution_count": 59,
      "metadata": {},
      "outputs": [
        {
          "data": {
            "text/plain": [
              "(63.81, 36.19)"
            ]
          },
          "execution_count": 59,
          "metadata": {},
          "output_type": "execute_result"
        }
      ],
      "source": [
        "numeros_aleatorios = medidada(10000,estado=ket)\n",
        "porcentagem_0, porcentagem_1 = calcular_porcentagens(numeros_aleatorios)\n",
        "porcentagem_0, porcentagem_1"
      ]
    },
    {
      "cell_type": "markdown",
      "metadata": {},
      "source": [
        "# Aplicando uma operaçao quântica.\n",
        " "
      ]
    },
    {
      "cell_type": "code",
      "execution_count": null,
      "metadata": {},
      "outputs": [],
      "source": []
    },
    {
      "cell_type": "markdown",
      "metadata": {
        "id": "P_6qBUBBkczb"
      },
      "source": [
        "# Simulador quântico MUITO simples:"
      ]
    },
    {
      "cell_type": "code",
      "execution_count": null,
      "metadata": {
        "id": "gLCMb910Za05"
      },
      "outputs": [],
      "source": []
    },
    {
      "cell_type": "code",
      "execution_count": null,
      "metadata": {
        "id": "p2TY4ljRZhUb"
      },
      "outputs": [],
      "source": [
        "U = np.array([[1, 1], [1, -1]]) / np.sqrt(2)\n",
        "\n",
        "def initialize_state():\n",
        "    state = np.array([1,0])\n",
        "    return state\n",
        "\n",
        "def apply_u(state):\n",
        "    \"\"\"Apply a quantum operation.\"\"\"\n",
        "    return np.dot(U, state)\n",
        "\n",
        "def measure_state(state, num_meas):\n",
        "    \"\"\"Measure a quantum state num_meas times.\"\"\"\n",
        "    p_alpha = np.abs(state[0]) ** 2\n",
        "    p_beta = np.abs(state[1]) ** 2\n",
        "    meas_outcome = np.random.choice([0, 1], p=[p_alpha, p_beta], size=num_meas)\n",
        "    return meas_outcome\n",
        "\n",
        "def quantum_algorithm():\n",
        "    psi = initialize_state()\n",
        "    psi = apply_u(psi)\n",
        "    return measure_state(psi, num_meas=1000)\n"
      ]
    },
    {
      "cell_type": "code",
      "execution_count": null,
      "metadata": {
        "colab": {
          "base_uri": "https://localhost:8080/"
        },
        "id": "VPBDi59ckXWr",
        "outputId": "70e77144-d3ce-4384-d192-00af2ce179e4"
      },
      "outputs": [
        {
          "data": {
            "text/plain": [
              "array([1, 0, 1, 1, 0, 0, 0, 1, 1, 0])"
            ]
          },
          "execution_count": 41,
          "metadata": {},
          "output_type": "execute_result"
        }
      ],
      "source": [
        "result = quantum_algorithm()\n",
        "result[:10]"
      ]
    },
    {
      "cell_type": "code",
      "execution_count": null,
      "metadata": {
        "colab": {
          "base_uri": "https://localhost:8080/",
          "height": 472
        },
        "id": "6M8VAFSynkF8",
        "outputId": "d180f1ac-0f83-4044-8189-d9b837328c23"
      },
      "outputs": [
        {
          "data": {
            "image/png": "[encoded data removed]",
            "text/plain": [
              "<Figure size 640x480 with 1 Axes>"
            ]
          },
          "metadata": {},
          "output_type": "display_data"
        }
      ],
      "source": [
        "import matplotlib.pyplot as plt\n",
        "\n",
        "_ = plt.hist(result, bins=[-0.2,0.2,0.8,1.2])\n",
        "plt.title(\"Histogram \")\n",
        "plt.xlabel(\"State\")\n",
        "plt.ylabel(\"Count\")\n",
        "plt.xticks([0 ,1])\n",
        "plt.show()"
      ]
    }
  ],
  "metadata": {
    "colab": {
      "authorship_tag": "ABX9TyPSng2wWcJdygt/psD8X9ee",
      "include_colab_link": true,
      "provenance": []
    },
    "kernelspec": {
      "display_name": "pytoch_qutip",
      "language": "python",
      "name": "python3"
    },
    "language_info": {
      "codemirror_mode": {
        "name": "ipython",
        "version": 3
      },
      "file_extension": ".py",
      "mimetype": "text/x-python",
      "name": "python",
      "nbconvert_exporter": "python",
      "pygments_lexer": "ipython3",
      "version": "3.10.16"
    }
  },
  "nbformat": 4,
  "nbformat_minor": 0
}
