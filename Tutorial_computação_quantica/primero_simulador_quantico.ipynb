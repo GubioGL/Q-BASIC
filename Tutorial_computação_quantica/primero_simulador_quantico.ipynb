{
  "nbformat": 4,
  "nbformat_minor": 0,
  "metadata": {
    "colab": {
      "provenance": [],
      "authorship_tag": "ABX9TyPSng2wWcJdygt/psD8X9ee",
      "include_colab_link": true
    },
    "kernelspec": {
      "name": "python3",
      "display_name": "Python 3"
    },
    "language_info": {
      "name": "python"
    }
  },
  "cells": [
    {
      "cell_type": "markdown",
      "metadata": {
        "id": "view-in-github",
        "colab_type": "text"
      },
      "source": [
        "<a href=\"https://colab.research.google.com/github/GubioGL/Simulador_quantico/blob/main/primero_simulador_quantico.ipynb\" target=\"_parent\"><img src=\"https://colab.research.google.com/assets/colab-badge.svg\" alt=\"Open In Colab\"/></a>"
      ]
    },
    {
      "cell_type": "markdown",
      "source": [
        "# Simulador quântico MUITO simples:"
      ],
      "metadata": {
        "id": "P_6qBUBBkczb"
      }
    },
    {
      "cell_type": "code",
      "execution_count": null,
      "metadata": {
        "id": "gLCMb910Za05"
      },
      "outputs": [],
      "source": []
    },
    {
      "cell_type": "code",
      "source": [
        "U = np.array([[1, 1], [1, -1]]) / np.sqrt(2)\n",
        "\n",
        "def initialize_state():\n",
        "    state = np.array([1,0])\n",
        "    return state\n",
        "\n",
        "def apply_u(state):\n",
        "    \"\"\"Apply a quantum operation.\"\"\"\n",
        "    return np.dot(U, state)\n",
        "\n",
        "def measure_state(state, num_meas):\n",
        "    \"\"\"Measure a quantum state num_meas times.\"\"\"\n",
        "    p_alpha = np.abs(state[0]) ** 2\n",
        "    p_beta = np.abs(state[1]) ** 2\n",
        "    meas_outcome = np.random.choice([0, 1], p=[p_alpha, p_beta], size=num_meas)\n",
        "    return meas_outcome\n",
        "\n",
        "def quantum_algorithm():\n",
        "    psi = initialize_state()\n",
        "    psi = apply_u(psi)\n",
        "    return measure_state(psi, num_meas=1000)\n"
      ],
      "metadata": {
        "id": "p2TY4ljRZhUb"
      },
      "execution_count": null,
      "outputs": []
    },
    {
      "cell_type": "code",
      "source": [
        "result = quantum_algorithm()\n",
        "result[:10]"
      ],
      "metadata": {
        "colab": {
          "base_uri": "https://localhost:8080/"
        },
        "id": "VPBDi59ckXWr",
        "outputId": "70e77144-d3ce-4384-d192-00af2ce179e4"
      },
      "execution_count": null,
      "outputs": [
        {
          "output_type": "execute_result",
          "data": {
            "text/plain": [
              "array([1, 0, 1, 1, 0, 0, 0, 1, 1, 0])"
            ]
          },
          "metadata": {},
          "execution_count": 41
        }
      ]
    },
    {
      "cell_type": "code",
      "source": [
        "import matplotlib.pyplot as plt\n",
        "\n",
        "_ = plt.hist(result, bins=[-0.2,0.2,0.8,1.2])\n",
        "plt.title(\"Histogram \")\n",
        "plt.xlabel(\"State\")\n",
        "plt.ylabel(\"Count\")\n",
        "plt.xticks([0 ,1])\n",
        "plt.show()"
      ],
      "metadata": {
        "colab": {
          "base_uri": "https://localhost:8080/",
          "height": 472
        },
        "id": "6M8VAFSynkF8",
        "outputId": "d180f1ac-0f83-4044-8189-d9b837328c23"
      },
      "execution_count": null,
      "outputs": [
        {
          "output_type": "display_data",
          "data": {
            "text/plain": [
              "<Figure size 640x480 with 1 Axes>"
            ],
            "image/png": "[encoded data removed]"
          },
          "metadata": {}
        }
      ]
    }
  ]
}