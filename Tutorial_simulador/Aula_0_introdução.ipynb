{
 "cells": [
  {
   "cell_type": "markdown",
   "metadata": {
    "colab_type": "text",
    "id": "view-in-github"
   },
   "source": [
    "<a href=\"https://colab.research.google.com/github/GubioGL/Simulador_quantico/blob/main/Aula_0_introdu%C3%A7%C3%A3oipynb.ipynb\" target=\"_parent\"><img src=\"https://colab.research.google.com/assets/colab-badge.svg\" alt=\"Open In Colab\"/></a>"
   ]
  },
  {
   "cell_type": "markdown",
   "metadata": {
    "id": "S4wNoXpWk6gy"
   },
   "source": [
    "Nese notbook irei reescrever as notas de aula do  \n",
    "\"Quantum mechanics lectures with QuTiP\" link= https://qutip.org/qutip-tutorials/\n",
    "\n",
    "\n",
    "Com objetivo de criar meu propriio qutip iremos não apenas executar os comando das aulas mais criar classes, objetos, funções iguais.\n",
    "\n",
    "Nessa primeira versão iremos usar o numpy com base."
   ]
  },
  {
   "cell_type": "markdown",
   "metadata": {
    "id": "-a7Cw_ynlJmy"
   },
   "source": [
    "# Aula 0 : Introdução e conceitos basicos"
   ]
  },
  {
   "cell_type": "markdown",
   "metadata": {
    "id": "YwvuqJ-EOUu4"
   },
   "source": [
    "QuTiP é um pacote python para cálculos e simulações numéricas de sistemas quânticos.\n",
    "\n",
    "Inclui recursos para representar e fazer cálculos com objetos quânticos, como vetores de estado (funções de onda), como matrizes bras/kets/densidade, operadores quânticos de sistemas simples e compostos e superoperadores (úteis para definir equações mestras).\n",
    "\n",
    "Também inclui 'solver' para uma evolução temporal de sistemas quânticos, de acordo com: equação de Schrodinger, equação de von Neuman, equações mestras, formalismo de Floquet, trajetórias quânticas de Monte-Carlo, implementações experimentais das equações mestras/de Schrodinger estocásticas.\n",
    "\n",
    "Para poder compara com o pacote do qutip temos que primeiro intalar:"
   ]
  },
  {
   "cell_type": "code",
   "execution_count": 1,
   "metadata": {
    "id": "78Wutb-Ik1xJ"
   },
   "outputs": [],
   "source": [
    "import matplotlib.pyplot as plt\n",
    "import numpy as np\n",
    "\n",
    "from IPython.display import Image\n",
    "from qutip import (Qobj, about, basis, coherent, coherent_dm, create, destroy,\n",
    "                   expect, fock, fock_dm, mesolve, qeye, sigmax, sigmay,\n",
    "                   sigmaz, tensor, thermal_dm)\n",
    "\n",
    "%matplotlib inline"
   ]
  },
  {
   "cell_type": "markdown",
   "metadata": {
    "id": "CG9J0vsqPiqp"
   },
   "source": [
    "A estrutura mais basica do qutip é a class qobj, que eles chamaram de objto quantico.\n"
   ]
  },
  {
   "cell_type": "code",
   "execution_count": 2,
   "metadata": {
    "colab": {
     "base_uri": "https://localhost:8080/",
     "height": 54
    },
    "id": "oSNjBw0UR14_",
    "outputId": "9aad48f7-3a71-4385-a71a-66675d230d3c"
   },
   "outputs": [
    {
     "data": {
      "text/latex": [
       "Quantum object: dims=[[2], [1]], shape=(2, 1), type='ket', dtype=Dense$$\\left(\\begin{array}{cc}1\\\\0\\end{array}\\right)$$"
      ],
      "text/plain": [
       "Quantum object: dims=[[2], [1]], shape=(2, 1), type='ket', dtype=Dense\n",
       "Qobj data =\n",
       "[[1.]\n",
       " [0.]]"
      ]
     },
     "execution_count": 2,
     "metadata": {},
     "output_type": "execute_result"
    }
   ],
   "source": [
    "q = Qobj([[1], [0]])\n",
    "q"
   ]
  },
  {
   "cell_type": "markdown",
   "metadata": {
    "id": "xJh3wZW5YXeg"
   },
   "source": [
    "$$\\ket{0} =  \\left(\\begin{matrix}1.0\\\\0.0\\\\\\end{matrix}\\right)$$"
   ]
  },
  {
   "cell_type": "markdown",
   "metadata": {
    "id": "epEQjgrDSQSh"
   },
   "source": [
    "Como essa é um biblioteca ja tem validade a classe qobj é bem complicada de ser reproduzida com todas suas caracterista então tentaremos reproduzir apenas o basico com a biblioteca numpy e scipy."
   ]
  },
  {
   "cell_type": "code",
   "execution_count": 3,
   "metadata": {
    "id": "d_8xFO99SgJI"
   },
   "outputs": [],
   "source": [
    "def ket(entrada_):\n",
    "    if entrada_ == '0':\n",
    "        entrada_  = np.array([[1], [0]])\n",
    "    elif entrada_ == '1':\n",
    "        entrada_  = np.array([[0], [1]])\n",
    "    else:\n",
    "        try:\n",
    "            entrada_  = np.array(entrada_)\n",
    "        except ValueError:\n",
    "            print(\"Entrada invalida.\")\n",
    "    return entrada_\n"
   ]
  },
  {
   "cell_type": "code",
   "execution_count": 4,
   "metadata": {
    "colab": {
     "base_uri": "https://localhost:8080/"
    },
    "id": "q2tnaFhPbd5h",
    "outputId": "4a57b650-d50d-40d9-f06e-9536526e8d6f"
   },
   "outputs": [
    {
     "data": {
      "text/plain": [
       "array([[1],\n",
       "       [0]])"
      ]
     },
     "execution_count": 4,
     "metadata": {},
     "output_type": "execute_result"
    }
   ],
   "source": [
    "ket_0 = ket('0')\n",
    "ket_0"
   ]
  },
  {
   "cell_type": "markdown",
   "metadata": {},
   "source": [
    "Se você quiser obter o transpoto, deve fazer:"
   ]
  },
  {
   "cell_type": "code",
   "execution_count": 5,
   "metadata": {},
   "outputs": [
    {
     "name": "stdout",
     "output_type": "stream",
     "text": [
      " ket (numpy):\n",
      " [[1]\n",
      " [0]]\n",
      "ket . T (numpy):\n",
      " [[1 0]] \n",
      "\n"
     ]
    }
   ],
   "source": [
    "print(\" ket (numpy):\\n\",ket('0'))\n",
    "print(\"ket . T (numpy):\\n\",ket('0').T,\"\\n\")"
   ]
  },
  {
   "cell_type": "markdown",
   "metadata": {},
   "source": [
    "Podemos verificar com o qutip"
   ]
  },
  {
   "cell_type": "code",
   "execution_count": 6,
   "metadata": {},
   "outputs": [
    {
     "name": "stdout",
     "output_type": "stream",
     "text": [
      "ket : Quantum object: dims=[[2], [1]], shape=(2, 1), type='ket', dtype=Dense\n",
      "Qobj data =\n",
      "[[1.]\n",
      " [0.]]\n",
      "ket^T : Quantum object: dims=[[1], [2]], shape=(1, 2), type='bra', dtype=Dense\n",
      "Qobj data =\n",
      "[[1. 0.]]\n"
     ]
    }
   ],
   "source": [
    "q = Qobj([[1], [0]])\n",
    "print(\"ket :\",q)\n",
    "print(\"ket^T :\",q.trans())"
   ]
  },
  {
   "cell_type": "code",
   "execution_count": 7,
   "metadata": {
    "colab": {
     "base_uri": "https://localhost:8080/"
    },
    "id": "qpGD_VyyohhK",
    "outputId": "08f29e45-a6f2-4f43-e197-81c9d5373edf"
   },
   "outputs": [
    {
     "data": {
      "text/plain": [
       "array([[1, 0]])"
      ]
     },
     "execution_count": 7,
     "metadata": {},
     "output_type": "execute_result"
    }
   ],
   "source": [
    "def bra(entrada_):\n",
    "    return ket(entrada_).T\n",
    "\n",
    "bra_0 = bra('0')\n",
    "bra_0"
   ]
  },
  {
   "cell_type": "markdown",
   "metadata": {},
   "source": [
    "Obtemos nosso vetor desejado!\n",
    "\n",
    "$$ \\ket{0} =  \\left(\\begin{matrix}1.0\\\\0.0\\\\\\end{matrix}\\right)$$\n",
    "\n",
    "\n",
    "$$ \\bra{0} =\n",
    "\\left(\n",
    "    \\begin{matrix}\n",
    "        1.0 &  0.0\n",
    "    \\end{matrix}\n",
    "\\right)$$\n",
    "\n",
    "note que o bra é o transporto do ket:\n",
    "\n",
    "$$ < bra | = (|ket>)^T  $$\n",
    "\n",
    "e como esperado, o produto interno entre o bra e ket é 1."
   ]
  },
  {
   "cell_type": "markdown",
   "metadata": {},
   "source": [
    "COMENTAR SOBRE A NORMALIZAÇÃO\n",
    "\n",
    "\n",
    "$$< bra|ket> = 1  $$\n",
    "$$< 0|0> = 1  $$\n",
    "por que:\n",
    "\n",
    "$$\n",
    "\\left(\\begin{matrix}\n",
    "    1.0 &  0.0\n",
    "\\end{matrix}\\right) *\n",
    "\\left(\\begin{matrix}1.0\\\\0.0\\\\\\end{matrix}\\right)\n",
    "= 1*1 + 0*0 =1\n",
    "$$"
   ]
  },
  {
   "cell_type": "code",
   "execution_count": 8,
   "metadata": {},
   "outputs": [
    {
     "data": {
      "text/plain": [
       "array([[1, 0],\n",
       "       [0, 0]])"
      ]
     },
     "execution_count": 8,
     "metadata": {},
     "output_type": "execute_result"
    }
   ],
   "source": [
    "np.dot(ket_0,bra_0)"
   ]
  },
  {
   "cell_type": "code",
   "execution_count": 9,
   "metadata": {},
   "outputs": [
    {
     "data": {
      "text/plain": [
       "1"
      ]
     },
     "execution_count": 9,
     "metadata": {},
     "output_type": "execute_result"
    }
   ],
   "source": [
    "ket_1 = ket('1')\n",
    "bra_1 = bra('1')\n",
    "np.dot(bra_1,ket_1)[0][0]"
   ]
  },
  {
   "cell_type": "code",
   "execution_count": 10,
   "metadata": {},
   "outputs": [
    {
     "name": "stdout",
     "output_type": "stream",
     "text": [
      "0\n",
      "0\n"
     ]
    }
   ],
   "source": [
    "print( np.dot(bra_0,ket_1)[0][0])\n",
    "print( np.dot(bra_1,ket_0)[0][0])"
   ]
  },
  {
   "cell_type": "markdown",
   "metadata": {},
   "source": [
    "Nessa caso o produto interno da zero , pq os vetores são ortogonal. \n",
    "\n",
    "Podemos fazer o produto externo , invertendo a ordem do vetor"
   ]
  },
  {
   "cell_type": "code",
   "execution_count": 11,
   "metadata": {
    "colab": {
     "base_uri": "https://localhost:8080/"
    },
    "id": "w9SWGAWmo2Pp",
    "outputId": "b4b1a42b-d4c6-42d1-de8b-1833b0db97b8"
   },
   "outputs": [
    {
     "data": {
      "text/plain": [
       "array([[1, 0],\n",
       "       [0, 0]])"
      ]
     },
     "execution_count": 11,
     "metadata": {},
     "output_type": "execute_result"
    }
   ],
   "source": [
    "np.dot(ket_0,bra_0)"
   ]
  },
  {
   "cell_type": "markdown",
   "metadata": {
    "id": "yTVBVB30mVa5"
   },
   "source": [
    "\n",
    "\\begin{equation}\n",
    "    |ket>< bra | \n",
    "\\end{equation}\n",
    "\n",
    "\\begin{equation}\n",
    "    \\ket{0}\\bra{0} =\n",
    "\\left(\\begin{matrix}\n",
    "        1 & 0 \\\\\n",
    "        0 & 0\n",
    "    \\end{matrix}\n",
    "\\right)\n",
    "\\end{equation}\n"
   ]
  },
  {
   "cell_type": "markdown",
   "metadata": {},
   "source": [
    "Criando as matrizes de pauli"
   ]
  },
  {
   "cell_type": "code",
   "execution_count": 12,
   "metadata": {
    "id": "EPNOtK1fxI-b"
   },
   "outputs": [],
   "source": [
    "def U(entrada_):\n",
    "\n",
    "    if entrada_ == 'PauliX':\n",
    "        entrada_ = np.matrix([[ 0, 1 ],[ 1, 0 ]])\n",
    "    elif entrada_ == 'PauliY':\n",
    "        entrada_ = np.matrix([[ 0, -1j ],[ 1j, 0 ]])\n",
    "    elif entrada_ == 'PauliZ':\n",
    "        entrada_ = np.matrix([[ 1, 0 ],[ 0, -1 ]])\n",
    "    else:\n",
    "        try:\n",
    "            entrada_  = np.matrix(entrada_)\n",
    "        except ValueError:\n",
    "            print(\"Entrada invalida.\")\n",
    "    return entrada_"
   ]
  },
  {
   "cell_type": "code",
   "execution_count": 13,
   "metadata": {
    "colab": {
     "base_uri": "https://localhost:8080/"
    },
    "id": "wj68V5HIzbvT",
    "outputId": "829d2335-f6b2-4771-d792-61ec95f59660"
   },
   "outputs": [
    {
     "data": {
      "text/plain": [
       "(matrix([[ 0.+0.j, -0.-1.j],\n",
       "         [ 0.+1.j,  0.+0.j]]),\n",
       " matrix([[0, 1],\n",
       "         [1, 0]]),\n",
       " matrix([[ 1,  0],\n",
       "         [ 0, -1]]),\n",
       " matrix([[-7.+0.j,  1.+1.j],\n",
       "         [ 1.-1.j, -7.+0.j]]))"
      ]
     },
     "execution_count": 13,
     "metadata": {},
     "output_type": "execute_result"
    }
   ],
   "source": [
    "U('PauliY'),U('PauliX') , U('PauliZ') , U([ [-7,1+1j], [1-1j,-7] ])"
   ]
  },
  {
   "cell_type": "code",
   "execution_count": 14,
   "metadata": {},
   "outputs": [
    {
     "data": {
      "text/plain": [
       "matrix([[ 0.+0.j,  0.+1.j],\n",
       "        [-0.-1.j,  0.+0.j]])"
      ]
     },
     "execution_count": 14,
     "metadata": {},
     "output_type": "execute_result"
    }
   ],
   "source": [
    "U('PauliY').T"
   ]
  },
  {
   "cell_type": "code",
   "execution_count": 15,
   "metadata": {
    "colab": {
     "base_uri": "https://localhost:8080/"
    },
    "id": "AZSRDt3e0VJL",
    "outputId": "a52d40b2-ff74-4f71-8ad5-299e4599889d"
   },
   "outputs": [
    {
     "name": "stdout",
     "output_type": "stream",
     "text": [
      "Qubit Hamiltonian = \n",
      " [[ 1.+0.j   0.-0.2j]\n",
      " [ 0.+0.2j -1.+0.j ]]\n"
     ]
    }
   ],
   "source": [
    "# Exemplo de hamiltoniana\n",
    "sz = U('PauliZ')\n",
    "sy = U('PauliY')\n",
    "H  = 1.0*sz + 0.2*sy\n",
    "\n",
    "print(\"Qubit Hamiltonian = \\n\",H)"
   ]
  },
  {
   "cell_type": "markdown",
   "metadata": {
    "id": "1X7IFpCWDP9l"
   },
   "source": [
    "Muitas vezes vamos precisa tirar o conjugado + transposto de um vetor ou matrix, no qutip temo o .dag()"
   ]
  },
  {
   "cell_type": "code",
   "execution_count": 16,
   "metadata": {},
   "outputs": [
    {
     "data": {
      "text/latex": [
       "Quantum object: dims=[[2], [2]], shape=(2, 2), type='oper', dtype=Dense, isherm=True$$\\left(\\begin{array}{cc}0 & -1j\\\\1j & 0\\end{array}\\right)$$"
      ],
      "text/plain": [
       "Quantum object: dims=[[2], [2]], shape=(2, 2), type='oper', dtype=Dense, isherm=True\n",
       "Qobj data =\n",
       "[[ 0.+0.j -0.-1.j]\n",
       " [ 0.+1.j  0.+0.j]]"
      ]
     },
     "execution_count": 16,
     "metadata": {},
     "output_type": "execute_result"
    }
   ],
   "source": [
    "Sy = Qobj([[0, -1j], [1j, 0]])  # the sigma-y Pauli operator\n",
    "Sy"
   ]
  },
  {
   "cell_type": "code",
   "execution_count": 17,
   "metadata": {},
   "outputs": [
    {
     "data": {
      "text/latex": [
       "Quantum object: dims=[[2], [2]], shape=(2, 2), type='oper', dtype=Dense, isherm=True$$\\left(\\begin{array}{cc}0 & -1j\\\\1j & 0\\end{array}\\right)$$"
      ],
      "text/plain": [
       "Quantum object: dims=[[2], [2]], shape=(2, 2), type='oper', dtype=Dense, isherm=True\n",
       "Qobj data =\n",
       "[[ 0.+0.j -0.-1.j]\n",
       " [ 0.+1.j  0.+0.j]]"
      ]
     },
     "execution_count": 17,
     "metadata": {},
     "output_type": "execute_result"
    }
   ],
   "source": [
    "Sy.dag()"
   ]
  },
  {
   "cell_type": "markdown",
   "metadata": {},
   "source": [
    "Podemos fazer isso , usado \n",
    "\n",
    "*        np.conjugate()\n",
    "*       .T\n",
    "\n",
    "Primero para o vetores:"
   ]
  },
  {
   "cell_type": "code",
   "execution_count": 18,
   "metadata": {},
   "outputs": [
    {
     "name": "stdout",
     "output_type": "stream",
     "text": [
      "ket (numpy):\n",
      " [[ 1.+1.j]\n",
      " [-7.+7.j]]\n",
      "ket^T (numpy):\n",
      " [[ 1.-1.j -7.-7.j]] \n",
      "\n"
     ]
    }
   ],
   "source": [
    "vetor = [[1 + 1j], [-7 + 7j]]\n",
    "print(\"ket (numpy):\\n\",ket(vetor))\n",
    "print(\"ket^T (numpy):\\n\",np.conjugate(ket(vetor).T),\"\\n\")"
   ]
  },
  {
   "cell_type": "markdown",
   "metadata": {},
   "source": [
    "Podemos fazer o mesmo para matrizes"
   ]
  },
  {
   "cell_type": "code",
   "execution_count": 19,
   "metadata": {
    "colab": {
     "base_uri": "https://localhost:8080/"
    },
    "id": "-zzPTSO48pv0",
    "outputId": "877041a9-5a22-4ec8-a985-6efa45c05704"
   },
   "outputs": [
    {
     "name": "stdout",
     "output_type": "stream",
     "text": [
      "sy(numpy): \n",
      " [[ 0.+0.j -0.-1.j]\n",
      " [ 0.+1.j  0.+0.j]]\n",
      "sy(numpy)^T: \n",
      " [[ 0.-0.j  0.-1.j]\n",
      " [-0.+1.j  0.-0.j]] \n",
      "\n"
     ]
    }
   ],
   "source": [
    "print(\"sy(numpy): \\n\",sy)\n",
    "print(\"sy(numpy)^T: \\n\",np.conjugate(sy.T),\"\\n\")"
   ]
  },
  {
   "cell_type": "markdown",
   "metadata": {
    "id": "ms2w9KEdDvgc"
   },
   "source": [
    "Podemos criar um função para isso:"
   ]
  },
  {
   "cell_type": "code",
   "execution_count": 20,
   "metadata": {
    "colab": {
     "base_uri": "https://localhost:8080/"
    },
    "id": "dqWDDmcoD0NF",
    "outputId": "1ab6e91e-adb3-48d3-90bd-57fc53b2b591"
   },
   "outputs": [
    {
     "name": "stdout",
     "output_type": "stream",
     "text": [
      "ket:\n",
      " [[1]\n",
      " [0]]\n",
      "ket.dag() :\n",
      " [[1 0]] \n",
      "\n",
      "sy: \n",
      " [[ 0.+0.j -0.-1.j]\n",
      " [ 0.+1.j  0.+0.j]]\n",
      "sy.dag(): \n",
      " [[ 0.-0.j  0.-1.j]\n",
      " [-0.+1.j  0.-0.j]] \n",
      "\n"
     ]
    }
   ],
   "source": [
    "def dag(objeto):\n",
    "    return np.conjugate(objeto.T)\n",
    "print(\"ket:\\n\",ket('0'))\n",
    "print(\"ket.dag() :\\n\",dag(ket('0')),\"\\n\")\n",
    "print(\"sy: \\n\",sy)\n",
    "print(\"sy.dag(): \\n\",dag(sy),\"\\n\")"
   ]
  },
  {
   "cell_type": "markdown",
   "metadata": {},
   "source": [
    "Nossa hamiltoniana é "
   ]
  },
  {
   "cell_type": "code",
   "execution_count": 21,
   "metadata": {
    "id": "OYsv2uLeEFud"
   },
   "outputs": [
    {
     "data": {
      "text/plain": [
       "matrix([[ 1.+0.j ,  0.-0.2j],\n",
       "        [ 0.+0.2j, -1.+0.j ]])"
      ]
     },
     "execution_count": 21,
     "metadata": {},
     "output_type": "execute_result"
    }
   ],
   "source": [
    "H"
   ]
  },
  {
   "cell_type": "markdown",
   "metadata": {},
   "source": [
    "queremos calcular o traço da matriz"
   ]
  },
  {
   "cell_type": "code",
   "execution_count": 22,
   "metadata": {},
   "outputs": [
    {
     "data": {
      "text/plain": [
       "0.0"
      ]
     },
     "execution_count": 22,
     "metadata": {},
     "output_type": "execute_result"
    }
   ],
   "source": [
    "# The trace\n",
    "np.trace(H).real"
   ]
  },
  {
   "cell_type": "markdown",
   "metadata": {},
   "source": [
    "Definindo nosso função do traço"
   ]
  },
  {
   "cell_type": "code",
   "execution_count": 23,
   "metadata": {},
   "outputs": [],
   "source": [
    "def tr(matriz):\n",
    "    return np.trace(matriz).real"
   ]
  },
  {
   "cell_type": "code",
   "execution_count": 24,
   "metadata": {},
   "outputs": [
    {
     "data": {
      "text/plain": [
       "array([ 1.0198039+0.j, -1.0198039+0.j])"
      ]
     },
     "execution_count": 24,
     "metadata": {},
     "output_type": "execute_result"
    }
   ],
   "source": [
    "# Eigen energies\n",
    "np.linalg.eigvals(H)"
   ]
  },
  {
   "cell_type": "code",
   "execution_count": 25,
   "metadata": {},
   "outputs": [
    {
     "data": {
      "text/plain": [
       "matrix([[0.99513333+0.j        , 0.        +0.09853762j],\n",
       "        [0.        +0.09853762j, 0.99513333+0.j        ]])"
      ]
     },
     "execution_count": 25,
     "metadata": {},
     "output_type": "execute_result"
    }
   ],
   "source": [
    "np.linalg.eig(H)[1]"
   ]
  },
  {
   "cell_type": "markdown",
   "metadata": {},
   "source": [
    "Definindo nosso função do do valor esperado e autofunçoes"
   ]
  },
  {
   "cell_type": "code",
   "execution_count": 26,
   "metadata": {},
   "outputs": [],
   "source": [
    "def Autoenergias(matriz):\n",
    "    return np.trace(matriz).real\n",
    "def Autovalores(matriz):\n",
    "    return np.linalg.eig(matriz)[1]"
   ]
  },
  {
   "cell_type": "markdown",
   "metadata": {},
   "source": [
    "Facilitando para o usuario"
   ]
  },
  {
   "cell_type": "code",
   "execution_count": 27,
   "metadata": {},
   "outputs": [
    {
     "data": {
      "text/latex": [
       "Quantum object: dims=[[2], [1]], shape=(2, 1), type='ket', dtype=Dense$$\\left(\\begin{array}{cc}1\\\\0\\end{array}\\right)$$"
      ],
      "text/plain": [
       "Quantum object: dims=[[2], [1]], shape=(2, 1), type='ket', dtype=Dense\n",
       "Qobj data =\n",
       "[[1.]\n",
       " [0.]]"
      ]
     },
     "execution_count": 27,
     "metadata": {},
     "output_type": "execute_result"
    }
   ],
   "source": [
    "# Vetor de estado (Estado de fock dos modos de oscilação)\n",
    "\n",
    "N = 2  # Numero de estado no espaço do Hilbert \n",
    "n = 0  # O estado que será ocupado\n",
    "\n",
    "basis(N, n) # n=0 |0> e n=1   |1>\n"
   ]
  },
  {
   "cell_type": "markdown",
   "metadata": {},
   "source": [
    "Essa função é mais geral que parece , ele serve para criar um estado de dimenção N. Diferente do que tinhamos criando antes que tinha dimensao N=2 sempre"
   ]
  },
  {
   "cell_type": "code",
   "execution_count": 28,
   "metadata": {},
   "outputs": [
    {
     "data": {
      "text/latex": [
       "Quantum object: dims=[[2], [1]], shape=(2, 1), type='ket', dtype=Dense$$\\left(\\begin{array}{cc}1\\\\0\\end{array}\\right)$$"
      ],
      "text/plain": [
       "Quantum object: dims=[[2], [1]], shape=(2, 1), type='ket', dtype=Dense\n",
       "Qobj data =\n",
       "[[1.]\n",
       " [0.]]"
      ]
     },
     "execution_count": 28,
     "metadata": {},
     "output_type": "execute_result"
    }
   ],
   "source": [
    "N = 2  # Numero de estado no espaço do Hilbert \n",
    "n = 0  # O estado que será ocupado\n",
    "\n",
    "basis(N, n) # n=0 |0> e n=1   |1>"
   ]
  },
  {
   "cell_type": "code",
   "execution_count": 29,
   "metadata": {},
   "outputs": [
    {
     "data": {
      "text/latex": [
       "Quantum object: dims=[[5], [1]], shape=(5, 1), type='ket', dtype=Dense$$\\left(\\begin{array}{cc}0\\\\0\\\\0\\\\1\\\\0\\end{array}\\right)$$"
      ],
      "text/plain": [
       "Quantum object: dims=[[5], [1]], shape=(5, 1), type='ket', dtype=Dense\n",
       "Qobj data =\n",
       "[[0.]\n",
       " [0.]\n",
       " [0.]\n",
       " [1.]\n",
       " [0.]]"
      ]
     },
     "execution_count": 29,
     "metadata": {},
     "output_type": "execute_result"
    }
   ],
   "source": [
    "basis(5, 3) # n=0 |0> e n=1   |1>"
   ]
  },
  {
   "cell_type": "code",
   "execution_count": 30,
   "metadata": {},
   "outputs": [
    {
     "data": {
      "text/plain": [
       "<bound method Qobj.full of Quantum object: dims=[[5], [1]], shape=(5, 1), type='ket', dtype=Dense\n",
       "Qobj data =\n",
       "[[0.]\n",
       " [0.]\n",
       " [0.]\n",
       " [1.]\n",
       " [0.]]>"
      ]
     },
     "execution_count": 30,
     "metadata": {},
     "output_type": "execute_result"
    }
   ],
   "source": [
    "basis(5, 3).full"
   ]
  },
  {
   "cell_type": "code",
   "execution_count": 31,
   "metadata": {},
   "outputs": [
    {
     "data": {
      "text/plain": [
       "array([[0.+0.j],\n",
       "       [0.+0.j],\n",
       "       [0.+0.j],\n",
       "       [0.+0.j],\n",
       "       [0.+0.j]])"
      ]
     },
     "execution_count": 31,
     "metadata": {},
     "output_type": "execute_result"
    }
   ],
   "source": [
    "np.zeros(shape=(5,1),dtype=complex)"
   ]
  },
  {
   "cell_type": "code",
   "execution_count": 32,
   "metadata": {},
   "outputs": [
    {
     "data": {
      "text/plain": [
       "array([[0.],\n",
       "       [0.],\n",
       "       [0.],\n",
       "       [1.],\n",
       "       [0.]])"
      ]
     },
     "execution_count": 32,
     "metadata": {},
     "output_type": "execute_result"
    }
   ],
   "source": [
    "estadoinicial   = np.zeros(shape=(5,1),dtype=complex)\n",
    "indice          = 3 \n",
    "estadoinicial[indice,0] = 1\n",
    "estadoinicial.real"
   ]
  },
  {
   "cell_type": "code",
   "execution_count": 33,
   "metadata": {},
   "outputs": [],
   "source": [
    "def bases(N,n):\n",
    "    estadoinicial   = np.zeros(shape=(N,1))\n",
    "    estadoinicial[n,0] = 1\n",
    "    return estadoinicial"
   ]
  },
  {
   "cell_type": "code",
   "execution_count": 34,
   "metadata": {},
   "outputs": [
    {
     "data": {
      "text/plain": [
       "array([[0.],\n",
       "       [1.],\n",
       "       [0.],\n",
       "       [0.]])"
      ]
     },
     "execution_count": 34,
     "metadata": {},
     "output_type": "execute_result"
    }
   ],
   "source": [
    "bases(N=4,n=1)"
   ]
  },
  {
   "cell_type": "markdown",
   "metadata": {},
   "source": [
    "Vamos criar um estado coerente"
   ]
  },
  {
   "cell_type": "code",
   "execution_count": 35,
   "metadata": {},
   "outputs": [
    {
     "data": {
      "text/latex": [
       "Quantum object: dims=[[5], [1]], shape=(5, 1), type='ket', dtype=Dense$$\\left(\\begin{array}{cc}0.882\\\\0.441\\\\0.156\\\\0.045\\\\0.012\\end{array}\\right)$$"
      ],
      "text/plain": [
       "Quantum object: dims=[[5], [1]], shape=(5, 1), type='ket', dtype=Dense\n",
       "Qobj data =\n",
       "[[0.88249693]\n",
       " [0.44124785]\n",
       " [0.15601245]\n",
       " [0.04496584]\n",
       " [0.01173405]]"
      ]
     },
     "execution_count": 35,
     "metadata": {},
     "output_type": "execute_result"
    }
   ],
   "source": [
    "# a coherent state\n",
    "coherent(N=5, alpha=0.5)"
   ]
  },
  {
   "cell_type": "markdown",
   "metadata": {},
   "source": [
    "Para escrever o estado coerente tem duas forma :\n",
    "\n",
    "\n",
    "(1) OPERADOR: forma compacta usando o operador de deslocamento.\n",
    "$$\n",
    "|\\alpha\\rangle =D(\\alpha)|0\\rangle =  e^{\\alpha a^\\dagger - \\alpha^* a} |0\\rangle\n",
    "$$\n",
    "\n",
    "(2)ANALITICO: expansão na base de fock\n",
    "$$\n",
    "|\\alpha\\rangle = e^{-\\frac{|\\alpha|^2}{2}} \\sum_{n=0}^{\\infty} \\frac{\\alpha^n}{\\sqrt{n!}} |n\\rangle\n",
    "\n",
    "$$"
   ]
  },
  {
   "cell_type": "code",
   "execution_count": 36,
   "metadata": {},
   "outputs": [
    {
     "data": {
      "text/plain": [
       "array([[1.],\n",
       "       [0.],\n",
       "       [0.],\n",
       "       [0.],\n",
       "       [0.]])"
      ]
     },
     "execution_count": 36,
     "metadata": {},
     "output_type": "execute_result"
    }
   ],
   "source": [
    "# 1 forma\n",
    "N =5\n",
    "estado  = bases(N,0)\n",
    "estado"
   ]
  },
  {
   "cell_type": "markdown",
   "metadata": {},
   "source": [
    "Para o proximo passo precisamos criar o operado de destruiçao.\n",
    "O operador de destruição $ \\hat{a} $ age nos estados de número \\$ |n\\rangle$ como:\n",
    "$$\n",
    "\\hat{a} |n\\rangle = \\sqrt{n} |n-1\\rangle\n",
    "$$\n",
    "\n",
    "No estado de vácuo:\n",
    "$\n",
    "\\hat{a} |0\\rangle = 0\n",
    "$\n",
    "\n",
    "Sua representação matricial na base de Fock é:\n",
    "$$\n",
    "\\hat{a} =\n",
    "\\begin{bmatrix}|0\\rangle\n",
    "0 & \\sqrt{1} & 0 & 0 & \\cdots \\\\\n",
    "0 & 0 & \\sqrt{2} & 0 & \\cdots \\\\\n",
    "0 & 0 & 0 & \\sqrt{3} & \\cdots \\\\\n",
    "\\vdots & \\vdots & \\vdots & \\ddots & \\ddots\n",
    "\\end{bmatrix}\n",
    "$$"
   ]
  },
  {
   "cell_type": "code",
   "execution_count": 37,
   "metadata": {},
   "outputs": [
    {
     "data": {
      "text/plain": [
       "array([[0.        , 1.        , 0.        , 0.        , 0.        ],\n",
       "       [0.        , 0.        , 1.41421356, 0.        , 0.        ],\n",
       "       [0.        , 0.        , 0.        , 1.73205081, 0.        ],\n",
       "       [0.        , 0.        , 0.        , 0.        , 2.        ],\n",
       "       [0.        , 0.        , 0.        , 0.        , 0.        ]])"
      ]
     },
     "execution_count": 37,
     "metadata": {},
     "output_type": "execute_result"
    }
   ],
   "source": [
    "# Cria os valores para a subdiagonal (sqrt de índices de 1 a dim-1)\n",
    "subdiagonal = np.sqrt(np.arange(1, N))\n",
    "# Monta a matriz com a subdiagonal\n",
    "a_operator = np.diag(subdiagonal, k=1)\n",
    "a_operator"
   ]
  },
  {
   "cell_type": "markdown",
   "metadata": {},
   "source": [
    "### Operador deslocamento e destruição"
   ]
  },
  {
   "cell_type": "markdown",
   "metadata": {},
   "source": [
    "Agora vamos criar o operador de deslocamento"
   ]
  },
  {
   "cell_type": "code",
   "execution_count": 38,
   "metadata": {},
   "outputs": [
    {
     "data": {
      "text/plain": [
       "array([[ 0.88249693, -0.44124785,  0.15601245, -0.04496584,  0.01173405],\n",
       "       [ 0.44124785,  0.66186201, -0.54613558,  0.24675339, -0.08993168],\n",
       "       [ 0.15601245,  0.54613558,  0.46996952, -0.5734898 ,  0.35725922],\n",
       "       [ 0.04496584,  0.24675339,  0.5734898 ,  0.25891541, -0.73563789],\n",
       "       [ 0.01173405,  0.08993168,  0.35725922,  0.73563789,  0.56831097]])"
      ]
     },
     "execution_count": 38,
     "metadata": {},
     "output_type": "execute_result"
    }
   ],
   "source": [
    "from scipy.linalg import expm\n",
    "alpha =0.5\n",
    "D = expm(alpha * dag(a_operator) - np.conj(alpha) * a_operator)\n",
    "D"
   ]
  },
  {
   "cell_type": "code",
   "execution_count": 39,
   "metadata": {},
   "outputs": [
    {
     "data": {
      "text/plain": [
       "array([[0.88249693],\n",
       "       [0.44124785],\n",
       "       [0.15601245],\n",
       "       [0.04496584],\n",
       "       [0.01173405]])"
      ]
     },
     "execution_count": 39,
     "metadata": {},
     "output_type": "execute_result"
    }
   ],
   "source": [
    "np.dot(D,estado)"
   ]
  },
  {
   "cell_type": "code",
   "execution_count": 40,
   "metadata": {},
   "outputs": [],
   "source": [
    "def coerente(alpha,N):\n",
    "    estado  = bases(N,0).real # estado inicinal no vacuo\n",
    "    subdiag = np.sqrt(np.arange(1, N))# Monta os elementos na subdiagonal\n",
    "    a       = np.diag(subdiag, k=1) # Operador de destruição\n",
    "    D       = expm(alpha * dag(a) - np.conj(alpha) * a)\n",
    "    return np.dot(D,estado)"
   ]
  },
  {
   "cell_type": "code",
   "execution_count": 41,
   "metadata": {},
   "outputs": [
    {
     "data": {
      "text/plain": [
       "array([[0.8824969 +0.j],\n",
       "       [0.44124845+0.j],\n",
       "       [0.15600489+0.j],\n",
       "       [0.04503473+0.j],\n",
       "       [0.01125868+0.j]])"
      ]
     },
     "execution_count": 41,
     "metadata": {},
     "output_type": "execute_result"
    }
   ],
   "source": [
    "from  scipy.special import factorial\n",
    "\n",
    "# 2 forma\n",
    "estado  = np.zeros(shape=(N,1),dtype=complex)\n",
    "n       = np.arange(N)\n",
    "estado[:,0] = np.exp(-abs(alpha) ** 2 / 2.0) * (alpha ** (n))/np.sqrt(factorial(n))\n",
    "estado"
   ]
  },
  {
   "cell_type": "code",
   "execution_count": 42,
   "metadata": {},
   "outputs": [],
   "source": [
    "def coerente(N,alpha,metodo =\"operador\"):\n",
    "    \n",
    "    if metodo == \"operador\" :\n",
    "        \n",
    "        estado  = bases(N,0) # estado inicinal no vacuo\n",
    "        subdiag = np.sqrt(np.arange(1, N))# Monta os elementos na subdiagonal\n",
    "        a       = np.diag(subdiag, k=1) # Operador de destruição\n",
    "        D       = expm(alpha * dag(a) - np.conj(alpha) * a)\n",
    "        \n",
    "        return np.dot(D,estado)\n",
    "    \n",
    "    elif metodo == \"analitico\":\n",
    "        \n",
    "        estado  = np.zeros(shape=(N,1),dtype=complex)\n",
    "        n       = np.arange(N)\n",
    "        estado[:,0] = np.exp(-(abs(alpha) ** 2 )/ 2.0) * (alpha**n)/np.sqrt(factorial(n))\n",
    "        \n",
    "        return estado\n",
    "    else:\n",
    "        raise TypeError(\n",
    "            \"A opção de método tem as seguintes opções :'operador' ou 'analitico'\")"
   ]
  },
  {
   "cell_type": "code",
   "execution_count": 43,
   "metadata": {},
   "outputs": [],
   "source": [
    "alpha   = 0.5+5j\n",
    "N       = 5 "
   ]
  },
  {
   "cell_type": "code",
   "execution_count": 44,
   "metadata": {},
   "outputs": [
    {
     "data": {
      "text/plain": [
       "array([[ 0.91194074+5.55111512e-17j],\n",
       "       [ 0.03647048+3.64704774e-01j],\n",
       "       [-0.17126047+3.45980742e-02j],\n",
       "       [-0.0034744 -1.12714606e-02j],\n",
       "       [-0.05340481+2.24958041e-02j]])"
      ]
     },
     "execution_count": 44,
     "metadata": {},
     "output_type": "execute_result"
    }
   ],
   "source": [
    "coerente(N,alpha,metodo =\"operador\")"
   ]
  },
  {
   "cell_type": "code",
   "execution_count": 45,
   "metadata": {},
   "outputs": [
    {
     "data": {
      "text/latex": [
       "Quantum object: dims=[[5], [1]], shape=(5, 1), type='ket', dtype=Dense$$\\left(\\begin{array}{cc}0.912\\\\(0.036+0.365j)\\\\(-0.171+0.035j)\\\\(-0.003-0.011j)\\\\(-0.053+0.022j)\\end{array}\\right)$$"
      ],
      "text/plain": [
       "Quantum object: dims=[[5], [1]], shape=(5, 1), type='ket', dtype=Dense\n",
       "Qobj data =\n",
       "[[ 0.91194074-1.11022302e-16j]\n",
       " [ 0.03647048+3.64704774e-01j]\n",
       " [-0.17126047+3.45980742e-02j]\n",
       " [-0.0034744 -1.12714606e-02j]\n",
       " [-0.05340481+2.24958041e-02j]]"
      ]
     },
     "execution_count": 45,
     "metadata": {},
     "output_type": "execute_result"
    }
   ],
   "source": [
    "coherent(N, alpha,method='operator')"
   ]
  },
  {
   "cell_type": "code",
   "execution_count": 46,
   "metadata": {},
   "outputs": [
    {
     "data": {
      "text/plain": [
       "array([[ 3.28875988e-06+0.00000000e+00j],\n",
       "       [ 1.64437994e-06+1.64437994e-05j],\n",
       "       [-5.75562342e-05+1.16275221e-05j],\n",
       "       [-5.01808186e-05-1.62793960e-04j],\n",
       "       [ 3.94439696e-04-1.66150537e-04j]])"
      ]
     },
     "execution_count": 46,
     "metadata": {},
     "output_type": "execute_result"
    }
   ],
   "source": [
    "coerente(N=5,alpha=0.5+5j,metodo =\"analitico\")"
   ]
  },
  {
   "cell_type": "code",
   "execution_count": 47,
   "metadata": {},
   "outputs": [
    {
     "data": {
      "text/latex": [
       "Quantum object: dims=[[5], [1]], shape=(5, 1), type='ket', dtype=Dense$$\\left(\\begin{array}{cc}3.289\\times10^{ -6 }\\\\1.644\\times10^{ -6 }\\\\-5.756\\times10^{ -5 }\\\\-5.018\\times10^{ -5 }\\\\3.944\\times10^{ -4 }\\end{array}\\right)$$"
      ],
      "text/plain": [
       "Quantum object: dims=[[5], [1]], shape=(5, 1), type='ket', dtype=Dense\n",
       "Qobj data =\n",
       "[[ 3.28875988e-06+0.00000000e+00j]\n",
       " [ 1.64437994e-06+1.64437994e-05j]\n",
       " [-5.75562342e-05+1.16275221e-05j]\n",
       " [-5.01808186e-05-1.62793960e-04j]\n",
       " [ 3.94439696e-04-1.66150537e-04j]]"
      ]
     },
     "execution_count": 47,
     "metadata": {},
     "output_type": "execute_result"
    }
   ],
   "source": [
    "coherent(N, alpha,method='analytic')"
   ]
  },
  {
   "cell_type": "markdown",
   "metadata": {},
   "source": [
    "### Estado de Fock "
   ]
  },
  {
   "cell_type": "code",
   "execution_count": 48,
   "metadata": {},
   "outputs": [],
   "source": [
    "def Fock(N, n=0):\n",
    "    \"Equivalente a função bases\"\n",
    "    return bases(N, n)"
   ]
  },
  {
   "cell_type": "code",
   "execution_count": 49,
   "metadata": {},
   "outputs": [
    {
     "data": {
      "text/plain": [
       "array([[1.],\n",
       "       [0.],\n",
       "       [0.],\n",
       "       [0.],\n",
       "       [0.]])"
      ]
     },
     "execution_count": 49,
     "metadata": {},
     "output_type": "execute_result"
    }
   ],
   "source": [
    "Fock(N=5)"
   ]
  },
  {
   "cell_type": "code",
   "execution_count": 50,
   "metadata": {},
   "outputs": [
    {
     "data": {
      "text/latex": [
       "Quantum object: dims=[[5], [1]], shape=(5, 1), type='ket', dtype=Dense$$\\left(\\begin{array}{cc}1\\\\0\\\\0\\\\0\\\\0\\end{array}\\right)$$"
      ],
      "text/plain": [
       "Quantum object: dims=[[5], [1]], shape=(5, 1), type='ket', dtype=Dense\n",
       "Qobj data =\n",
       "[[1.]\n",
       " [0.]\n",
       " [0.]\n",
       " [0.]\n",
       " [0.]]"
      ]
     },
     "execution_count": 50,
     "metadata": {},
     "output_type": "execute_result"
    }
   ],
   "source": [
    "fock(5,n=0)"
   ]
  },
  {
   "cell_type": "markdown",
   "metadata": {},
   "source": [
    "### Matriz densidade"
   ]
  },
  {
   "cell_type": "markdown",
   "metadata": {},
   "source": [
    "A matriz densidade  para um estado puro $ |\\psi\\rangle $:\n",
    "$$\n",
    "\\rho = |\\psi\\rangle \\langle \\psi|\n",
    "$$\n",
    "\n",
    "\n",
    "Para um estado misto:\n",
    "\n",
    "$$\n",
    "\\rho = \\sum_i p_i |\\psi_i\\rangle \\langle \\psi_i|\n",
    "$$\n",
    "\n",
    "Aqui, $ \\sum_i p_i = 1 $, e $ 0 \\leq p_i \\leq 1 $.\n"
   ]
  },
  {
   "cell_type": "code",
   "execution_count": 51,
   "metadata": {},
   "outputs": [
    {
     "data": {
      "text/plain": [
       "array([[0.60605894],\n",
       "       [0.6100857 ],\n",
       "       [0.41242505],\n",
       "       [0.30065525]])"
      ]
     },
     "execution_count": 51,
     "metadata": {},
     "output_type": "execute_result"
    }
   ],
   "source": [
    "# Estados puros \n",
    "N = 4\n",
    "alpha =1\n",
    "psi = coerente(N,alpha)\n",
    "psi"
   ]
  },
  {
   "cell_type": "code",
   "execution_count": 52,
   "metadata": {},
   "outputs": [
    {
     "data": {
      "text/plain": [
       "array([[0.36730744, 0.36974789, 0.24995389, 0.1822148 ],\n",
       "       [0.36974789, 0.37220456, 0.25161463, 0.18342547],\n",
       "       [0.24995389, 0.25161463, 0.17009442, 0.12399776],\n",
       "       [0.1822148 , 0.18342547, 0.12399776, 0.09039358]])"
      ]
     },
     "execution_count": 52,
     "metadata": {},
     "output_type": "execute_result"
    }
   ],
   "source": [
    "rho = np.dot(psi,dag(psi))\n",
    "rho"
   ]
  },
  {
   "cell_type": "code",
   "execution_count": 53,
   "metadata": {},
   "outputs": [
    {
     "data": {
      "text/latex": [
       "Quantum object: dims=[[4], [4]], shape=(4, 4), type='oper', dtype=Dense, isherm=True$$\\left(\\begin{array}{cc}0.367 & 0.370 & 0.250 & 0.182\\\\0.370 & 0.372 & 0.252 & 0.183\\\\0.250 & 0.252 & 0.170 & 0.124\\\\0.182 & 0.183 & 0.124 & 0.090\\end{array}\\right)$$"
      ],
      "text/plain": [
       "Quantum object: dims=[[4], [4]], shape=(4, 4), type='oper', dtype=Dense, isherm=True\n",
       "Qobj data =\n",
       "[[0.36730744 0.36974789 0.24995389 0.1822148 ]\n",
       " [0.36974789 0.37220456 0.25161463 0.18342547]\n",
       " [0.24995389 0.25161463 0.17009442 0.12399776]\n",
       " [0.1822148  0.18342547 0.12399776 0.09039358]]"
      ]
     },
     "execution_count": 53,
     "metadata": {},
     "output_type": "execute_result"
    }
   ],
   "source": [
    "coherent_dm(4,alpha)"
   ]
  },
  {
   "cell_type": "code",
   "execution_count": 54,
   "metadata": {},
   "outputs": [
    {
     "data": {
      "text/plain": [
       "array([[0., 0., 0., 0.],\n",
       "       [0., 0., 0., 0.],\n",
       "       [0., 0., 1., 0.],\n",
       "       [0., 0., 0., 0.]])"
      ]
     },
     "execution_count": 54,
     "metadata": {},
     "output_type": "execute_result"
    }
   ],
   "source": [
    "# para o estado de fock é equivalente\n",
    "psi = Fock(N=4,n=2)\n",
    "rho = np.dot(psi,dag(psi))\n",
    "rho"
   ]
  },
  {
   "cell_type": "code",
   "execution_count": 55,
   "metadata": {},
   "outputs": [],
   "source": [
    "def matrizdensidade(probabilities, states, puro=True):\n",
    "    \n",
    "    if puro == True:\n",
    "        return np.dot(state,dag(state))\n",
    "    \n",
    "    else:   \n",
    "        # Verificar se as probabilidades somam 1\n",
    "        if not np.isclose(sum(probabilities), 1):\n",
    "            raise ValueError(\"As probabilidades devem somar 1.\")\n",
    "        \n",
    "        # Verificar se cada estado está normalizado\n",
    "        for state in states:\n",
    "            if not np.isclose(np.linalg.norm(state), 1):\n",
    "                raise ValueError(\"Todos os estados devem ser normalizados.\")\n",
    "             \n",
    "        # Criar a matriz densidade\n",
    "        rho = np.zeros((states[0].shape[0], states[0].shape[0]), dtype=complex)\n",
    "        \n",
    "        for p, state in zip(probabilities, states):\n",
    "            rho += p * np.outer(state, state.conj())  # |ψ⟩⟨ψ|\n",
    "    \n",
    "    return rho\n"
   ]
  },
  {
   "cell_type": "markdown",
   "metadata": {},
   "source": [
    "Exemplo de estado misto"
   ]
  },
  {
   "cell_type": "code",
   "execution_count": 56,
   "metadata": {},
   "outputs": [
    {
     "data": {
      "text/plain": [
       "array([[0.5+0.j, 0. +0.j],\n",
       "       [0. +0.j, 0.5+0.j]])"
      ]
     },
     "execution_count": 56,
     "metadata": {},
     "output_type": "execute_result"
    }
   ],
   "source": [
    "probabilities = [0.5, 0.5]\n",
    "matrizdensidade(probabilities, [bases(N=2,n=0),bases(N=2,n=1)], puro=False)"
   ]
  },
  {
   "cell_type": "markdown",
   "metadata": {},
   "source": [
    "## Operadores"
   ]
  },
  {
   "cell_type": "code",
   "execution_count": 57,
   "metadata": {},
   "outputs": [
    {
     "data": {
      "text/plain": [
       "array([[0., 1.],\n",
       "       [0., 0.]])"
      ]
     },
     "execution_count": 57,
     "metadata": {},
     "output_type": "execute_result"
    }
   ],
   "source": [
    "# ja fizemso os operadores de pauli\n",
    "# Operador de deslocamento e criamos o operador de destruição\n",
    "# função do operador destruição\n",
    "\n",
    "def destruiçao(N):\n",
    "    subdiag = np.sqrt(np.arange(1, N))# Monta os elementos na subdiagonal\n",
    "    return np.diag(subdiag, k=1) # Operador de destruição\n",
    "destruiçao(2)"
   ]
  },
  {
   "cell_type": "code",
   "execution_count": 58,
   "metadata": {},
   "outputs": [
    {
     "data": {
      "text/plain": [
       "array([[0., 0.],\n",
       "       [1., 0.]])"
      ]
     },
     "execution_count": 58,
     "metadata": {},
     "output_type": "execute_result"
    }
   ],
   "source": [
    "def criaçao(N):\n",
    "    return  dag(destruiçao(N))\n",
    "criaçao(2)"
   ]
  },
  {
   "cell_type": "markdown",
   "metadata": {},
   "source": [
    "O operador de posição é dado por:\n",
    "\n",
    "$$\n",
    "\\hat{x} = \\frac{\\hat{a} + \\hat{a}^\\dagger}{\\sqrt{2}}\n",
    "$$"
   ]
  },
  {
   "cell_type": "code",
   "execution_count": 59,
   "metadata": {},
   "outputs": [
    {
     "data": {
      "text/plain": [
       "array([[0.        , 0.70710678, 0.        , 0.        ],\n",
       "       [0.70710678, 0.        , 1.        , 0.        ],\n",
       "       [0.        , 1.        , 0.        , 1.22474487],\n",
       "       [0.        , 0.        , 1.22474487, 0.        ]])"
      ]
     },
     "execution_count": 59,
     "metadata": {},
     "output_type": "execute_result"
    }
   ],
   "source": [
    "# operador posição\n",
    "def operador_x(N):\n",
    "    return (destruiçao(N) + dag(destruiçao(N)))/np.sqrt(2)\n",
    "operador_x(4)"
   ]
  },
  {
   "cell_type": "markdown",
   "metadata": {},
   "source": [
    "O operador de momento é dado por:\n",
    "\n",
    "$$\n",
    "\\hat{p} = \\frac{\\hat{a} - \\hat{a}^\\dagger}{i \\sqrt{2}}\n",
    "$$"
   ]
  },
  {
   "cell_type": "code",
   "execution_count": 60,
   "metadata": {},
   "outputs": [
    {
     "data": {
      "text/plain": [
       "array([[0.-0.j        , 0.-0.70710678j, 0.-0.j        , 0.-0.j        ],\n",
       "       [0.+0.70710678j, 0.-0.j        , 0.-1.j        , 0.-0.j        ],\n",
       "       [0.-0.j        , 0.+1.j        , 0.-0.j        , 0.-1.22474487j],\n",
       "       [0.-0.j        , 0.-0.j        , 0.+1.22474487j, 0.-0.j        ]])"
      ]
     },
     "execution_count": 60,
     "metadata": {},
     "output_type": "execute_result"
    }
   ],
   "source": [
    "# operador momento\n",
    "def operador_p(N):\n",
    "    return -1j*(destruiçao(N) - dag(destruiçao(N)))/np.sqrt(2)\n",
    "operador_p(4)"
   ]
  },
  {
   "cell_type": "markdown",
   "metadata": {},
   "source": [
    "O comutador entre $ \\hat{x} $ e $ \\hat{p} $ é dado por:\n",
    "$$\n",
    "[\\hat{A}, \\hat{B}] = AB-BA\n",
    "$$\n",
    "$$\n",
    "[\\hat{x}, \\hat{p}] = i\n",
    "$$\n",
    "\n",
    "\n",
    "\n",
    "\n",
    "\n"
   ]
  },
  {
   "cell_type": "code",
   "execution_count": 61,
   "metadata": {},
   "outputs": [
    {
     "data": {
      "text/plain": [
       "array([[ 1.,  0.,  0.,  0.,  0.],\n",
       "       [ 0.,  1.,  0.,  0.,  0.],\n",
       "       [ 0.,  0.,  1.,  0.,  0.],\n",
       "       [ 0.,  0.,  0.,  1.,  0.],\n",
       "       [ 0.,  0.,  0.,  0., -4.]])"
      ]
     },
     "execution_count": 61,
     "metadata": {},
     "output_type": "execute_result"
    }
   ],
   "source": [
    "# comutador\n",
    "def comutador(op1, op2):\n",
    "    return np.dot(op1,op2) - np.dot(op2,op1)\n",
    "\n",
    "comutador(destruiçao(5),criaçao(5))"
   ]
  },
  {
   "cell_type": "code",
   "execution_count": 62,
   "metadata": {},
   "outputs": [
    {
     "data": {
      "text/plain": [
       "array([[0.+1.j, 0.+0.j, 0.+0.j, 0.+0.j, 0.+0.j],\n",
       "       [0.+0.j, 0.+1.j, 0.+0.j, 0.+0.j, 0.+0.j],\n",
       "       [0.+0.j, 0.+0.j, 0.+1.j, 0.+0.j, 0.+0.j],\n",
       "       [0.+0.j, 0.+0.j, 0.+0.j, 0.+1.j, 0.+0.j],\n",
       "       [0.+0.j, 0.+0.j, 0.+0.j, 0.+0.j, 0.-4.j]])"
      ]
     },
     "execution_count": 62,
     "metadata": {},
     "output_type": "execute_result"
    }
   ],
   "source": [
    "comutador(operador_x(5),operador_p(5))"
   ]
  },
  {
   "cell_type": "code",
   "execution_count": 63,
   "metadata": {},
   "outputs": [
    {
     "data": {
      "text/latex": [
       "Quantum object: dims=[[5], [5]], shape=(5, 5), type='oper', dtype=Dia, isherm=True$$\\left(\\begin{array}{cc}1 & 0 & 0 & 0 & 0\\\\0 & 1 & 0 & 0 & 0\\\\0 & 0 & 1.000 & 0 & 0\\\\0 & 0 & 0 & 1 & 0\\\\0 & 0 & 0 & 0 & -4\\end{array}\\right)$$"
      ],
      "text/plain": [
       "Quantum object: dims=[[5], [5]], shape=(5, 5), type='oper', dtype=Dia, isherm=True\n",
       "Qobj data =\n",
       "[[ 1.  0.  0.  0.  0.]\n",
       " [ 0.  1.  0.  0.  0.]\n",
       " [ 0.  0.  1.  0.  0.]\n",
       " [ 0.  0.  0.  1.  0.]\n",
       " [ 0.  0.  0.  0. -4.]]"
      ]
     },
     "execution_count": 63,
     "metadata": {},
     "output_type": "execute_result"
    }
   ],
   "source": [
    "a = destroy(5)\n",
    "def commutator(op1, op2):\n",
    "    return op1 * op2 - op2 * op1\n",
    "commutator(a, a.dag())"
   ]
  },
  {
   "cell_type": "markdown",
   "metadata": {},
   "source": [
    "Obs:  O resultado deveria ser a identidade(i*I,I) nos dos casos!, mas aparece um 4 no ultimo termo.\n",
    "\n",
    "Por quê? Porque truncamos o espaço de Hilbert. Mas tudo bem, desde que o maior estado de Fock não esteja envolvido na dinâmica no nosso espaço de Hilbert truncado. Se estiver, a aproximação que a truncagem introduz pode ser um problema."
   ]
  },
  {
   "cell_type": "code",
   "execution_count": 64,
   "metadata": {},
   "outputs": [
    {
     "data": {
      "text/latex": [
       "Quantum object: dims=[[5], [5]], shape=(5, 5), type='oper', dtype=Dia, isherm=True$$\\left(\\begin{array}{cc}1 & 0 & 0 & 0 & 0\\\\0 & 1 & 0 & 0 & 0\\\\0 & 0 & 1.000 & 0 & 0\\\\0 & 0 & 0 & 1 & 0\\\\0 & 0 & 0 & 0 & -4\\end{array}\\right)$$"
      ],
      "text/plain": [
       "Quantum object: dims=[[5], [5]], shape=(5, 5), type='oper', dtype=Dia, isherm=True\n",
       "Qobj data =\n",
       "[[ 1.  0.  0.  0.  0.]\n",
       " [ 0.  1.  0.  0.  0.]\n",
       " [ 0.  0.  1.  0.  0.]\n",
       " [ 0.  0.  0.  1.  0.]\n",
       " [ 0.  0.  0.  0. -4.]]"
      ]
     },
     "execution_count": 64,
     "metadata": {},
     "output_type": "execute_result"
    }
   ],
   "source": [
    "commutator(a, a.dag())"
   ]
  },
  {
   "cell_type": "code",
   "execution_count": 65,
   "metadata": {},
   "outputs": [
    {
     "data": {
      "text/latex": [
       "Quantum object: dims=[[4], [4]], shape=(4, 4), type='oper', dtype=Dia, isherm=True$$\\left(\\begin{array}{cc}1 & 0 & 0 & 0\\\\0 & 1 & 0 & 0\\\\0 & 0 & 1 & 0\\\\0 & 0 & 0 & 1\\end{array}\\right)$$"
      ],
      "text/plain": [
       "Quantum object: dims=[[4], [4]], shape=(4, 4), type='oper', dtype=Dia, isherm=True\n",
       "Qobj data =\n",
       "[[1. 0. 0. 0.]\n",
       " [0. 1. 0. 0.]\n",
       " [0. 0. 1. 0.]\n",
       " [0. 0. 0. 1.]]"
      ]
     },
     "execution_count": 65,
     "metadata": {},
     "output_type": "execute_result"
    }
   ],
   "source": [
    "qeye(4)"
   ]
  },
  {
   "cell_type": "code",
   "execution_count": 66,
   "metadata": {},
   "outputs": [
    {
     "data": {
      "text/plain": [
       "array([[1., 0., 0., 0.],\n",
       "       [0., 1., 0., 0.],\n",
       "       [0., 0., 1., 0.],\n",
       "       [0., 0., 0., 1.]])"
      ]
     },
     "execution_count": 66,
     "metadata": {},
     "output_type": "execute_result"
    }
   ],
   "source": [
    "def Identidade(N):\n",
    "    return np.identity(N)\n",
    "Identidade(4)"
   ]
  },
  {
   "cell_type": "markdown",
   "metadata": {},
   "source": [
    "Produto tensorial"
   ]
  },
  {
   "cell_type": "code",
   "execution_count": 67,
   "metadata": {},
   "outputs": [
    {
     "data": {
      "text/plain": [
       "matrix([[ 1.,  0.,  0.,  0.],\n",
       "        [ 0.,  1.,  0.,  0.],\n",
       "        [ 0.,  0., -1., -0.],\n",
       "        [ 0.,  0., -0., -1.]])"
      ]
     },
     "execution_count": 67,
     "metadata": {},
     "output_type": "execute_result"
    }
   ],
   "source": [
    "np.kron(U('PauliZ'),Identidade(2))"
   ]
  },
  {
   "cell_type": "code",
   "execution_count": 68,
   "metadata": {},
   "outputs": [],
   "source": [
    "def produto_tensorial(op1,op2):\n",
    "    return np.kron(op1,op2)"
   ]
  },
  {
   "cell_type": "markdown",
   "metadata": {},
   "source": [
    "Agora estamos pronto para criar uma hamiltoniana de dois qutis acoplado\n",
    "\n",
    "$$\n",
    "\\hat{H} = \\frac{\\hbar \\omega}{2} \\left( \\hat{\\sigma}_z^{(1)} + \\hat{\\sigma}_z^{(2)} \\right) + J \\hat{\\sigma}_x^{(1)} \\hat{\\sigma}_x^{(2)}\n",
    "$$\n"
   ]
  },
  {
   "cell_type": "code",
   "execution_count": 69,
   "metadata": {},
   "outputs": [
    {
     "data": {
      "text/plain": [
       "matrix([[ 2. ,  0. ,  0. ,  0.1],\n",
       "        [ 0. ,  0. ,  0.1,  0. ],\n",
       "        [ 0. ,  0.1,  0. ,  0. ],\n",
       "        [ 0.1,  0. ,  0. , -2. ]])"
      ]
     },
     "execution_count": 69,
     "metadata": {},
     "output_type": "execute_result"
    }
   ],
   "source": [
    "epsilon = [1.0, 1.0]\n",
    "g = 0.1\n",
    "\n",
    "sz1 = produto_tensorial(U('PauliZ'), Identidade(2))\n",
    "sz2 = produto_tensorial(Identidade(2), U('PauliZ'))\n",
    "\n",
    "H = epsilon[0] * sz1 + epsilon[1] * sz2 + g * produto_tensorial(U('PauliX'), U('PauliX'))\n",
    "\n",
    "H"
   ]
  },
  {
   "cell_type": "markdown",
   "metadata": {},
   "source": [
    "$$\n",
    "\\hat{H} = \\frac{\\hbar \\omega_0}{2} \\hat{\\sigma}_z + \\hbar \\omega a^\\dagger a + \\hbar g \\left( \\hat{\\sigma}_+ a + \\hat{\\sigma}_- a^\\dagger \\right)\n",
    "$$\n"
   ]
  },
  {
   "cell_type": "code",
   "execution_count": null,
   "metadata": {},
   "outputs": [
    {
     "data": {
      "text/plain": [
       "matrix([[-0.5,  0. ,  0. ,  0. ],\n",
       "        [ 0. ,  0.5,  0.1,  0. ],\n",
       "        [ 0. ,  0.1, -0.5,  0. ],\n",
       "        [ 0. ,  0. ,  0. ,  0.5]])"
      ]
     },
     "execution_count": 70,
     "metadata": {},
     "output_type": "execute_result"
    }
   ],
   "source": [
    "wc  = 1.0  # Frequência da cavidade\n",
    "wa  = 1.0  # Frequência do atomo\n",
    "g   = 0.1  # Acoplamento\n",
    "basefock = 2\n",
    "\n",
    "# cavity mode operator\n",
    "a = produto_tensorial(destruiçao(basefock), Identidade(2))\n",
    "\n",
    "# qubit/atom operators\n",
    "sz = produto_tensorial(Identidade(basefock), U('PauliZ'))  # sigma-z operator\n",
    "sm = produto_tensorial(Identidade(basefock), destruiçao(2))  # sigma-minus operator\n",
    "\n",
    "# the Jaynes-Cumming Hamiltonian\n",
    "H_acomplamento = g * (np.dot(a,dag(sm)) + np.dot(dag(a),sm))\n",
    "H = wc * dag(a) * a - 0.5 * wa * sz + H_acomplamento\n",
    "H"
   ]
  }
 ],
 "metadata": {
  "colab": {
   "authorship_tag": "ABX9TyM9r6l/WF+NtqPeBxfXj7g+",
   "include_colab_link": true,
   "provenance": []
  },
  "kernelspec": {
   "display_name": "torch-qutip",
   "language": "python",
   "name": "python3"
  },
  "language_info": {
   "codemirror_mode": {
    "name": "ipython",
    "version": 3
   },
   "file_extension": ".py",
   "mimetype": "text/x-python",
   "name": "python",
   "nbconvert_exporter": "python",
   "pygments_lexer": "ipython3",
   "version": "3.10.13"
  }
 },
 "nbformat": 4,
 "nbformat_minor": 0
}
