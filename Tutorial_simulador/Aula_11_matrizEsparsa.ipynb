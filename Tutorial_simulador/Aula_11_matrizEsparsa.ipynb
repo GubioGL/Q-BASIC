{
 "cells": [
  {
   "cell_type": "code",
   "execution_count": 43,
   "metadata": {},
   "outputs": [],
   "source": [
    "import numpy as np\n",
    "import scipy as sp\n",
    "import sympy as sy\n",
    "import matplotlib.pyplot as plt\n",
    "\n",
    "from qbasic.funçoes import edo,Valor_esperado\n",
    "from qbasic.estados import bases\n",
    "from qbasic.operador import destruiçao,Identidade\n",
    "from qbasic.class_tijolo import ObjQuantico\n",
    "\n",
    "from IPython.display import display, Math"
   ]
  },
  {
   "cell_type": "markdown",
   "metadata": {
    "id": "-a7Cw_ynlJmy"
   },
   "source": [
    "# Aula 10: "
   ]
  },
  {
   "cell_type": "markdown",
   "metadata": {},
   "source": [
    "Nesse primeioro material iremos seguir o tutorial do site :  https://docs.scipy.org/doc/scipy/tutorial/sparse.html direto do site da scipy."
   ]
  },
  {
   "cell_type": "markdown",
   "metadata": {},
   "source": [
    "## Introdução :"
   ]
  },
  {
   "cell_type": "markdown",
   "metadata": {},
   "source": [
    "O módulo `scipy.sparse` e seus submódulos fornecem ferramentas para trabalhar com matrizes esparsas. \n",
    "Matrizes esparsas são um tipo especial de matriz em que apenas algumas posições contêm dados. \n",
    "\n",
    "Isso permite representações compactas, nas quais somente as posições com dados são registradas. Existem diversos formatos de matrizes esparsas, cada um fazendo um equilíbrio diferente entre compressão e funcionalidade. Para começar, vamos construir uma matriz esparsa simples no formato Coordenado (COO, ou `coo_array`) e compará-la com uma matriz densa:"
   ]
  },
  {
   "cell_type": "code",
   "execution_count": 44,
   "metadata": {},
   "outputs": [
    {
     "name": "stdout",
     "output_type": "stream",
     "text": [
      "Matriz Densa:\n",
      "<COOrdinate sparse array of dtype 'int64'\n",
      "\twith 5 stored elements and shape (3, 4)>\n",
      "  Coords\tValues\n",
      "  (0, 0)\t1\n",
      "  (0, 3)\t2\n",
      "  (1, 1)\t4\n",
      "  (1, 2)\t1\n",
      "  (2, 2)\t5\n"
     ]
    }
   ],
   "source": [
    "dense   = np.array([[1, 0, 0, 2], [0, 4, 1, 0], [0, 0, 5, 0]])\n",
    "sparse  = sp.sparse.coo_array(dense)\n",
    "print(\"Matriz Densa:\")\n",
    "print(sparse)"
   ]
  },
  {
   "cell_type": "markdown",
   "metadata": {},
   "source": [
    "Observe que, em nossa matriz densa, temos cinco valores não nulos. Por exemplo, o número 2 está na posição 0,3, e o número 4 está na posição 1,1. Todos os outros valores são zeros. A matriz esparsa registra explicitamente esses cinco valores (veja os 5 elementos armazenados e o formato ((3,4)) e representa todos os zeros restantes como valores implícitos.\n",
    "\n",
    "\n",
    "COO arrays cannot be subscripted or sliced:"
   ]
  },
  {
   "cell_type": "code",
   "execution_count": 45,
   "metadata": {},
   "outputs": [
    {
     "name": "stdout",
     "output_type": "stream",
     "text": [
      "[[1 0 0 2]\n",
      " [0 4 1 0]\n",
      " [0 0 5 0]]\n",
      "5\n"
     ]
    }
   ],
   "source": [
    "print(dense)\n",
    "print(dense[2, 2])\n",
    "# sparse[2, 2]"
   ]
  },
  {
   "cell_type": "markdown",
   "metadata": {},
   "source": [
    "COO arrays cannot be subscripted or sliced:"
   ]
  },
  {
   "cell_type": "markdown",
   "metadata": {},
   "source": [
    "But, other formats, such as the Compressed Sparse Row (CSR) csr_array support slicing and element indexing:"
   ]
  },
  {
   "cell_type": "code",
   "execution_count": 46,
   "metadata": {},
   "outputs": [
    {
     "name": "stdout",
     "output_type": "stream",
     "text": [
      "<Compressed Sparse Row sparse array of dtype 'int64'\n",
      "\twith 5 stored elements and shape (3, 4)>\n",
      "  Coords\tValues\n",
      "  (0, 0)\t1\n",
      "  (0, 3)\t2\n",
      "  (1, 1)\t4\n",
      "  (1, 2)\t1\n",
      "  (2, 2)\t5\n"
     ]
    }
   ],
   "source": [
    "sparse  = sp.sparse.csr_array(dense)\n",
    "print(sparse)"
   ]
  },
  {
   "cell_type": "markdown",
   "metadata": {},
   "source": [
    "Multiplicação de matrizes"
   ]
  },
  {
   "cell_type": "code",
   "execution_count": 47,
   "metadata": {},
   "outputs": [
    {
     "data": {
      "text/plain": [
       "array([[ 1,  0,  0,  4],\n",
       "       [ 0, 16,  1,  0],\n",
       "       [ 0,  0, 25,  0]])"
      ]
     },
     "execution_count": 47,
     "metadata": {},
     "output_type": "execute_result"
    }
   ],
   "source": [
    "dense*dense"
   ]
  },
  {
   "cell_type": "markdown",
   "metadata": {},
   "source": [
    "## Convertendo a classe base"
   ]
  },
  {
   "cell_type": "code",
   "execution_count": 48,
   "metadata": {},
   "outputs": [],
   "source": [
    "class ObjQuantico_esparso:\n",
    "    def __init__(self, data,latex_representation=None):\n",
    "        self.dados = data\n",
    "        self.latex_representation = latex_representation\n",
    "\n",
    "    def definir_dados(self, data):\n",
    "        self.dados = data\n",
    "\n",
    "    def full(self):\n",
    "        return self.dados.todense()\n",
    "    \n",
    "    def full_sparsa(self):\n",
    "        return self.dados\n",
    "    \n",
    "    def dim(self):\n",
    "        return len(self.dados.todense())\n",
    "    \n",
    "    def expM(self):\n",
    "        # Convertendo para csc matriz pq é mais eficiente\n",
    "        matrix = sp.sparse.csc_matrix(self.dados)\n",
    "        matrix = sp.sparse.linalg.expm(matrix)\n",
    "        return ObjQuantico_esparso(matrix) \n",
    "    \n",
    "    def dag(self):\n",
    "        return ObjQuantico_esparso(self.dados.transpose().conjugate())\n",
    "    \n",
    "    def traço(self):\n",
    "        return float(self.dados.trace().real)\n",
    "    \n",
    "    def Autovalores(self):\n",
    "        return np.linalg.eigvals(self.dados.todense())\n",
    "    \n",
    "    def Autovetores(self):\n",
    "        return np.linalg.eig(self.dados.todense())[1]\n",
    "    \n",
    "    def AutoValor_Vetor(self):\n",
    "        return np.linalg.eig(self.dados.todense())\n",
    "    \n",
    "    def __repr__(self):\n",
    "        if self.latex_representation:\n",
    "            display(Math(self.latex_representation))\n",
    "        else:\n",
    "            display(Math(sy.latex(sy.Matrix(self.dados.todense()))))\n",
    "        return f\"ObjQuantico: dim ={self.dim()} , shape = {self.dados.todense().shape}\" \n",
    "                \n",
    "    def __add__(self, other):\n",
    "        if isinstance(other, ObjQuantico_esparso):  \n",
    "            # Soma os dados de dois objetos ObjQuantico_esparso\n",
    "            return ObjQuantico_esparso(self.dados + other.dados)\n",
    "        else:\n",
    "            raise TypeError(f\"Soma não suportada entre {type(other)} e ObjQuantico\")\n",
    "        \n",
    "    def __sub__(self, other):\n",
    "        if isinstance(other, ObjQuantico_esparso):  \n",
    "            # Subtração entre duas instâncias de ObjQuantico\n",
    "            return ObjQuantico_esparso(self.dados - other.dados)\n",
    "        else:\n",
    "            raise TypeError(f\"Subtração não suportada entre {type(other)} e ObjQuantico\")\n",
    "    \n",
    "    def __mul__(self, other):\n",
    "        # Multiplicação para diferentes tipos\n",
    "        if isinstance(other, ObjQuantico_esparso):  \n",
    "            # Multiplicação matricial com outra instância de ObjQuantico\n",
    "            return ObjQuantico_esparso(self.dados.dot( other.dados))\n",
    "        elif np.isscalar(other):  # Multiplicação por escalar\n",
    "            return ObjQuantico_esparso(self.dados * other)\n",
    "        else:\n",
    "            raise TypeError(f\"Multiplicação não suportada entre {type(other)} e ObjQuantico\")\n",
    "\n",
    "    def __rmul__(self, other):\n",
    "        if np.isscalar(other):  # Multiplicação reversa por escalar\n",
    "            return ObjQuantico_esparso(self.dados * other)\n",
    "        else:\n",
    "            raise TypeError(f\"Multiplicação não suportada entre {type(other)} e ObjQuantico\")\n",
    "    \n",
    "    def __truediv__(self, other):\n",
    "        if isinstance(other, (int, float)):  # Divisão por um número escalar\n",
    "            return ObjQuantico_esparso(self.dados / other)\n",
    "        else:\n",
    "            raise TypeError(f\"Divisão não suportada entre {type(other)} e ObjQuantico\")\n",
    "    \n",
    "    def __rtruediv__(self, other):\n",
    "        if isinstance(other, (int, float)):  # Divisão invertida por um número escalar\n",
    "            return ObjQuantico_esparso(other / self.dados)\n",
    "        else:\n",
    "            raise TypeError(f\"Divisão não suportada entre {type(other)} e ObjQuantico\")     \n",
    "         \n",
    "    def __pow__(self, power):\n",
    "        if not isinstance(power, int) or power < 0:\n",
    "            raise ValueError(\"A potência deve ser um inteiro não negativo.\")\n",
    "        \n",
    "        # Obter a matriz identidade no formato esparso\n",
    "        size = self.dados.shape[0]  # Número de linhas\n",
    "        result = sp.sparse.identity(size, format='csr')  # Identidade esparsa no formato CSR\n",
    "        \n",
    "        # Multiplicação iterativa\n",
    "        for _ in range(power):\n",
    "            result = result @ self.dados  # Multiplicação esparsa eficiente\n",
    "        return ObjQuantico_esparso(result)\n",
    "    \n",
    "    def __matmul__(self, other):\n",
    "        \"\"\"Implementa o operador @ para o produto tensorial.\"\"\"\n",
    "        if isinstance(other, ObjQuantico_esparso):\n",
    "            return ObjQuantico_esparso(sp.sparse.kron(self.full_sparsa(), other.full_sparsa()))\n",
    "        else:\n",
    "            raise TypeError(f\"Operador @ não suportado entre {type(self)} e {type(other)}\")"
   ]
  },
  {
   "cell_type": "code",
   "execution_count": 49,
   "metadata": {},
   "outputs": [
    {
     "name": "stdout",
     "output_type": "stream",
     "text": [
      "<Compressed Sparse Row sparse array of dtype 'complex128'\n",
      "\twith 5 stored elements and shape (3, 3)>\n",
      "  Coords\tValues\n",
      "  (0, 0)\t1j\n",
      "  (1, 1)\t(4+0j)\n",
      "  (1, 2)\t-1j\n",
      "  (2, 1)\t2j\n",
      "  (2, 2)\t(1+0j)\n"
     ]
    }
   ],
   "source": [
    "dense   = np.array([[1j, 0,  0], [0, 4, 0j], [0, 0+1j, 1]])\n",
    "dense   = 2*dense  - dense.T\n",
    "dense   = sp.sparse.csr_array(dense)\n",
    "print(dense)"
   ]
  },
  {
   "cell_type": "markdown",
   "metadata": {},
   "source": [
    "###  Plote"
   ]
  },
  {
   "cell_type": "code",
   "execution_count": 50,
   "metadata": {},
   "outputs": [
    {
     "data": {
      "text/latex": [
       "$\\displaystyle \\left[\\begin{matrix}1.0 i & 0 & 0\\\\0 & 4.0 & - 1.0 i\\\\0 & 2.0 i & 1.0\\end{matrix}\\right]$"
      ],
      "text/plain": [
       "<IPython.core.display.Math object>"
      ]
     },
     "metadata": {},
     "output_type": "display_data"
    },
    {
     "data": {
      "text/plain": [
       "ObjQuantico: dim =3 , shape = (3, 3)"
      ]
     },
     "execution_count": 50,
     "metadata": {},
     "output_type": "execute_result"
    }
   ],
   "source": [
    "# __repr__()\n",
    "spar_var = ObjQuantico_esparso(dense)\n",
    "spar_var"
   ]
  },
  {
   "cell_type": "markdown",
   "metadata": {},
   "source": [
    "###  Full_sparsa"
   ]
  },
  {
   "cell_type": "markdown",
   "metadata": {},
   "source": [
    "````python\n",
    "def full_sparsa(self):\n",
    "    return self.dados\n",
    "````\n",
    "Metodo novo para rotrno a matris esparsa no formado sparso emquanto que o full() continua retornando a matriz esparça completa."
   ]
  },
  {
   "cell_type": "code",
   "execution_count": 51,
   "metadata": {},
   "outputs": [
    {
     "name": "stdout",
     "output_type": "stream",
     "text": [
      "<Compressed Sparse Row sparse array of dtype 'complex128'\n",
      "\twith 5 stored elements and shape (3, 3)>\n",
      "  Coords\tValues\n",
      "  (0, 0)\t1j\n",
      "  (1, 1)\t(4+0j)\n",
      "  (1, 2)\t-1j\n",
      "  (2, 1)\t2j\n",
      "  (2, 2)\t(1+0j)\n"
     ]
    }
   ],
   "source": [
    "# .full_sparsa()\n",
    "print(spar_var.full_sparsa())"
   ]
  },
  {
   "cell_type": "markdown",
   "metadata": {},
   "source": [
    "###  Dim"
   ]
  },
  {
   "cell_type": "markdown",
   "metadata": {},
   "source": [
    "````python\n",
    "def dim(self):\n",
    "        return len(self.dados.todense())\n",
    "````\n",
    "Estamos calculado ca dimensão da matrix densa "
   ]
  },
  {
   "cell_type": "code",
   "execution_count": 52,
   "metadata": {},
   "outputs": [
    {
     "data": {
      "text/plain": [
       "3"
      ]
     },
     "execution_count": 52,
     "metadata": {},
     "output_type": "execute_result"
    }
   ],
   "source": [
    "# dim()\n",
    "spar_var.dim()"
   ]
  },
  {
   "cell_type": "markdown",
   "metadata": {},
   "source": [
    "###  Dag"
   ]
  },
  {
   "cell_type": "markdown",
   "metadata": {},
   "source": [
    "````python\n",
    "def dag(self):\n",
    "    return ObjQuantico_esparso(np.conjugate(self.dados.T))\n",
    "````\n",
    "vamos mudar as funçoes do numpa para scipy sparso"
   ]
  },
  {
   "cell_type": "code",
   "execution_count": 53,
   "metadata": {},
   "outputs": [
    {
     "name": "stdout",
     "output_type": "stream",
     "text": [
      "<Compressed Sparse Column sparse array of dtype 'complex128'\n",
      "\twith 5 stored elements and shape (3, 3)>\n",
      "  Coords\tValues\n",
      "  (0, 0)\t1j\n",
      "  (1, 1)\t(4+0j)\n",
      "  (2, 1)\t-1j\n",
      "  (1, 2)\t2j\n",
      "  (2, 2)\t(1+0j)\n"
     ]
    }
   ],
   "source": [
    "print(spar_var.full_sparsa().transpose())"
   ]
  },
  {
   "cell_type": "code",
   "execution_count": 54,
   "metadata": {},
   "outputs": [
    {
     "name": "stdout",
     "output_type": "stream",
     "text": [
      "<Compressed Sparse Row sparse array of dtype 'complex128'\n",
      "\twith 5 stored elements and shape (3, 3)>\n",
      "  Coords\tValues\n",
      "  (0, 0)\t-1j\n",
      "  (1, 1)\t(4-0j)\n",
      "  (1, 2)\t1j\n",
      "  (2, 1)\t-2j\n",
      "  (2, 2)\t(1-0j)\n"
     ]
    }
   ],
   "source": [
    "print(spar_var.full_sparsa().conjugate())"
   ]
  },
  {
   "cell_type": "code",
   "execution_count": 55,
   "metadata": {},
   "outputs": [
    {
     "name": "stdout",
     "output_type": "stream",
     "text": [
      "<Compressed Sparse Column sparse array of dtype 'complex128'\n",
      "\twith 5 stored elements and shape (3, 3)>\n",
      "  Coords\tValues\n",
      "  (0, 0)\t-1j\n",
      "  (1, 1)\t(4-0j)\n",
      "  (2, 1)\t1j\n",
      "  (1, 2)\t-2j\n",
      "  (2, 2)\t(1-0j)\n"
     ]
    }
   ],
   "source": [
    "def dag(self):\n",
    "    return ObjQuantico_esparso(self.dados.transpose().conjugate())\n",
    "\n",
    "print(spar_var.full_sparsa().transpose().conjugate())"
   ]
  },
  {
   "cell_type": "markdown",
   "metadata": {},
   "source": [
    "###  Traço"
   ]
  },
  {
   "cell_type": "markdown",
   "metadata": {},
   "source": [
    "````python\n",
    "def traço(self):\n",
    "    return np.trace(self.dados).real\n",
    "````\n",
    "vamos mudar as funçoes do numpy para scipy sparso"
   ]
  },
  {
   "cell_type": "code",
   "execution_count": 56,
   "metadata": {},
   "outputs": [
    {
     "data": {
      "text/plain": [
       "np.float64(5.0)"
      ]
     },
     "execution_count": 56,
     "metadata": {},
     "output_type": "execute_result"
    }
   ],
   "source": [
    "def traço(self):\n",
    "    return self.dados.trace().real\n",
    "\n",
    "spar_var.full_sparsa().trace().real"
   ]
  },
  {
   "cell_type": "markdown",
   "metadata": {},
   "source": [
    "###  AutoValor"
   ]
  },
  {
   "cell_type": "markdown",
   "metadata": {},
   "source": [
    "````python\n",
    "    def Autovalores(self):\n",
    "        return np.linalg.eigvals(self.dados)\n",
    "````\n",
    "vamos mudar as funçoes do numpy para scipy sparso"
   ]
  },
  {
   "cell_type": "code",
   "execution_count": 57,
   "metadata": {},
   "outputs": [
    {
     "data": {
      "text/plain": [
       "array([[0.+1.j, 0.+0.j, 0.+0.j],\n",
       "       [0.+0.j, 4.+0.j, 0.-1.j],\n",
       "       [0.+0.j, 0.+2.j, 1.+0.j]])"
      ]
     },
     "execution_count": 57,
     "metadata": {},
     "output_type": "execute_result"
    }
   ],
   "source": [
    "spar_var.full()"
   ]
  },
  {
   "cell_type": "code",
   "execution_count": 58,
   "metadata": {},
   "outputs": [
    {
     "data": {
      "text/plain": [
       "(array([0.43844719+0.j, 4.56155281+0.j, 0.        +1.j]),\n",
       " array([[-0.        -0.j        ,  0.        -0.j        ,\n",
       "          1.        +0.j        ],\n",
       "        [-0.        +0.27032301j,  0.87192821+0.j        ,\n",
       "          0.        +0.j        ],\n",
       "        [ 0.96276969+0.j        ,  0.        +0.48963374j,\n",
       "          0.        +0.j        ]]))"
      ]
     },
     "execution_count": 58,
     "metadata": {},
     "output_type": "execute_result"
    }
   ],
   "source": [
    "sp.linalg.eig(spar_var.full())"
   ]
  },
  {
   "cell_type": "markdown",
   "metadata": {},
   "source": [
    "Ha alguma limitaçoes no scipy.sparse.linalg.eigs , a principal é que ele não consegue calcular todos os autovalores e auto vetores, das matrizes esparsas. "
   ]
  },
  {
   "cell_type": "code",
   "execution_count": 59,
   "metadata": {},
   "outputs": [
    {
     "data": {
      "text/plain": [
       "(array([4.56155281-3.33066907e-16j]),\n",
       " array([[ 1.11022302e-16-1.94289029e-16j],\n",
       "        [-4.79441868e-01+7.28281743e-01j],\n",
       "        [-4.08968661e-01-2.69231930e-01j]]))"
      ]
     },
     "execution_count": 59,
     "metadata": {},
     "output_type": "execute_result"
    }
   ],
   "source": [
    "# Nesse enxemplo para k >1 ja não fuciona pq a matriz 3x3 \n",
    "sp.sparse.linalg.eigs(spar_var.full_sparsa(),k=1)"
   ]
  },
  {
   "cell_type": "code",
   "execution_count": 60,
   "metadata": {},
   "outputs": [
    {
     "data": {
      "text/plain": [
       "array([0.43844719+0.j, 4.56155281+0.j, 0.        +1.j])"
      ]
     },
     "execution_count": 60,
     "metadata": {},
     "output_type": "execute_result"
    }
   ],
   "source": [
    "def Autovalores(self):\n",
    "    return np.linalg.eigvals(self.dados.todense())\n",
    "\n",
    "np.linalg.eigvals(spar_var.full())"
   ]
  },
  {
   "cell_type": "markdown",
   "metadata": {},
   "source": [
    "o mesmo vale apara as outra funções"
   ]
  },
  {
   "cell_type": "code",
   "execution_count": 61,
   "metadata": {},
   "outputs": [],
   "source": [
    "def Autovetores(self):\n",
    "    return np.linalg.eig(self.dados.todense())[1]\n",
    "\n",
    "def AutoValor_Vetor(self):\n",
    "    return np.linalg.eig(self.dados.todense())"
   ]
  },
  {
   "cell_type": "markdown",
   "metadata": {},
   "source": [
    "## Convertendo todos os operadores"
   ]
  },
  {
   "cell_type": "markdown",
   "metadata": {},
   "source": [
    "### Identidade "
   ]
  },
  {
   "cell_type": "markdown",
   "metadata": {},
   "source": [
    "```python\n",
    "def Identidade(N):\n",
    "    matriz = np.identity(N)\n",
    "    return ObjQuantico(matriz) \n",
    "```"
   ]
  },
  {
   "cell_type": "code",
   "execution_count": 62,
   "metadata": {},
   "outputs": [
    {
     "data": {
      "text/plain": [
       "array([[1., 0., 0.],\n",
       "       [0., 1., 0.],\n",
       "       [0., 0., 1.]])"
      ]
     },
     "execution_count": 62,
     "metadata": {},
     "output_type": "execute_result"
    }
   ],
   "source": [
    "sp.sparse.identity(3).toarray()"
   ]
  },
  {
   "cell_type": "markdown",
   "metadata": {},
   "source": [
    "Criado a função "
   ]
  },
  {
   "cell_type": "code",
   "execution_count": 63,
   "metadata": {},
   "outputs": [],
   "source": [
    "def Identidade(N,sparsa=False):\n",
    "    if sparsa ==True:\n",
    "        matriz = sp.sparse.identity(N)\n",
    "        return ObjQuantico_esparso(matriz)\n",
    "    else:\n",
    "        matriz = np.identity(N)\n",
    "        return ObjQuantico(matriz) "
   ]
  },
  {
   "cell_type": "code",
   "execution_count": 64,
   "metadata": {},
   "outputs": [
    {
     "data": {
      "text/latex": [
       "$\\displaystyle \\left[\\begin{matrix}1.0 & 0.0 & 0.0\\\\0.0 & 1.0 & 0.0\\\\0.0 & 0.0 & 1.0\\end{matrix}\\right]$"
      ],
      "text/plain": [
       "<IPython.core.display.Math object>"
      ]
     },
     "metadata": {},
     "output_type": "display_data"
    },
    {
     "data": {
      "text/plain": [
       "ObjQuantico: dim =3 , shape = (3, 3)"
      ]
     },
     "execution_count": 64,
     "metadata": {},
     "output_type": "execute_result"
    }
   ],
   "source": [
    "N = 3 \n",
    "I = Identidade(N,sparsa=True)\n",
    "I"
   ]
  },
  {
   "cell_type": "code",
   "execution_count": 65,
   "metadata": {},
   "outputs": [
    {
     "data": {
      "text/latex": [
       "$\\displaystyle \\left[\\begin{matrix}2.0 & 0.0 & 0.0\\\\0.0 & 2.0 & 0.0\\\\0.0 & 0.0 & 2.0\\end{matrix}\\right]$"
      ],
      "text/plain": [
       "<IPython.core.display.Math object>"
      ]
     },
     "metadata": {},
     "output_type": "display_data"
    },
    {
     "data": {
      "text/plain": [
       "ObjQuantico: dim =3 , shape = (3, 3)"
      ]
     },
     "execution_count": 65,
     "metadata": {},
     "output_type": "execute_result"
    }
   ],
   "source": [
    "I+I #Soma"
   ]
  },
  {
   "cell_type": "code",
   "execution_count": 66,
   "metadata": {},
   "outputs": [
    {
     "data": {
      "text/latex": [
       "$\\displaystyle \\left[\\begin{matrix}0.0 & 0.0 & 0.0\\\\0.0 & 0.0 & 0.0\\\\0.0 & 0.0 & 0.0\\end{matrix}\\right]$"
      ],
      "text/plain": [
       "<IPython.core.display.Math object>"
      ]
     },
     "metadata": {},
     "output_type": "display_data"
    },
    {
     "data": {
      "text/plain": [
       "ObjQuantico: dim =3 , shape = (3, 3)"
      ]
     },
     "execution_count": 66,
     "metadata": {},
     "output_type": "execute_result"
    }
   ],
   "source": [
    "I-I #Substração"
   ]
  },
  {
   "cell_type": "code",
   "execution_count": 67,
   "metadata": {},
   "outputs": [
    {
     "data": {
      "text/latex": [
       "$\\displaystyle \\left[\\begin{matrix}1.0 + 7.0 i & 0 & 0\\\\0 & 1.0 + 7.0 i & 0\\\\0 & 0 & 1.0 + 7.0 i\\end{matrix}\\right]$"
      ],
      "text/plain": [
       "<IPython.core.display.Math object>"
      ]
     },
     "metadata": {},
     "output_type": "display_data"
    },
    {
     "data": {
      "text/plain": [
       "ObjQuantico: dim =3 , shape = (3, 3)"
      ]
     },
     "execution_count": 67,
     "metadata": {},
     "output_type": "execute_result"
    }
   ],
   "source": [
    "(1+7j)*I#Multiplicaçao"
   ]
  },
  {
   "cell_type": "code",
   "execution_count": 68,
   "metadata": {},
   "outputs": [
    {
     "data": {
      "text/latex": [
       "$\\displaystyle \\left[\\begin{matrix}0.1 & 0.0 & 0.0\\\\0.0 & 0.1 & 0.0\\\\0.0 & 0.0 & 0.1\\end{matrix}\\right]$"
      ],
      "text/plain": [
       "<IPython.core.display.Math object>"
      ]
     },
     "metadata": {},
     "output_type": "display_data"
    },
    {
     "data": {
      "text/plain": [
       "ObjQuantico: dim =3 , shape = (3, 3)"
      ]
     },
     "execution_count": 68,
     "metadata": {},
     "output_type": "execute_result"
    }
   ],
   "source": [
    "I/10"
   ]
  },
  {
   "cell_type": "code",
   "execution_count": 69,
   "metadata": {},
   "outputs": [
    {
     "data": {
      "text/latex": [
       "$\\displaystyle \\left[\\begin{matrix}-1.0 & 0 & 0\\\\0 & -1.0 & 0\\\\0 & 0 & -1.0\\end{matrix}\\right]$"
      ],
      "text/plain": [
       "<IPython.core.display.Math object>"
      ]
     },
     "metadata": {},
     "output_type": "display_data"
    },
    {
     "data": {
      "text/plain": [
       "ObjQuantico: dim =3 , shape = (3, 3)"
      ]
     },
     "execution_count": 69,
     "metadata": {},
     "output_type": "execute_result"
    }
   ],
   "source": [
    "(1j*I)**2"
   ]
  },
  {
   "cell_type": "markdown",
   "metadata": {},
   "source": [
    "### Destruição"
   ]
  },
  {
   "cell_type": "markdown",
   "metadata": {},
   "source": [
    "```python\n",
    "def destruiçao(N):\n",
    "    subdiag = np.sqrt(np.arange(1, N))# Monta os elementos na subdiagonal\n",
    "    dt      = np.diag(subdiag, k=1) # Operador de destruição\n",
    "    return ObjQuantico(dt)\n",
    "```\n"
   ]
  },
  {
   "cell_type": "code",
   "execution_count": 70,
   "metadata": {},
   "outputs": [],
   "source": [
    "def destruiçao(N,sparsa=False):\n",
    "    if sparsa ==True:\n",
    "        subdiag = np.sqrt(np.arange(1, N))\n",
    "        matriz  = sp.sparse.diags(subdiag,offsets=1)\n",
    "        return ObjQuantico_esparso(matriz)\n",
    "    else:\n",
    "        subdiag = np.sqrt(np.arange(1, N)) # Monta os elementos na subdiagonal\n",
    "        matriz  = np.diag(subdiag, k=1) # Operador de destruição\n",
    "        return ObjQuantico(matriz) "
   ]
  },
  {
   "cell_type": "code",
   "execution_count": 71,
   "metadata": {},
   "outputs": [
    {
     "data": {
      "text/latex": [
       "$\\displaystyle \\left[\\begin{matrix}1.0 & 0.0 & 0.0 & 0.0\\\\0.0 & 1.0 & 0.0 & 0.0\\\\0.0 & 0.0 & 0.0 & 0.0\\\\0.0 & 0.0 & 0.0 & 0.0\\end{matrix}\\right]$"
      ],
      "text/plain": [
       "<IPython.core.display.Math object>"
      ]
     },
     "metadata": {},
     "output_type": "display_data"
    },
    {
     "data": {
      "text/plain": [
       "ObjQuantico: dim =4 , shape = (4, 4)"
      ]
     },
     "execution_count": 71,
     "metadata": {},
     "output_type": "execute_result"
    }
   ],
   "source": [
    "basefock = 2\n",
    "\n",
    "a =destruiçao(basefock,sparsa=True)@Identidade(2,sparsa=True)\n",
    "a*(a.dag())\n"
   ]
  },
  {
   "cell_type": "markdown",
   "metadata": {},
   "source": [
    "### Criação"
   ]
  },
  {
   "cell_type": "code",
   "execution_count": 72,
   "metadata": {},
   "outputs": [],
   "source": [
    "def criaçao(N,sparsa=False):\n",
    "    return  destruiçao(N,sparsa=sparsa).dag()    \n",
    "   "
   ]
  },
  {
   "cell_type": "markdown",
   "metadata": {},
   "source": [
    "### Operador x e P"
   ]
  },
  {
   "cell_type": "code",
   "execution_count": 73,
   "metadata": {},
   "outputs": [],
   "source": [
    "def operador_p(N,sparsa=False):\n",
    "    return -1j*(destruiçao(N,sparsa) - criaçao(N,sparsa))/np.sqrt(2)   "
   ]
  },
  {
   "cell_type": "code",
   "execution_count": 74,
   "metadata": {},
   "outputs": [
    {
     "name": "stdout",
     "output_type": "stream",
     "text": [
      "<Compressed Sparse Row sparse matrix of dtype 'complex128'\n",
      "\twith 4 stored elements and shape (3, 3)>\n",
      "  Coords\tValues\n",
      "  (0, 1)\t-0.7071067811865475j\n",
      "  (1, 0)\t0.7071067811865475j\n",
      "  (1, 2)\t-1j\n",
      "  (2, 1)\t1j\n"
     ]
    }
   ],
   "source": [
    "print(operador_p(3,sparsa=True).full_sparsa())"
   ]
  },
  {
   "cell_type": "code",
   "execution_count": 75,
   "metadata": {},
   "outputs": [],
   "source": [
    "def operador_x(N,sparsa=False):\n",
    "    return (destruiçao(N,sparsa) + criaçao(N,sparsa))/np.sqrt(2) "
   ]
  },
  {
   "cell_type": "code",
   "execution_count": 76,
   "metadata": {},
   "outputs": [
    {
     "name": "stdout",
     "output_type": "stream",
     "text": [
      "<DIAgonal sparse matrix of dtype 'float64'\n",
      "\twith 4 stored elements (2 diagonals) and shape (3, 3)>\n",
      "  Coords\tValues\n",
      "  (1, 0)\t0.7071067811865475\n",
      "  (2, 1)\t1.0\n",
      "  (0, 1)\t0.7071067811865475\n",
      "  (1, 2)\t1.0\n"
     ]
    }
   ],
   "source": [
    "print(operador_x(3,sparsa=True).full_sparsa())"
   ]
  },
  {
   "cell_type": "markdown",
   "metadata": {},
   "source": [
    "### Matrizes de pauli"
   ]
  },
  {
   "cell_type": "code",
   "execution_count": 77,
   "metadata": {},
   "outputs": [],
   "source": [
    "def pauliX(sparsa=False):\n",
    "    latex_representation = r\"$$ \\hat{\\sigma_x} $$\"\n",
    "    if sparsa ==  False:\n",
    "        m = np.array([[ 0, 1 ],[ 1, 0 ]])\n",
    "        return ObjQuantico(m,latex_representation)\n",
    "    else:\n",
    "        # Criando a matriz diretamente no formato esparso COO\n",
    "        data = [1, 1]\n",
    "        row = [0, 1]\n",
    "        col = [1, 0]\n",
    "        m   = sp.sparse.coo_array((data, (row, col)), shape=(2, 2))\n",
    "        return ObjQuantico_esparso(m,latex_representation) \n",
    "\n",
    "def pauliY(sparsa=False):\n",
    "    latex_representation = r\"$$ \\hat{\\sigma_y} $$\"\n",
    "    \n",
    "    if sparsa:\n",
    "        # Criando a matriz diretamente no formato esparso COO\n",
    "        data = [-1j, 1j]\n",
    "        row = [0, 1]\n",
    "        col = [1, 0]\n",
    "        m   = sp.sparse.coo_array((data, (row, col)), shape=(2, 2))\n",
    "        return ObjQuantico_esparso(m, latex_representation)\n",
    "    else:\n",
    "        # Criando a matriz no formato denso\n",
    "        m = np.array([[0, -1j], [1j, 0]])\n",
    "        return ObjQuantico(m, latex_representation)\n",
    "\n",
    "def pauliZ(sparsa=False):\n",
    "    latex_representation = r\"$$ \\hat{\\sigma_z} $$\"\n",
    "    \n",
    "    if sparsa:\n",
    "        # Criando a matriz diretamente no formato esparso COO\n",
    "        data = [1, -1]\n",
    "        row = [0, 1]\n",
    "        col = [0, 1]\n",
    "        m   =  sp.sparse.coo_array((data, (row, col)), shape=(2, 2))\n",
    "        return ObjQuantico_esparso(m, latex_representation)\n",
    "    else:\n",
    "        # Criando a matriz no formato denso\n",
    "        m = np.array([[1, 0], [0, -1]])\n",
    "        return ObjQuantico(m, latex_representation)"
   ]
  },
  {
   "cell_type": "code",
   "execution_count": 78,
   "metadata": {},
   "outputs": [
    {
     "data": {
      "text/latex": [
       "$\\displaystyle  \\hat{\\sigma_y} $"
      ],
      "text/plain": [
       "<IPython.core.display.Math object>"
      ]
     },
     "metadata": {},
     "output_type": "display_data"
    },
    {
     "data": {
      "text/plain": [
       "ObjQuantico: dim =2 , shape = (2, 2)"
      ]
     },
     "execution_count": 78,
     "metadata": {},
     "output_type": "execute_result"
    }
   ],
   "source": [
    "m = pauliY(sparsa=True)\n",
    "m"
   ]
  },
  {
   "cell_type": "code",
   "execution_count": 79,
   "metadata": {},
   "outputs": [
    {
     "name": "stdout",
     "output_type": "stream",
     "text": [
      "<COOrdinate sparse array of dtype 'complex128'\n",
      "\twith 2 stored elements and shape (2, 2)>\n",
      "  Coords\tValues\n",
      "  (0, 1)\t(-0-1j)\n",
      "  (1, 0)\t1j\n"
     ]
    }
   ],
   "source": [
    "print(m.full_sparsa())"
   ]
  },
  {
   "cell_type": "code",
   "execution_count": 80,
   "metadata": {},
   "outputs": [
    {
     "data": {
      "text/plain": [
       "0.0"
      ]
     },
     "execution_count": 80,
     "metadata": {},
     "output_type": "execute_result"
    }
   ],
   "source": [
    "m.traço()"
   ]
  },
  {
   "cell_type": "code",
   "execution_count": 81,
   "metadata": {},
   "outputs": [
    {
     "data": {
      "text/latex": [
       "$\\displaystyle \\left[\\begin{matrix}0 & - 1.0 i\\\\1.0 i & 0\\end{matrix}\\right]$"
      ],
      "text/plain": [
       "<IPython.core.display.Math object>"
      ]
     },
     "metadata": {},
     "output_type": "display_data"
    },
    {
     "data": {
      "text/plain": [
       "ObjQuantico: dim =2 , shape = (2, 2)"
      ]
     },
     "execution_count": 81,
     "metadata": {},
     "output_type": "execute_result"
    }
   ],
   "source": [
    "m.dag()"
   ]
  },
  {
   "cell_type": "code",
   "execution_count": 82,
   "metadata": {},
   "outputs": [
    {
     "data": {
      "text/latex": [
       "$\\displaystyle \\left[\\begin{matrix}0 & 0 & 0 & -1.0\\\\0 & 0 & 1.0 & 0\\\\0 & 1.0 & 0 & 0\\\\-1.0 & 0 & 0 & 0\\end{matrix}\\right]$"
      ],
      "text/plain": [
       "<IPython.core.display.Math object>"
      ]
     },
     "metadata": {},
     "output_type": "display_data"
    },
    {
     "data": {
      "text/plain": [
       "ObjQuantico: dim =4 , shape = (4, 4)"
      ]
     },
     "execution_count": 82,
     "metadata": {},
     "output_type": "execute_result"
    }
   ],
   "source": [
    "m @ m.dag()"
   ]
  },
  {
   "cell_type": "markdown",
   "metadata": {},
   "source": [
    "### Matriz densidade"
   ]
  },
  {
   "cell_type": "code",
   "execution_count": 83,
   "metadata": {},
   "outputs": [],
   "source": [
    "def matrizdensidade(probabilities=None, estados=None, puro=True,sparsa=False): \n",
    "    if puro == True:\n",
    "        rho = estados*estados.dag()\n",
    "        if sparsa==True:\n",
    "            return ObjQuantico_esparso(sp.sparse.coo_array(rho.full()))\n",
    "        else:\n",
    "            return rho\n",
    "    \n",
    "    else:    \n",
    "        # Verificar se as probabilidades somam 1\n",
    "        if not np.isclose(sum(probabilities), 1):\n",
    "            raise ValueError(\"As probabilidades devem somar 1.\")\n",
    "        \n",
    "        # Verificar se cada estado está normalizado\n",
    "        for state in estados:\n",
    "            if not np.isclose(np.linalg.norm(state.full()), 1):\n",
    "                raise ValueError(\"Todos os estados devem ser normalizados.\")\n",
    "             \n",
    "        # Criar a matriz densidade\n",
    "        dimensao = estados[0].full().shape[0] # pega o primeiro estado, em seguida a dimensao do estado\n",
    "        rho = np.zeros((dimensao, dimensao), dtype=complex)\n",
    "        for p, state in zip(probabilities, estados):\n",
    "            rho += p * np.outer(state.full(), state.dag().full())  # |ψ⟩⟨ψ|\n",
    "            \n",
    "        if sparsa == True:\n",
    "            return ObjQuantico_esparso(sp.sparse.coo_array(rho))\n",
    "        else:\n",
    "            return ObjQuantico(rho)"
   ]
  },
  {
   "cell_type": "code",
   "execution_count": 84,
   "metadata": {},
   "outputs": [
    {
     "data": {
      "text/latex": [
       "$\\displaystyle \\left[\\begin{matrix}0\\\\1.0\\\\0\\end{matrix}\\right]$"
      ],
      "text/plain": [
       "<IPython.core.display.Math object>"
      ]
     },
     "metadata": {},
     "output_type": "display_data"
    },
    {
     "data": {
      "text/plain": [
       "ObjQuantico: dim =3 , shape = (3, 1)"
      ]
     },
     "execution_count": 84,
     "metadata": {},
     "output_type": "execute_result"
    }
   ],
   "source": [
    "estado = bases(N=3,n=1)\n",
    "estado"
   ]
  },
  {
   "cell_type": "code",
   "execution_count": 85,
   "metadata": {},
   "outputs": [
    {
     "data": {
      "text/latex": [
       "$\\displaystyle \\left[\\begin{matrix}0 & 0 & 0\\\\0 & 1.0 & 0\\\\0 & 0 & 0\\end{matrix}\\right]$"
      ],
      "text/plain": [
       "<IPython.core.display.Math object>"
      ]
     },
     "metadata": {},
     "output_type": "display_data"
    },
    {
     "data": {
      "text/plain": [
       "ObjQuantico: dim =3 , shape = (3, 3)"
      ]
     },
     "execution_count": 85,
     "metadata": {},
     "output_type": "execute_result"
    }
   ],
   "source": [
    "matrizdensidade(estados=estado) # densa"
   ]
  },
  {
   "cell_type": "code",
   "execution_count": 86,
   "metadata": {},
   "outputs": [
    {
     "data": {
      "text/latex": [
       "$\\displaystyle \\left[\\begin{matrix}0 & 0 & 0\\\\0 & 1.0 & 0\\\\0 & 0 & 0\\end{matrix}\\right]$"
      ],
      "text/plain": [
       "<IPython.core.display.Math object>"
      ]
     },
     "metadata": {},
     "output_type": "display_data"
    },
    {
     "data": {
      "text/plain": [
       "ObjQuantico: dim =3 , shape = (3, 3)"
      ]
     },
     "execution_count": 86,
     "metadata": {},
     "output_type": "execute_result"
    }
   ],
   "source": [
    "matrizdensidade(estados=estado,sparsa=True) # Esparsa"
   ]
  },
  {
   "cell_type": "code",
   "execution_count": 87,
   "metadata": {},
   "outputs": [
    {
     "data": {
      "text/plain": [
       "<COOrdinate sparse array of dtype 'complex128'\n",
       "\twith 1 stored elements and shape (3, 3)>"
      ]
     },
     "execution_count": 87,
     "metadata": {},
     "output_type": "execute_result"
    }
   ],
   "source": [
    "matrizdensidade(estados=estado,sparsa=True).full_sparsa() # Esparsa"
   ]
  },
  {
   "cell_type": "code",
   "execution_count": 88,
   "metadata": {},
   "outputs": [
    {
     "data": {
      "text/latex": [
       "$\\displaystyle \\left[\\begin{matrix}0.25 & 0 & 0\\\\0 & 0.25 & 0\\\\0 & 0 & 0.5\\end{matrix}\\right]$"
      ],
      "text/plain": [
       "<IPython.core.display.Math object>"
      ]
     },
     "metadata": {},
     "output_type": "display_data"
    },
    {
     "data": {
      "text/plain": [
       "ObjQuantico: dim =3 , shape = (3, 3)"
      ]
     },
     "execution_count": 88,
     "metadata": {},
     "output_type": "execute_result"
    }
   ],
   "source": [
    "estados = [bases(N=3,n=0),bases(N=3,n=1),bases(N=3,n=2)]\n",
    "probabilidades = [0.25,0.25,0.5]\n",
    "\n",
    "matrizdensidade(probabilidades, estados, puro=False,sparsa=False)"
   ]
  },
  {
   "cell_type": "code",
   "execution_count": 89,
   "metadata": {},
   "outputs": [
    {
     "name": "stdout",
     "output_type": "stream",
     "text": [
      "<COOrdinate sparse array of dtype 'complex128'\n",
      "\twith 3 stored elements and shape (3, 3)>\n",
      "  Coords\tValues\n",
      "  (0, 0)\t(0.25+0j)\n",
      "  (1, 1)\t(0.25+0j)\n",
      "  (2, 2)\t(0.5+0j)\n"
     ]
    }
   ],
   "source": [
    "print(matrizdensidade(probabilidades, estados, puro=False,sparsa=True).full_sparsa())"
   ]
  },
  {
   "cell_type": "markdown",
   "metadata": {},
   "source": [
    "## Convertendo todos os estado"
   ]
  },
  {
   "cell_type": "markdown",
   "metadata": {},
   "source": [
    "### Bases"
   ]
  },
  {
   "cell_type": "code",
   "execution_count": 90,
   "metadata": {},
   "outputs": [],
   "source": [
    "def bases(N,n,sparsa=False):\n",
    "    if sparsa == False:\n",
    "        estadoinicial = np.zeros(shape=(N, 1),dtype=complex)\n",
    "        estadoinicial[n, 0] = 1\n",
    "        return ObjQuantico(estadoinicial) \n",
    "    else:\n",
    "        estadoinicial = sp.sparse.lil_array((N, 1),dtype=complex)\n",
    "        estadoinicial[n:n+1] =  1 \n",
    "        return ObjQuantico_esparso(estadoinicial) \n"
   ]
  },
  {
   "cell_type": "code",
   "execution_count": 91,
   "metadata": {},
   "outputs": [
    {
     "data": {
      "text/latex": [
       "$\\displaystyle \\left[\\begin{matrix}0\\\\1.0\\\\0\\\\0\\\\0\\end{matrix}\\right]$"
      ],
      "text/plain": [
       "<IPython.core.display.Math object>"
      ]
     },
     "metadata": {},
     "output_type": "display_data"
    },
    {
     "data": {
      "text/plain": [
       "ObjQuantico: dim =5 , shape = (5, 1)"
      ]
     },
     "execution_count": 91,
     "metadata": {},
     "output_type": "execute_result"
    }
   ],
   "source": [
    "N = 5\n",
    "n = 1\n",
    "bases(N,n)"
   ]
  },
  {
   "cell_type": "code",
   "execution_count": 92,
   "metadata": {},
   "outputs": [
    {
     "data": {
      "text/latex": [
       "$\\displaystyle \\left[\\begin{matrix}0\\\\1.0\\\\0\\\\0\\\\0\\end{matrix}\\right]$"
      ],
      "text/plain": [
       "<IPython.core.display.Math object>"
      ]
     },
     "metadata": {},
     "output_type": "display_data"
    },
    {
     "data": {
      "text/plain": [
       "ObjQuantico: dim =5 , shape = (5, 1)"
      ]
     },
     "execution_count": 92,
     "metadata": {},
     "output_type": "execute_result"
    }
   ],
   "source": [
    "bases(N,n,sparsa=True)"
   ]
  },
  {
   "cell_type": "markdown",
   "metadata": {},
   "source": [
    "### kets e bras"
   ]
  },
  {
   "cell_type": "code",
   "execution_count": 93,
   "metadata": {},
   "outputs": [],
   "source": [
    "def ket(entrada,sparsa=False):\n",
    "    if isinstance(entrada, (int, float)) or (isinstance(entrada, str) and entrada in ('0', '1')):\n",
    "        \n",
    "        latex_representation = rf\"$$ \\ket{entrada} $$\"\n",
    "        \n",
    "        if sparsa == False:\n",
    "            dados = bases(N=2,n=int(entrada),sparsa=sparsa).full()\n",
    "            return ObjQuantico(dados, latex_representation)\n",
    "        else:\n",
    "            dados = bases(N=2,n=int(entrada),sparsa=sparsa).full_sparsa()\n",
    "            return ObjQuantico_esparso(dados, latex_representation)\n",
    "    else:\n",
    "        print(\"Entrada invalida / tente usar outra função( sugestão bases) \")\n",
    "    "
   ]
  },
  {
   "cell_type": "code",
   "execution_count": 94,
   "metadata": {},
   "outputs": [
    {
     "data": {
      "text/latex": [
       "$\\displaystyle  \\ket0 $"
      ],
      "text/plain": [
       "<IPython.core.display.Math object>"
      ]
     },
     "metadata": {},
     "output_type": "display_data"
    },
    {
     "data": {
      "text/latex": [
       "$\\displaystyle  \\ket1 $"
      ],
      "text/plain": [
       "<IPython.core.display.Math object>"
      ]
     },
     "metadata": {},
     "output_type": "display_data"
    },
    {
     "data": {
      "text/plain": [
       "(ObjQuantico: dim =2 , shape = (2, 1), ObjQuantico: dim =2 , shape = (2, 1))"
      ]
     },
     "execution_count": 94,
     "metadata": {},
     "output_type": "execute_result"
    }
   ],
   "source": [
    "ket(0),ket(1)"
   ]
  },
  {
   "cell_type": "code",
   "execution_count": 95,
   "metadata": {},
   "outputs": [
    {
     "data": {
      "text/plain": [
       "(<List of Lists sparse array of dtype 'complex128'\n",
       " \twith 1 stored elements and shape (2, 1)>,\n",
       " <List of Lists sparse array of dtype 'complex128'\n",
       " \twith 1 stored elements and shape (2, 1)>)"
      ]
     },
     "execution_count": 95,
     "metadata": {},
     "output_type": "execute_result"
    }
   ],
   "source": [
    "ket(0,sparsa=True).full_sparsa(),ket(1,sparsa=True).full_sparsa()"
   ]
  },
  {
   "cell_type": "code",
   "execution_count": 96,
   "metadata": {},
   "outputs": [],
   "source": [
    "def bra(entrada,sparsa=False):\n",
    "    if isinstance(entrada, (int, float)) or (isinstance(entrada, str) and entrada in ('0', '1')):\n",
    "        \n",
    "        latex_representation = rf\"$$ \\bra{entrada} $$\"\n",
    "        \n",
    "        if sparsa == False:\n",
    "            dados = bases(N=2,n=int(entrada),sparsa=sparsa).dag().full()\n",
    "            return ObjQuantico(dados, latex_representation)\n",
    "        else:\n",
    "            dados = bases(N=2,n=int(entrada),sparsa=sparsa).dag().full_sparsa()\n",
    "            return ObjQuantico_esparso(dados, latex_representation)\n",
    "    else:\n",
    "        print(\"Entrada invalida / tente usar outra função( sugestão bases) \")\n",
    "    "
   ]
  },
  {
   "cell_type": "code",
   "execution_count": 97,
   "metadata": {},
   "outputs": [
    {
     "data": {
      "text/latex": [
       "$\\displaystyle  \\bra0 $"
      ],
      "text/plain": [
       "<IPython.core.display.Math object>"
      ]
     },
     "metadata": {},
     "output_type": "display_data"
    },
    {
     "data": {
      "text/latex": [
       "$\\displaystyle  \\bra1 $"
      ],
      "text/plain": [
       "<IPython.core.display.Math object>"
      ]
     },
     "metadata": {},
     "output_type": "display_data"
    },
    {
     "data": {
      "text/plain": [
       "(ObjQuantico: dim =1 , shape = (1, 2),\n",
       " ObjQuantico: dim =1 , shape = (1, 2),\n",
       " array([[1.-0.j, 0.-0.j]]),\n",
       " array([[0.-0.j, 1.-0.j]]))"
      ]
     },
     "execution_count": 97,
     "metadata": {},
     "output_type": "execute_result"
    }
   ],
   "source": [
    "bra(0),bra(1),bra(0).full(),bra(1).full()"
   ]
  },
  {
   "cell_type": "code",
   "execution_count": 98,
   "metadata": {},
   "outputs": [
    {
     "data": {
      "text/latex": [
       "$\\displaystyle  \\bra0 $"
      ],
      "text/plain": [
       "<IPython.core.display.Math object>"
      ]
     },
     "metadata": {},
     "output_type": "display_data"
    },
    {
     "data": {
      "text/latex": [
       "$\\displaystyle  \\bra1 $"
      ],
      "text/plain": [
       "<IPython.core.display.Math object>"
      ]
     },
     "metadata": {},
     "output_type": "display_data"
    },
    {
     "data": {
      "text/plain": [
       "(ObjQuantico: dim =1 , shape = (1, 2), ObjQuantico: dim =1 , shape = (1, 2))"
      ]
     },
     "execution_count": 98,
     "metadata": {},
     "output_type": "execute_result"
    }
   ],
   "source": [
    "bra(0,sparsa=True),bra(1,sparsa=True)"
   ]
  },
  {
   "cell_type": "markdown",
   "metadata": {},
   "source": [
    "### Fock"
   ]
  },
  {
   "cell_type": "code",
   "execution_count": 99,
   "metadata": {},
   "outputs": [],
   "source": [
    "def Fock(N, n=0,sparsa=False):\n",
    "    return bases(N, n,sparsa)"
   ]
  },
  {
   "cell_type": "code",
   "execution_count": 100,
   "metadata": {},
   "outputs": [
    {
     "data": {
      "text/latex": [
       "$\\displaystyle \\left[\\begin{matrix}1.0\\\\0\\\\0\\\\0\\\\0\\\\0\\\\0\\\\0\\\\0\\\\0\\end{matrix}\\right]$"
      ],
      "text/plain": [
       "<IPython.core.display.Math object>"
      ]
     },
     "metadata": {},
     "output_type": "display_data"
    },
    {
     "data": {
      "text/plain": [
       "ObjQuantico: dim =10 , shape = (10, 1)"
      ]
     },
     "execution_count": 100,
     "metadata": {},
     "output_type": "execute_result"
    }
   ],
   "source": [
    "Fock(N=10)"
   ]
  },
  {
   "cell_type": "markdown",
   "metadata": {},
   "source": [
    "### Coerente"
   ]
  },
  {
   "cell_type": "code",
   "execution_count": 101,
   "metadata": {},
   "outputs": [],
   "source": [
    "def coerente(N,alpha,metodo =\"operador\",sparsa = False):\n",
    "    \n",
    "    if metodo == \"operador\" :\n",
    "        estado  = bases(N,0,sparsa) # estado inicinal no vacuo\n",
    "        D       = alpha * destruiçao(N,sparsa).dag() - np.conj(alpha) * destruiçao(N,sparsa)\n",
    "        D       = D.expM()\n",
    "        return D*estado\n",
    "        \n",
    "    elif metodo == \"analitico\":    # implementar o metodo de matrizes esparsas\n",
    "        if sparsa ==False:\n",
    "            estado  = np.zeros(shape=(N,1),dtype=complex)\n",
    "            n       = np.arange(N)\n",
    "            estado[:,0] = np.exp(-(abs(alpha) ** 2 )/ 2.0) * (alpha**n)/np.sqrt(sp.special.factorial(n))\n",
    "            return ObjQuantico(estado)     \n",
    "        else:\n",
    "            estado = sp.sparse.lil_array((N, 1),dtype=complex)\n",
    "            estado[:] = np.exp(-(abs(alpha) ** 2 )/ 2.0) * (alpha**np.arange(N))/np.sqrt(sp.special.factorial(np.arange(N)))\n",
    "            return ObjQuantico_esparso(estado)   \n",
    "    else:\n",
    "        raise TypeError(\n",
    "            \"A opção de método tem as seguintes opções :'operador' ou 'analitico'\")"
   ]
  },
  {
   "cell_type": "code",
   "execution_count": 102,
   "metadata": {},
   "outputs": [
    {
     "data": {
      "text/latex": [
       "$\\displaystyle \\left[\\begin{matrix}0.995012479192682\\\\0.0995012479192682\\\\0.00703580071402384\\end{matrix}\\right]$"
      ],
      "text/plain": [
       "<IPython.core.display.Math object>"
      ]
     },
     "metadata": {},
     "output_type": "display_data"
    },
    {
     "data": {
      "text/plain": [
       "ObjQuantico: dim =3 , shape = (3, 1)"
      ]
     },
     "execution_count": 102,
     "metadata": {},
     "output_type": "execute_result"
    }
   ],
   "source": [
    "alpha = 0.1\n",
    "N=3\n",
    "coerente(N,alpha,metodo=\"analitico\")"
   ]
  },
  {
   "cell_type": "code",
   "execution_count": 103,
   "metadata": {},
   "outputs": [
    {
     "data": {
      "text/latex": [
       "$\\displaystyle \\left[\\begin{matrix}0.995012479192682\\\\0.0995012479192682\\\\0.00703580071402384\\end{matrix}\\right]$"
      ],
      "text/plain": [
       "<IPython.core.display.Math object>"
      ]
     },
     "metadata": {},
     "output_type": "display_data"
    },
    {
     "data": {
      "text/plain": [
       "ObjQuantico: dim =3 , shape = (3, 1)"
      ]
     },
     "execution_count": 103,
     "metadata": {},
     "output_type": "execute_result"
    }
   ],
   "source": [
    "coerente(N,alpha,metodo=\"analitico\",sparsa=True)"
   ]
  },
  {
   "cell_type": "code",
   "execution_count": 104,
   "metadata": {},
   "outputs": [
    {
     "data": {
      "text/latex": [
       "$\\displaystyle \\left[\\begin{matrix}0.995012487506694\\\\0.0995007494645089\\\\0.00705340781053832\\end{matrix}\\right]$"
      ],
      "text/plain": [
       "<IPython.core.display.Math object>"
      ]
     },
     "metadata": {},
     "output_type": "display_data"
    },
    {
     "data": {
      "text/plain": [
       "ObjQuantico: dim =3 , shape = (3, 1)"
      ]
     },
     "execution_count": 104,
     "metadata": {},
     "output_type": "execute_result"
    }
   ],
   "source": [
    "coerente(N,alpha,metodo=\"operador\",sparsa=True)"
   ]
  },
  {
   "cell_type": "markdown",
   "metadata": {},
   "source": [
    "# Convertendo o solve"
   ]
  },
  {
   "cell_type": "markdown",
   "metadata": {},
   "source": [
    "### TODO List: Criar um Solver para Resolver EDO Linear de Primeira Ordem\n",
    "\n",
    "1. **Definir a EDO Linear de Primeira Ordem:**\n",
    "    - Definir a equação diferencial dx/dt = A(t)x + b, onde A é uma matriz esparsa e b é um vetor.\n",
    "\n",
    "2. **Importar Bibliotecas Necessárias:**\n",
    "    - Importar `numpy` para operações numéricas.\n",
    "    - Importar `scipy.sparse` para manipulação de matrizes esparsas.\n",
    "    - Importar `scipy.integrate` para métodos de integração.\n",
    "\n",
    "3. **Definir a Função para a EDO:**\n",
    "    - Criar uma função que representa a EDO dx/dt = A(t)x + b.\n",
    "\n",
    "4. **Configurar Parâmetros Iniciais:**\n",
    "    - Definir os valores iniciais para t0, tf, e y0.\n",
    "    - Definir a matriz esparsa A e o vetor b.\n",
    "\n",
    "5. **Escolher o Método de Integração:**\n",
    "    - Selecionar um método de integração adequado, como `solve_ivp` do `scipy.integrate`.\n",
    "\n",
    "6. **Implementar o Solver:**\n",
    "    - Implementar o solver utilizando `solve_ivp` para resolver a EDO.\n",
    "\n",
    "7. **Testar o Solver:**\n",
    "    - Testar o solver com diferentes matrizes esparsas A e vetores b.\n",
    "    - Verificar a precisão e eficiência do solver.\n",
    "\n",
    "8. **Visualizar os Resultados:**\n",
    "    - Plotar os resultados da solução da EDO.\n",
    "    - Analisar o comportamento da solução ao longo do tempo.\n",
    "\n",
    "9. **Documentar o Código:**\n",
    "    - Adicionar comentários e documentação ao código para facilitar a compreensão.\n",
    "\n",
    "10. **Otimizar o Código:**\n",
    "     - Otimizar o código para melhorar a performance, se necessário.\n",
    "\n",
    "11. **Salvar e Compartilhar:**\n",
    "     - Salvar o notebook e compartilhar com colegas para revisão e feedback."
   ]
  },
  {
   "cell_type": "markdown",
   "metadata": {},
   "source": []
  }
 ],
 "metadata": {
  "colab": {
   "authorship_tag": "ABX9TyM9r6l/WF+NtqPeBxfXj7g+",
   "include_colab_link": true,
   "provenance": []
  },
  "kernelspec": {
   "display_name": "teste_qbasic",
   "language": "python",
   "name": "python3"
  },
  "language_info": {
   "codemirror_mode": {
    "name": "ipython",
    "version": 3
   },
   "file_extension": ".py",
   "mimetype": "text/x-python",
   "name": "python",
   "nbconvert_exporter": "python",
   "pygments_lexer": "ipython3",
   "version": "3.10.16"
  }
 },
 "nbformat": 4,
 "nbformat_minor": 0
}
