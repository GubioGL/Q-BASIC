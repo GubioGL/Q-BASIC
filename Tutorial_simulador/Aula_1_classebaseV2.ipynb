{
 "cells": [
  {
   "cell_type": "markdown",
   "metadata": {
    "id": "-a7Cw_ynlJmy"
   },
   "source": [
    "# Aula 1 : Melhorando a visualização da saida."
   ]
  },
  {
   "cell_type": "code",
   "execution_count": 1,
   "metadata": {
    "id": "78Wutb-Ik1xJ"
   },
   "outputs": [],
   "source": [
    "import numpy as np\n",
    "import sympy as sp\n",
    "\n",
    "from scipy.linalg import expm\n",
    "from IPython.display import display, Math\n",
    "\n"
   ]
  },
  {
   "cell_type": "code",
   "execution_count": 2,
   "metadata": {},
   "outputs": [],
   "source": [
    "class ObjQuantico:\n",
    "    def __init__(self, data):\n",
    "        self.dados = data\n",
    "\n",
    "    def definir_dados(self, data):\n",
    "        self.dados = data\n",
    "\n",
    "    def full(self):\n",
    "        return self.dados\n",
    "    \n",
    "    def dim(self):\n",
    "        return len(self.dados)\n",
    "    \n",
    "    def dag(self):\n",
    "        return ObjQuantico(np.conjugate(self.dados.T))\n",
    "    \n",
    "    def traço(self):\n",
    "        return np.trace(self.dados).real\n",
    "    \n",
    "    def Autovalores(self):\n",
    "        return np.linalg.eigvals(self.dados)\n",
    "    \n",
    "    def Autovetores(self):\n",
    "        return np.linalg.eig(self.dados)[1]\n",
    "    \n",
    "    def AutoValor_vetor(self):\n",
    "        return np.linalg.eig(self.dados)[1]    \n",
    "    \n",
    "    def __repr__(self):\n",
    "        centered_latex = \"$$ \" + sp.latex(sp.Matrix(self.dados)) + \" $$\"\n",
    "        display(Math(centered_latex))\n",
    "        return f\"ObjQuantico: dim ={self.dim()} , shape = {self.dados.shape}\" \n",
    "def bases(N,n):\n",
    "    estadoinicial = np.zeros(shape=(N, 1))\n",
    "    estadoinicial[n, 0] = 1\n",
    "    return ObjQuantico(estadoinicial) \n"
   ]
  },
  {
   "cell_type": "markdown",
   "metadata": {},
   "source": [
    "$$\\ket{0} =  \\left(\\begin{matrix}1.0\\\\0.0\\\\\\end{matrix}\\right)$$"
   ]
  },
  {
   "cell_type": "code",
   "execution_count": 3,
   "metadata": {},
   "outputs": [
    {
     "data": {
      "text/latex": [
       "$\\displaystyle  \\left[\\begin{matrix}1.0\\\\0\\end{matrix}\\right] $"
      ],
      "text/plain": [
       "<IPython.core.display.Math object>"
      ]
     },
     "metadata": {},
     "output_type": "display_data"
    },
    {
     "data": {
      "text/plain": [
       "ObjQuantico: dim =2 , shape = (2, 1)"
      ]
     },
     "execution_count": 3,
     "metadata": {},
     "output_type": "execute_result"
    }
   ],
   "source": [
    "bases(2,0)"
   ]
  },
  {
   "cell_type": "markdown",
   "metadata": {},
   "source": [
    "$$\\ket{1} =  \\left(\\begin{matrix}0.0\\\\1.0\\\\\\end{matrix}\\right)$$"
   ]
  },
  {
   "cell_type": "code",
   "execution_count": 4,
   "metadata": {},
   "outputs": [
    {
     "data": {
      "text/latex": [
       "$\\displaystyle  \\left[\\begin{matrix}0\\\\1.0\\end{matrix}\\right] $"
      ],
      "text/plain": [
       "<IPython.core.display.Math object>"
      ]
     },
     "metadata": {},
     "output_type": "display_data"
    },
    {
     "data": {
      "text/plain": [
       "ObjQuantico: dim =2 , shape = (2, 1)"
      ]
     },
     "execution_count": 4,
     "metadata": {},
     "output_type": "execute_result"
    }
   ],
   "source": [
    "bases(2,1)"
   ]
  },
  {
   "cell_type": "markdown",
   "metadata": {},
   "source": [
    "Vetor aleatorio"
   ]
  },
  {
   "cell_type": "code",
   "execution_count": 5,
   "metadata": {},
   "outputs": [
    {
     "data": {
      "text/latex": [
       "$\\displaystyle  \\left[\\begin{matrix}7.0 i\\\\1.0 - 7.0 i\\end{matrix}\\right] $"
      ],
      "text/plain": [
       "<IPython.core.display.Math object>"
      ]
     },
     "metadata": {},
     "output_type": "display_data"
    },
    {
     "data": {
      "text/plain": [
       "ObjQuantico: dim =2 , shape = (2, 1)"
      ]
     },
     "execution_count": 5,
     "metadata": {},
     "output_type": "execute_result"
    }
   ],
   "source": [
    "matriz = np.array([[0+7j],[1-7j]])\n",
    "quantum = ObjQuantico(matriz)\n",
    "quantum"
   ]
  },
  {
   "cell_type": "code",
   "execution_count": 6,
   "metadata": {},
   "outputs": [],
   "source": [
    "def ket(entrada):\n",
    "    if entrada == '0':\n",
    "        return bases(2,0)\n",
    "    elif entrada == '1':\n",
    "        return  bases(2,1)\n",
    "    else:\n",
    "        try:\n",
    "            return ObjQuantico(entrada).full()\n",
    "        except ValueError:\n",
    "            return print(\"Entrada invalida.\")"
   ]
  },
  {
   "cell_type": "code",
   "execution_count": 7,
   "metadata": {},
   "outputs": [
    {
     "data": {
      "text/latex": [
       "$\\displaystyle  \\left[\\begin{matrix}0 & 1.0\\end{matrix}\\right] $"
      ],
      "text/plain": [
       "<IPython.core.display.Math object>"
      ]
     },
     "metadata": {},
     "output_type": "display_data"
    },
    {
     "data": {
      "text/plain": [
       "ObjQuantico: dim =1 , shape = (1, 2)"
      ]
     },
     "execution_count": 7,
     "metadata": {},
     "output_type": "execute_result"
    }
   ],
   "source": [
    "ket('1').dag()"
   ]
  },
  {
   "cell_type": "code",
   "execution_count": 8,
   "metadata": {},
   "outputs": [
    {
     "data": {
      "text/latex": [
       "$\\displaystyle  \\left[\\begin{matrix}0 & 1.0\\end{matrix}\\right] $"
      ],
      "text/plain": [
       "<IPython.core.display.Math object>"
      ]
     },
     "metadata": {},
     "output_type": "display_data"
    },
    {
     "data": {
      "text/plain": [
       "ObjQuantico: dim =1 , shape = (1, 2)"
      ]
     },
     "execution_count": 8,
     "metadata": {},
     "output_type": "execute_result"
    }
   ],
   "source": [
    "ket('1').dag()"
   ]
  },
  {
   "cell_type": "code",
   "execution_count": 9,
   "metadata": {},
   "outputs": [],
   "source": [
    "def bra(entrada):\n",
    "    return ket(entrada).dag()"
   ]
  },
  {
   "cell_type": "code",
   "execution_count": 10,
   "metadata": {},
   "outputs": [
    {
     "data": {
      "text/latex": [
       "$\\displaystyle  \\left[\\begin{matrix}1.0 & 0\\end{matrix}\\right] $"
      ],
      "text/plain": [
       "<IPython.core.display.Math object>"
      ]
     },
     "metadata": {},
     "output_type": "display_data"
    },
    {
     "data": {
      "text/plain": [
       "ObjQuantico: dim =1 , shape = (1, 2)"
      ]
     },
     "execution_count": 10,
     "metadata": {},
     "output_type": "execute_result"
    }
   ],
   "source": [
    "bra(\"0\")"
   ]
  },
  {
   "cell_type": "code",
   "execution_count": 11,
   "metadata": {},
   "outputs": [
    {
     "data": {
      "text/latex": [
       "$\\displaystyle  \\left[\\begin{matrix}1.0\\\\0\\end{matrix}\\right] $"
      ],
      "text/plain": [
       "<IPython.core.display.Math object>"
      ]
     },
     "metadata": {},
     "output_type": "display_data"
    },
    {
     "data": {
      "text/plain": [
       "ObjQuantico: dim =2 , shape = (2, 1)"
      ]
     },
     "execution_count": 11,
     "metadata": {},
     "output_type": "execute_result"
    }
   ],
   "source": [
    "bra(\"0\").dag()"
   ]
  },
  {
   "cell_type": "code",
   "execution_count": 12,
   "metadata": {},
   "outputs": [
    {
     "ename": "TypeError",
     "evalue": "unsupported operand type(s) for *: 'ObjQuantico' and 'ObjQuantico'",
     "output_type": "error",
     "traceback": [
      "\u001b[1;31m---------------------------------------------------------------------------\u001b[0m",
      "\u001b[1;31mTypeError\u001b[0m                                 Traceback (most recent call last)",
      "Cell \u001b[1;32mIn[12], line 1\u001b[0m\n\u001b[1;32m----> 1\u001b[0m \u001b[43mnp\u001b[49m\u001b[38;5;241;43m.\u001b[39;49m\u001b[43mdot\u001b[49m\u001b[43m(\u001b[49m\u001b[43mket\u001b[49m\u001b[43m(\u001b[49m\u001b[38;5;124;43m'\u001b[39;49m\u001b[38;5;124;43m1\u001b[39;49m\u001b[38;5;124;43m'\u001b[39;49m\u001b[43m)\u001b[49m\u001b[43m,\u001b[49m\u001b[43mbra\u001b[49m\u001b[43m(\u001b[49m\u001b[38;5;124;43m\"\u001b[39;49m\u001b[38;5;124;43m0\u001b[39;49m\u001b[38;5;124;43m\"\u001b[39;49m\u001b[43m)\u001b[49m\u001b[43m)\u001b[49m\n",
      "\u001b[1;31mTypeError\u001b[0m: unsupported operand type(s) for *: 'ObjQuantico' and 'ObjQuantico'"
     ]
    }
   ],
   "source": [
    "np.dot(ket('1'),bra(\"0\"))"
   ]
  },
  {
   "cell_type": "markdown",
   "metadata": {},
   "source": [
    "Nosso proximo passo é adicionar *, / + e - na classe"
   ]
  }
 ],
 "metadata": {
  "colab": {
   "authorship_tag": "ABX9TyM9r6l/WF+NtqPeBxfXj7g+",
   "include_colab_link": true,
   "provenance": []
  },
  "kernelspec": {
   "display_name": "torch-qutip",
   "language": "python",
   "name": "python3"
  },
  "language_info": {
   "codemirror_mode": {
    "name": "ipython",
    "version": 3
   },
   "file_extension": ".py",
   "mimetype": "text/x-python",
   "name": "python",
   "nbconvert_exporter": "python",
   "pygments_lexer": "ipython3",
   "version": "3.10.13"
  }
 },
 "nbformat": 4,
 "nbformat_minor": 0
}
